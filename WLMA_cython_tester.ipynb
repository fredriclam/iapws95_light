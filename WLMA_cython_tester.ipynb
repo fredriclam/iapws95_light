{
 "cells": [
  {
   "attachments": {},
   "cell_type": "markdown",
   "metadata": {},
   "source": [
    "### Tester for float_mix_functions.conservative_to_pT_WLMA_bn and related"
   ]
  },
  {
   "cell_type": "code",
   "execution_count": 1,
   "metadata": {},
   "outputs": [],
   "source": [
    "%load_ext autoreload\n",
    "%autoreload 2\n",
    "\n",
    "import numpy as np\n",
    "import matplotlib.pyplot as plt\n",
    "import iapws95_light\n",
    "\n",
    "# Cython-backend imports\n",
    "import float_phi_functions\n",
    "import float_mix_functions\n",
    "import iapws95_light_perf\n",
    "import mixtureWLMA\n",
    "from time import perf_counter\n",
    "import scipy.optimize\n",
    "\n",
    "wlma = mixtureWLMA.WLMA()\n",
    "K = wlma.K\n",
    "p_m0 = wlma.p_m0\n",
    "rho_m0 = wlma.rho_m0\n",
    "v_m0 = 1.0 / rho_m0\n",
    "c_v_m0 = wlma.c_v_m0\n",
    "R_a = wlma.R_a\n",
    "gamma_a = wlma.gamma_a\n",
    "rhoc = mixtureWLMA.rhoc\n",
    "Tc = mixtureWLMA.Tc\n",
    "\n",
    "def prim_to_cons(yw, T, rhow, ya):\n",
    "  ''' Map from known primitive quantities to set of conservative variables.'''\n",
    "  p_target = float_phi_functions.p(rhow, T)\n",
    "  if p_target < 1e5 or p_target > 100e6:\n",
    "    # Skip\n",
    "    return (np.nan, np.nan, np.nan)\n",
    "  rhom = rho_m0* (1.0 + (p_target - p_m0) / K)\n",
    "  rhoa = p_target / (R_a * T)\n",
    "  rho_mix = 1.0/(yw / rhow + (1 - yw - ya) / rhom + ya / rhoa)\n",
    "  uw_target = float_phi_functions.u(rhow, T)\n",
    "  um_target = c_v_m0 * T \\\n",
    "    + float_mix_functions.magma_mech_energy(p_target, K , p_m0, rho_m0)\n",
    "  ua_target = R_a / (gamma_a - 1.0) * T\n",
    "  u_target = yw*uw_target + (1-yw-ya)*um_target + ya*ua_target\n",
    "  vol_energy = rho_mix * u_target\n",
    "  return (vol_energy, rho_mix, p_target)"
   ]
  },
  {
   "attachments": {},
   "cell_type": "markdown",
   "metadata": {},
   "source": [
    "#### Spot test"
   ]
  },
  {
   "cell_type": "code",
   "execution_count": 2,
   "metadata": {},
   "outputs": [
    {
     "data": {
      "text/plain": [
       "{'rhow': 70.09333333260602, 'p': 184976.5440599357, 'T': 390.909090909091}"
      ]
     },
     "execution_count": 2,
     "metadata": {},
     "output_type": "execute_result"
    }
   ],
   "source": [
    "\"\"\" Spot test \"\"\"\n",
    "vol_energy, rho_mix, yw, ya = (3047131395.430944, 2598.3294372189876, 1e-07, 1e-07)\n",
    "\n",
    "params = {\n",
    "  \"vol_energy\": vol_energy,\n",
    "  \"rho_mix\": rho_mix,\n",
    "  \"yw\": yw,\n",
    "  \"ya\": ya,\n",
    "  \"K\": K,\n",
    "  \"p_m0\": p_m0,\n",
    "  \"rho_m0\": rho_m0,\n",
    "  \"c_v_m0\": c_v_m0,\n",
    "  \"R_a\": R_a,\n",
    "  \"gamma_a\": gamma_a,\n",
    "}\n",
    "\n",
    "# Create simple global logger\n",
    "class SimpleLogger():\n",
    "  def __init__(self):\n",
    "    self.curr_log = []\n",
    "    self.all_logs = [self.curr_log]\n",
    "  def log(self, level, data):\n",
    "    self.curr_log.append((level, data))\n",
    "  def create_new_log(self):\n",
    "    self.curr_log = []\n",
    "    self.all_logs.append(self.curr_log)\n",
    "  def pop_log(self):\n",
    "    return self.all_logs.pop()\n",
    "logger = SimpleLogger()\n",
    "\n",
    "# Single backtrack step\n",
    "float_mix_functions.iterate_backtrack_box(0.5, 600, params, logger=False)\n",
    "\n",
    "float_mix_functions.conservative_to_pT_WLMA_bn(\n",
    "  vol_energy, rho_mix, yw, ya,\n",
    "  K, p_m0, rho_m0, c_v_m0,\n",
    "  R_a, gamma_a, logger=logger)"
   ]
  },
  {
   "attachments": {},
   "cell_type": "markdown",
   "metadata": {},
   "source": [
    "#### Grid test"
   ]
  },
  {
   "cell_type": "code",
   "execution_count": 3,
   "metadata": {},
   "outputs": [],
   "source": [
    "# Set test range\n",
    "vec_yw = np.logspace(np.log10(1e-7), np.log10(1-1e-7), 40) #np.linspace(1e-6, 1-1e-7, 24) # 125\n",
    "vec_T = np.linspace(273.16+5, 1500, 96) # 130\n",
    "vec_rhow = np.linspace(0.1, 1260, 48) # 60\n",
    "vec_ya = np.linspace(1e-7, 1-1e-7, 52)\n",
    "\n",
    "mg_yw, mg_T, mg_rhow, mg_ya = np.meshgrid(\n",
    "  vec_yw, vec_T, vec_rhow, vec_ya, indexing=\"ij\")\n",
    "\n",
    "mg_p_target = np.zeros_like(mg_yw)\n",
    "mg_vol_energy = np.zeros_like(mg_yw)\n",
    "mg_rho_mix = np.zeros_like(mg_yw)\n",
    "\n",
    "# Iteratively load complete conservative state\n",
    "for i, j, k, l in np.ndindex(mg_yw.shape):\n",
    "  if mg_ya[i,j,k,l] + mg_yw[i,j,k,l] <= 1.0:\n",
    "    mg_vol_energy[i,j,k,l], mg_rho_mix[i,j,k,l], mg_p_target[i,j,k,l] = \\\n",
    "      prim_to_cons(mg_yw[i,j,k,l], mg_T[i,j,k,l], mg_rhow[i,j,k,l], mg_ya[i,j,k,l])\n",
    "\n",
    "# Allocate output memory\n",
    "mg_p_calc = np.empty_like(mg_yw)\n",
    "mg_T_calc = np.empty_like(mg_yw)\n"
   ]
  },
  {
   "cell_type": "code",
   "execution_count": 4,
   "metadata": {},
   "outputs": [],
   "source": [
    "_logger = SimpleLogger()\n",
    "# Remove the first entry\n",
    "_logger.pop_log()\n",
    "\n",
    "for i, j, k, l in np.ndindex(mg_yw.shape):\n",
    "  _logger.create_new_log()\n",
    "  # Skip nan inputs\n",
    "  if np.isnan(mg_yw[i,j,k,l]) \\\n",
    "      or np.isnan(mg_vol_energy[i,j,k,l]) \\\n",
    "      or np.isnan(mg_rho_mix[i,j,k,l]):\n",
    "    mg_p_calc[i,j,k,l] = 0.0\n",
    "    mg_T_calc[i,j,k,l] = 0.0\n",
    "    continue\n",
    "  # Redefine kernel\n",
    "  vol_energy = mg_vol_energy[i,j,k,l]\n",
    "  rho_mix = mg_rho_mix[i,j,k,l]\n",
    "  yw = mg_yw[i,j,k,l]\n",
    "  ya = mg_ya[i,j,k,l]\n",
    "  # Call compute without logging\n",
    "  _rhopT = float_mix_functions.conservative_to_pT_WLMA_bn(\n",
    "    vol_energy, rho_mix, yw, ya,\n",
    "    K, p_m0, rho_m0, c_v_m0,\n",
    "    R_a, gamma_a, logger=_logger)\n",
    "  mg_p_calc[i,j,k,l], mg_T_calc[i,j,k,l] = _rhopT[\"p\"], _rhopT[\"T\"]"
   ]
  },
  {
   "attachments": {},
   "cell_type": "markdown",
   "metadata": {},
   "source": [
    "#### Vectorizing interface test"
   ]
  },
  {
   "attachments": {},
   "cell_type": "markdown",
   "metadata": {},
   "source": [
    "Compute error using the vectorizing interface `float_mix_functions.vec_conservative_to_pT_WLMA`"
   ]
  },
  {
   "cell_type": "code",
   "execution_count": 4,
   "metadata": {},
   "outputs": [
    {
     "data": {
      "text/plain": [
       "Text(0, 0.5, 'Relative error in pressure')"
      ]
     },
     "execution_count": 4,
     "metadata": {},
     "output_type": "execute_result"
    },
    {
     "data": {
      "image/png": "[encoded data removed]",
      "text/plain": [
       "<Figure size 432x288 with 1 Axes>"
      ]
     },
     "metadata": {
      "needs_background": "light"
     },
     "output_type": "display_data"
    }
   ],
   "source": [
    "# Set test range\n",
    "short_vec_yw = np.logspace(np.log10(1e-7), np.log10(1-1e-7), 20) #np.linspace(1e-6, 1-1e-7, 24) # 125\n",
    "short_vec_T = np.linspace(273.16+5, 1500, 36) # 130\n",
    "short_vec_rhow = np.linspace(0.1, 1260, 32) # 60\n",
    "short_vec_ya = np.linspace(1e-7, 1-1e-7, 24)\n",
    "\n",
    "short_mg_yw, short_mg_T, short_mg_rhow, short_mg_ya = np.meshgrid(\n",
    "  short_vec_yw, short_vec_T, short_vec_rhow, short_vec_ya, indexing=\"ij\")\n",
    "\n",
    "short_mg_p_target = np.nan * np.zeros_like(short_mg_yw)\n",
    "short_mg_vol_energy = np.nan * np.zeros_like(short_mg_yw)\n",
    "short_mg_rho_mix = np.nan * np.zeros_like(short_mg_yw)\n",
    "\n",
    "# Iteratively load complete conservative state\n",
    "for i, j, k, l in np.ndindex(short_mg_yw.shape):\n",
    "  if short_mg_ya[i,j,k,l] + short_mg_yw[i,j,k,l] <= 1.0:\n",
    "    (short_mg_vol_energy[i,j,k,l],\n",
    "     short_mg_rho_mix[i,j,k,l],\n",
    "     short_mg_p_target[i,j,k,l]) = prim_to_cons(\n",
    "      short_mg_yw[i,j,k,l],\n",
    "      short_mg_T[i,j,k,l],\n",
    "      short_mg_rhow[i,j,k,l],\n",
    "      short_mg_ya[i,j,k,l])\n",
    "\n",
    "# Allocate output memory\n",
    "# mg_p_calc = np.empty_like(mg_yw)\n",
    "# mg_T_calc = np.empty_like(mg_yw)\n",
    "valid_indices = np.where((~np.isnan(short_mg_vol_energy.ravel())) & (short_mg_vol_energy.ravel() != 0))\n",
    "# Simulate vector input\n",
    "vec_in_vol_energy = short_mg_vol_energy.ravel()[valid_indices]\n",
    "vec_in_rho_mix = short_mg_rho_mix.ravel()[valid_indices]\n",
    "vec_in_yw = short_mg_yw.ravel()[valid_indices]\n",
    "vec_in_ya = short_mg_ya.ravel()[valid_indices]\n",
    "\n",
    "vec_in_vol_energy0 = vec_in_vol_energy.copy()\n",
    "_out = float_mix_functions.vec_conservative_to_pT_WLMA(vec_in_vol_energy, vec_in_rho_mix, vec_in_yw, vec_in_ya, K, p_m0, rho_m0,\n",
    "  c_v_m0, R_a, gamma_a, logger=False)\n",
    "\n",
    "# Compute relative errors of vectorized wrapper\n",
    "_vec_rels = _out[1::4] / short_mg_p_target.ravel()[valid_indices] - 1.0\n",
    "plt.plot(short_mg_yw.ravel()[valid_indices], _vec_rels, '.')\n",
    "plt.xlabel(\"yw\")\n",
    "plt.ylabel(\"Relative error in pressure\")"
   ]
  },
  {
   "attachments": {},
   "cell_type": "markdown",
   "metadata": {},
   "source": [
    "Timing for computing through the vectorizing interface"
   ]
  },
  {
   "cell_type": "code",
   "execution_count": 5,
   "metadata": {},
   "outputs": [
    {
     "name": "stdout",
     "output_type": "stream",
     "text": [
      "Timing: 0.12529006683716964 ms average per input\n"
     ]
    }
   ],
   "source": [
    "''' Timing '''\n",
    "import timeit\n",
    "N_runs = 2\n",
    "timing = timeit.timeit(lambda: float_mix_functions.vec_conservative_to_pT_WLMA(\n",
    "  vec_in_vol_energy, vec_in_rho_mix, vec_in_yw, vec_in_ya,\n",
    "  K, p_m0, rho_m0, c_v_m0, R_a, gamma_a, logger=False), number=N_runs)\n",
    "wall_per_input_ms = timing / (N_runs * vec_in_vol_energy.size) * 1e3\n",
    "print(f\"Timing: {wall_per_input_ms} ms average per input\")"
   ]
  },
  {
   "cell_type": "code",
   "execution_count": 6,
   "metadata": {},
   "outputs": [],
   "source": [
    "''' Construct Quail-like input for testing Quail interface. '''\n",
    "quail_like_arho_vec = vec_in_rho_mix.reshape((-1,1,1)) * np.concatenate((\n",
    "  vec_in_ya.reshape((-1,1,1)),\n",
    "  vec_in_yw.reshape((-1,1,1)),\n",
    "  (1-(vec_in_ya+vec_in_yw)).reshape((-1,1,1)),), axis=-1)\n",
    "quail_like_momentum = np.zeros_like(quail_like_arho_vec[...,0:2])\n",
    "quail_like_vol_energy = vec_in_vol_energy.reshape((-1,1,1))"
   ]
  },
  {
   "cell_type": "code",
   "execution_count": 7,
   "metadata": {},
   "outputs": [
    {
     "name": "stdout",
     "output_type": "stream",
     "text": [
      "Serial: 18.48980810000002 s\n",
      "Parallel: 5.409904900000015 s\n",
      "1/n Scaling: 4.622452025000005 s\n"
     ]
    }
   ],
   "source": [
    "_t1 = perf_counter()\n",
    "serial_out = wlma.WLM_rhopT_native(quail_like_arho_vec, quail_like_momentum, quail_like_vol_energy)\n",
    "_t2 = perf_counter()\n",
    "wlma_par = mixtureWLMA.WLMA(num_parallel_workers=4)\n",
    "_t3 = perf_counter()\n",
    "par_out = wlma_par.WLM_rhopT_native(quail_like_arho_vec, quail_like_momentum, quail_like_vol_energy)\n",
    "_t4 = perf_counter()\n",
    "\n",
    "print(f\"Serial: {_t2 - _t1} s\")\n",
    "print(f\"Parallel: {_t4 - _t3} s\")\n",
    "print(f\"1/n Scaling: {(_t2 - _t1)/4} s\")"
   ]
  },
  {
   "cell_type": "code",
   "execution_count": 8,
   "metadata": {},
   "outputs": [
    {
     "data": {
      "text/plain": [
       "5"
      ]
     },
     "execution_count": 8,
     "metadata": {},
     "output_type": "execute_result"
    }
   ],
   "source": [
    "len(serial_out)"
   ]
  },
  {
   "cell_type": "code",
   "execution_count": 12,
   "metadata": {},
   "outputs": [
    {
     "ename": "ValueError",
     "evalue": "too many values to unpack (expected 5)",
     "output_type": "error",
     "traceback": [
      "\u001b[1;31m---------------------------------------------------------------------------\u001b[0m",
      "\u001b[1;31mValueError\u001b[0m                                Traceback (most recent call last)",
      "\u001b[1;32mc:\\Users\\Fredric\\Documents\\Volcano\\quail_volcano\\src\\physics\\multiphaseWLMA\\iapws95_light\\WLMA_cython_tester.ipynb Cell 16\u001b[0m in \u001b[0;36m<cell line: 7>\u001b[1;34m()\u001b[0m\n\u001b[0;32m      <a href='vscode-notebook-cell:/c%3A/Users/Fredric/Documents/Volcano/quail_volcano/src/physics/multiphaseWLMA/iapws95_light/WLMA_cython_tester.ipynb#X42sZmlsZQ%3D%3D?line=4'>5</a>\u001b[0m \u001b[39mdef\u001b[39;00m \u001b[39m___\u001b[39m():\n\u001b[0;32m      <a href='vscode-notebook-cell:/c%3A/Users/Fredric/Documents/Volcano/quail_volcano/src/physics/multiphaseWLMA/iapws95_light/WLMA_cython_tester.ipynb#X42sZmlsZQ%3D%3D?line=5'>6</a>\u001b[0m   a,b,c,d,e \u001b[39m=\u001b[39m __()\n\u001b[1;32m----> <a href='vscode-notebook-cell:/c%3A/Users/Fredric/Documents/Volcano/quail_volcano/src/physics/multiphaseWLMA/iapws95_light/WLMA_cython_tester.ipynb#X42sZmlsZQ%3D%3D?line=6'>7</a>\u001b[0m get_ipython()\u001b[39m.\u001b[39;49mrun_line_magic(\u001b[39m'\u001b[39;49m\u001b[39mtimeit\u001b[39;49m\u001b[39m'\u001b[39;49m, \u001b[39m'\u001b[39;49m\u001b[39m___()\u001b[39;49m\u001b[39m'\u001b[39;49m)\n",
      "File \u001b[1;32m~\\AppData\\Roaming\\Python\\Python39\\site-packages\\IPython\\core\\interactiveshell.py:2305\u001b[0m, in \u001b[0;36mInteractiveShell.run_line_magic\u001b[1;34m(self, magic_name, line, _stack_depth)\u001b[0m\n\u001b[0;32m   2303\u001b[0m     kwargs[\u001b[39m'\u001b[39m\u001b[39mlocal_ns\u001b[39m\u001b[39m'\u001b[39m] \u001b[39m=\u001b[39m \u001b[39mself\u001b[39m\u001b[39m.\u001b[39mget_local_scope(stack_depth)\n\u001b[0;32m   2304\u001b[0m \u001b[39mwith\u001b[39;00m \u001b[39mself\u001b[39m\u001b[39m.\u001b[39mbuiltin_trap:\n\u001b[1;32m-> 2305\u001b[0m     result \u001b[39m=\u001b[39m fn(\u001b[39m*\u001b[39margs, \u001b[39m*\u001b[39m\u001b[39m*\u001b[39mkwargs)\n\u001b[0;32m   2306\u001b[0m \u001b[39mreturn\u001b[39;00m result\n",
      "File \u001b[1;32m~\\AppData\\Roaming\\Python\\Python39\\site-packages\\IPython\\core\\magics\\execution.py:1162\u001b[0m, in \u001b[0;36mExecutionMagics.timeit\u001b[1;34m(self, line, cell, local_ns)\u001b[0m\n\u001b[0;32m   1160\u001b[0m \u001b[39mfor\u001b[39;00m index \u001b[39min\u001b[39;00m \u001b[39mrange\u001b[39m(\u001b[39m0\u001b[39m, \u001b[39m10\u001b[39m):\n\u001b[0;32m   1161\u001b[0m     number \u001b[39m=\u001b[39m \u001b[39m10\u001b[39m \u001b[39m*\u001b[39m\u001b[39m*\u001b[39m index\n\u001b[1;32m-> 1162\u001b[0m     time_number \u001b[39m=\u001b[39m timer\u001b[39m.\u001b[39;49mtimeit(number)\n\u001b[0;32m   1163\u001b[0m     \u001b[39mif\u001b[39;00m time_number \u001b[39m>\u001b[39m\u001b[39m=\u001b[39m \u001b[39m0.2\u001b[39m:\n\u001b[0;32m   1164\u001b[0m         \u001b[39mbreak\u001b[39;00m\n",
      "File \u001b[1;32m~\\AppData\\Roaming\\Python\\Python39\\site-packages\\IPython\\core\\magics\\execution.py:156\u001b[0m, in \u001b[0;36mTimer.timeit\u001b[1;34m(self, number)\u001b[0m\n\u001b[0;32m    154\u001b[0m gc\u001b[39m.\u001b[39mdisable()\n\u001b[0;32m    155\u001b[0m \u001b[39mtry\u001b[39;00m:\n\u001b[1;32m--> 156\u001b[0m     timing \u001b[39m=\u001b[39m \u001b[39mself\u001b[39;49m\u001b[39m.\u001b[39;49minner(it, \u001b[39mself\u001b[39;49m\u001b[39m.\u001b[39;49mtimer)\n\u001b[0;32m    157\u001b[0m \u001b[39mfinally\u001b[39;00m:\n\u001b[0;32m    158\u001b[0m     \u001b[39mif\u001b[39;00m gcold:\n",
      "File \u001b[1;32m<magic-timeit>:1\u001b[0m, in \u001b[0;36minner\u001b[1;34m(_it, _timer)\u001b[0m\n",
      "\u001b[1;32mc:\\Users\\Fredric\\Documents\\Volcano\\quail_volcano\\src\\physics\\multiphaseWLMA\\iapws95_light\\WLMA_cython_tester.ipynb Cell 16\u001b[0m in \u001b[0;36m___\u001b[1;34m()\u001b[0m\n\u001b[0;32m      <a href='vscode-notebook-cell:/c%3A/Users/Fredric/Documents/Volcano/quail_volcano/src/physics/multiphaseWLMA/iapws95_light/WLMA_cython_tester.ipynb#X42sZmlsZQ%3D%3D?line=4'>5</a>\u001b[0m \u001b[39mdef\u001b[39;00m \u001b[39m___\u001b[39m():\n\u001b[1;32m----> <a href='vscode-notebook-cell:/c%3A/Users/Fredric/Documents/Volcano/quail_volcano/src/physics/multiphaseWLMA/iapws95_light/WLMA_cython_tester.ipynb#X42sZmlsZQ%3D%3D?line=5'>6</a>\u001b[0m   a,b,c,d,e \u001b[39m=\u001b[39m __()\n",
      "\u001b[1;31mValueError\u001b[0m: too many values to unpack (expected 5)"
     ]
    }
   ],
   "source": [
    "# rhow, p, T, sound_speed, volfracW\n",
    "# %timeit len(list(zip(*par_out)))\n",
    "def __():\n",
    "  return [np.concatenate(par_output, axis=0) for par_output in (zip(*par_out))]\n",
    "def ___():\n",
    "  a,b,c,d,e = __()\n",
    "%timeit ___()"
   ]
  },
  {
   "cell_type": "code",
   "execution_count": 9,
   "metadata": {},
   "outputs": [
    {
     "data": {
      "text/plain": [
       "0.016004200000224955"
      ]
     },
     "execution_count": 9,
     "metadata": {},
     "output_type": "execute_result"
    }
   ],
   "source": [
    "''' Testing Pool() construction overhead\n",
    "Note that mp.map and similar methods may not work in ipynb.\n",
    "'''\n",
    "import multiprocessing as mp\n",
    "_t5 = perf_counter()\n",
    "with mp.Pool(3) as _p:\n",
    "  ''' pass '''\n",
    "_t6 = perf_counter()\n",
    "_t6 - _t5"
   ]
  },
  {
   "attachments": {},
   "cell_type": "markdown",
   "metadata": {},
   "source": [
    "#### Hit count testing"
   ]
  },
  {
   "cell_type": "code",
   "execution_count": 5,
   "metadata": {},
   "outputs": [
    {
     "ename": "NameError",
     "evalue": "name '_logger' is not defined",
     "output_type": "error",
     "traceback": [
      "\u001b[1;31m---------------------------------------------------------------------------\u001b[0m",
      "\u001b[1;31mNameError\u001b[0m                                 Traceback (most recent call last)",
      "\u001b[1;32mc:\\Users\\Fredric\\Documents\\Volcano\\quail_volcano\\src\\physics\\multiphaseWLMA\\iapws95_light\\WLMA_cython_tester.ipynb Cell 14\u001b[0m in \u001b[0;36m<cell line: 3>\u001b[1;34m()\u001b[0m\n\u001b[0;32m      <a href='vscode-notebook-cell:/c%3A/Users/Fredric/Documents/Volcano/quail_volcano/src/physics/multiphaseWLMA/iapws95_light/WLMA_cython_tester.ipynb#X33sZmlsZQ%3D%3D?line=0'>1</a>\u001b[0m \u001b[39m\"\"\" Get hit counts from logs \"\"\"\u001b[39;00m\n\u001b[0;32m      <a href='vscode-notebook-cell:/c%3A/Users/Fredric/Documents/Volcano/quail_volcano/src/physics/multiphaseWLMA/iapws95_light/WLMA_cython_tester.ipynb#X33sZmlsZQ%3D%3D?line=1'>2</a>\u001b[0m hit_counts \u001b[39m=\u001b[39m [\u001b[39m0\u001b[39m] \u001b[39m*\u001b[39m (\u001b[39m8\u001b[39m\u001b[39m+\u001b[39m\u001b[39m1\u001b[39m)\n\u001b[1;32m----> <a href='vscode-notebook-cell:/c%3A/Users/Fredric/Documents/Volcano/quail_volcano/src/physics/multiphaseWLMA/iapws95_light/WLMA_cython_tester.ipynb#X33sZmlsZQ%3D%3D?line=2'>3</a>\u001b[0m \u001b[39mfor\u001b[39;00m i \u001b[39min\u001b[39;00m \u001b[39mrange\u001b[39m(\u001b[39mlen\u001b[39m(_logger\u001b[39m.\u001b[39mall_logs)):\n\u001b[0;32m      <a href='vscode-notebook-cell:/c%3A/Users/Fredric/Documents/Volcano/quail_volcano/src/physics/multiphaseWLMA/iapws95_light/WLMA_cython_tester.ipynb#X33sZmlsZQ%3D%3D?line=3'>4</a>\u001b[0m   \u001b[39mif\u001b[39;00m _logger\u001b[39m.\u001b[39mall_logs[i]:\n\u001b[0;32m      <a href='vscode-notebook-cell:/c%3A/Users/Fredric/Documents/Volcano/quail_volcano/src/physics/multiphaseWLMA/iapws95_light/WLMA_cython_tester.ipynb#X33sZmlsZQ%3D%3D?line=4'>5</a>\u001b[0m     hit_counts[_logger\u001b[39m.\u001b[39mall_logs[i][\u001b[39m0\u001b[39m][\u001b[39m1\u001b[39m]\u001b[39m.\u001b[39mget(\u001b[39m\"\u001b[39m\u001b[39malphaw_argmin\u001b[39m\u001b[39m\"\u001b[39m, \u001b[39m-\u001b[39m\u001b[39m1\u001b[39m)] \u001b[39m+\u001b[39m\u001b[39m=\u001b[39m \u001b[39m1\u001b[39m\n",
      "\u001b[1;31mNameError\u001b[0m: name '_logger' is not defined"
     ]
    }
   ],
   "source": [
    "\"\"\" Get hit counts from logs \"\"\"\n",
    "hit_counts = [0] * (8+1)\n",
    "for i in range(len(_logger.all_logs)):\n",
    "  if _logger.all_logs[i]:\n",
    "    hit_counts[_logger.all_logs[i][0][1].get(\"alphaw_argmin\", -1)] += 1"
   ]
  },
  {
   "cell_type": "code",
   "execution_count": null,
   "metadata": {},
   "outputs": [
    {
     "data": {
      "image/png": "[encoded data removed]",
      "text/plain": [
       "<Figure size 432x288 with 1 Axes>"
      ]
     },
     "metadata": {
      "needs_background": "light"
     },
     "output_type": "display_data"
    }
   ],
   "source": [
    "# Plot hit count histogram\n",
    "fig, ax = plt.subplots()\n",
    "# Create bar\n",
    "ax.bar(list(range(8)), hit_counts[:-1], log=True)\n",
    "ax.set_xlabel(\"Initial guess strategy\")\n",
    "ax.set_ylabel(\"Hit count\")\n",
    "# Define labels\n",
    "labels = [\"sat+extrapolate\", 1e-5, 0.01, 0.5, 0.99, 1.0-1e-5, \"bis_alphaw\", \"bis_rhow\"]\n",
    "\n",
    "# Label bars on x-axis\n",
    "ax.set_xticks(np.arange(len(labels)))\n",
    "ax.set_xticklabels(labels)\n",
    "# Rotate labels\n",
    "_ = plt.setp(ax.get_xticklabels(), rotation=45, ha=\"right\",\n",
    "         rotation_mode=\"anchor\")"
   ]
  },
  {
   "attachments": {},
   "cell_type": "markdown",
   "metadata": {},
   "source": [
    "#### Num steps logged testing"
   ]
  },
  {
   "cell_type": "code",
   "execution_count": null,
   "metadata": {},
   "outputs": [],
   "source": [
    "\"\"\" Get log count from logs as proxy for function call count \"\"\"\n",
    "log_counts = [len(log) for log in _logger.all_logs]"
   ]
  },
  {
   "cell_type": "code",
   "execution_count": null,
   "metadata": {},
   "outputs": [
    {
     "data": {
      "text/plain": [
       "Text(0.5, 0, 'Number of steps logged')"
      ]
     },
     "execution_count": 60,
     "metadata": {},
     "output_type": "execute_result"
    },
    {
     "data": {
      "image/png": "[encoded data removed]",
      "text/plain": [
       "<Figure size 432x288 with 1 Axes>"
      ]
     },
     "metadata": {
      "needs_background": "light"
     },
     "output_type": "display_data"
    }
   ],
   "source": [
    "plt.hist(log_counts, log=True, bins=50)\n",
    "plt.xlabel(\"Number of steps logged\")"
   ]
  },
  {
   "cell_type": "code",
   "execution_count": null,
   "metadata": {},
   "outputs": [
    {
     "data": {
      "text/plain": [
       "' Pull one log '"
      ]
     },
     "execution_count": 52,
     "metadata": {},
     "output_type": "execute_result"
    }
   ],
   "source": [
    "\"\"\" Pull one nonempty log \"\"\"\n",
    "# _logger.all_logs[83642]"
   ]
  },
  {
   "cell_type": "code",
   "execution_count": null,
   "metadata": {},
   "outputs": [],
   "source": [
    "# Save log (not recommended, huge file)\n",
    "# # import pickle\n",
    "# with open('log0.pkl', 'wb') as handle:\n",
    "#   pickle.dump(_logger, handle, protocol=pickle.HIGHEST_PROTOCOL)"
   ]
  },
  {
   "attachments": {},
   "cell_type": "markdown",
   "metadata": {},
   "source": [
    "### Vector-level parallelism"
   ]
  },
  {
   "cell_type": "code",
   "execution_count": 6,
   "metadata": {},
   "outputs": [],
   "source": [
    "import multiprocessing as mp\n",
    "\n",
    "NUM_WORKERS = 2\n",
    "pool = mp.Pool(NUM_WORKERS)\n",
    "\n",
    "def task(vec_in_vol_energy, vec_in_rho_mix, vec_in_yw, vec_in_ya):\n",
    "  ''' Curried task '''\n",
    "  return float_mix_functions.vec_conservative_to_pT_WLMA(\n",
    "    vec_in_vol_energy, vec_in_rho_mix, vec_in_yw, vec_in_ya,\n",
    "    K, p_m0, rho_m0, c_v_m0, R_a, gamma_a, logger=False)\n",
    "pool.starmap(task,\n",
    "  zip(np.array_split(vec_in_vol_energy, NUM_WORKERS),\n",
    "    np.array_split(vec_in_rho_mix, NUM_WORKERS),\n",
    "    np.array_split(vec_in_yw, NUM_WORKERS),\n",
    "    np.array_split(vec_in_ya, NUM_WORKERS))\n",
    ")"
   ]
  },
  {
   "cell_type": "code",
   "execution_count": null,
   "metadata": {},
   "outputs": [],
   "source": [
    "vec_in_vol_energy"
   ]
  },
  {
   "attachments": {},
   "cell_type": "markdown",
   "metadata": {},
   "source": [
    "#### Plot errors"
   ]
  },
  {
   "attachments": {},
   "cell_type": "markdown",
   "metadata": {},
   "source": [
    "For calibration:\n",
    "* Note that for T above 1720 K ~ 1760 K: weird things happen\n",
    "* T too close to triple point is also dangerous"
   ]
  },
  {
   "cell_type": "code",
   "execution_count": null,
   "metadata": {},
   "outputs": [
    {
     "name": "stderr",
     "output_type": "stream",
     "text": [
      "C:\\Users\\Fredric\\AppData\\Local\\Temp\\ipykernel_9360\\2014913622.py:3: RuntimeWarning: invalid value encountered in true_divide\n",
      "  p_reldiffs = np.abs(mg_p_calc / mg_p_target - 1.0)\n"
     ]
    },
    {
     "data": {
      "text/plain": [
       "Text(0.5, 0, '')"
      ]
     },
     "execution_count": 6,
     "metadata": {},
     "output_type": "execute_result"
    },
    {
     "data": {
      "image/png": "[encoded data removed]",
      "text/plain": [
       "<Figure size 432x288 with 1 Axes>"
      ]
     },
     "metadata": {
      "needs_background": "light"
     },
     "output_type": "display_data"
    }
   ],
   "source": [
    "%matplotlib inline\n",
    "p_diffs = np.abs(mg_p_calc - mg_p_target)\n",
    "p_reldiffs = np.abs(mg_p_calc / mg_p_target - 1.0)\n",
    "# plt.loglog((1 - mg_yw - mg_ya)[np.where(~np.isnan(p_reldiffs))], 1e-16+p_reldiffs[np.where(~np.isnan(p_reldiffs))], '.')\n",
    "# Transform to liquid volfrac\n",
    "mg_alpham = mg_rho_mix * (1 - mg_yw - mg_ya) / (rho_m0 * (1.0 + (mg_p_target - p_m0) / K))\n",
    "# plt.loglog(mg_alpham[np.where(~np.isnan(p_reldiffs))], 1e-16+p_reldiffs[np.where(~np.isnan(p_reldiffs))], '.')\n",
    "plt.loglog(mg_T[np.where(~np.isnan(p_reldiffs))], 1e-16+p_reldiffs[np.where(~np.isnan(p_reldiffs))], '.')\n",
    "plt.xlabel(\"\")"
   ]
  }
 ],
 "metadata": {
  "kernelspec": {
   "display_name": "Python 3",
   "language": "python",
   "name": "python3"
  },
  "language_info": {
   "codemirror_mode": {
    "name": "ipython",
    "version": 3
   },
   "file_extension": ".py",
   "mimetype": "text/x-python",
   "name": "python",
   "nbconvert_exporter": "python",
   "pygments_lexer": "ipython3",
   "version": "3.9.1"
  },
  "orig_nbformat": 4
 },
 "nbformat": 4,
 "nbformat_minor": 2
}
