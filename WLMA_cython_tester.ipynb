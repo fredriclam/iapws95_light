{
 "cells": [
  {
   "attachments": {},
   "cell_type": "markdown",
   "metadata": {},
   "source": [
    "### Tester for float_mix_functions.conservative_to_pT_WLMA_bn and related"
   ]
  },
  {
   "cell_type": "code",
   "execution_count": 1,
   "metadata": {},
   "outputs": [],
   "source": [
    "%load_ext autoreload\n",
    "%autoreload 2\n",
    "\n",
    "import numpy as np\n",
    "import matplotlib.pyplot as plt\n",
    "import iapws95_light\n",
    "\n",
    "# Cython-backend imports\n",
    "import float_phi_functions\n",
    "import float_mix_functions\n",
    "import iapws95_light_perf\n",
    "import mixtureWLMA\n",
    "from time import perf_counter\n",
    "import scipy.optimize\n",
    "\n",
    "wlma = mixtureWLMA.WLMA()\n",
    "K = wlma.K\n",
    "p_m0 = wlma.p_m0\n",
    "rho_m0 = wlma.rho_m0\n",
    "v_m0 = 1.0 / rho_m0\n",
    "c_v_m0 = wlma.c_v_m0\n",
    "R_a = wlma.R_a\n",
    "gamma_a = wlma.gamma_a\n",
    "rhoc = mixtureWLMA.rhoc\n",
    "Tc = mixtureWLMA.Tc\n",
    "\n",
    "def prim_to_cons(yw, T, rhow, ya):\n",
    "  ''' Map from known primitive quantities to set of conservative variables.'''\n",
    "  p_target = float_phi_functions.p(rhow, T)\n",
    "  if p_target < 1e5 or p_target > 100e6:\n",
    "    # Skip\n",
    "    return (np.nan, np.nan, np.nan)\n",
    "  rhom = rho_m0* (1.0 + (p_target - p_m0) / K)\n",
    "  rhoa = p_target / (R_a * T)\n",
    "  rho_mix = 1.0/(yw / rhow + (1 - yw - ya) / rhom + ya / rhoa)\n",
    "  uw_target = float_phi_functions.u(rhow, T)\n",
    "  um_target = c_v_m0 * T \\\n",
    "    + float_mix_functions.magma_mech_energy(p_target, K , p_m0, rho_m0)\n",
    "  ua_target = R_a / (gamma_a - 1.0) * T\n",
    "  u_target = yw*uw_target + (1-yw-ya)*um_target + ya*ua_target\n",
    "  vol_energy = rho_mix * u_target\n",
    "  return (vol_energy, rho_mix, p_target)"
   ]
  },
  {
   "attachments": {},
   "cell_type": "markdown",
   "metadata": {},
   "source": [
    "#### Spot test"
   ]
  },
  {
   "cell_type": "code",
   "execution_count": 2,
   "metadata": {},
   "outputs": [
    {
     "data": {
      "text/plain": [
       "{'rhow': 70.09333333260602, 'p': 184976.5440599357, 'T': 390.909090909091}"
      ]
     },
     "execution_count": 2,
     "metadata": {},
     "output_type": "execute_result"
    }
   ],
   "source": [
    "\"\"\" Spot test \"\"\"\n",
    "vol_energy, rho_mix, yw, ya = (3047131395.430944, 2598.3294372189876, 1e-07, 1e-07)\n",
    "\n",
    "params = {\n",
    "  \"vol_energy\": vol_energy,\n",
    "  \"rho_mix\": rho_mix,\n",
    "  \"yw\": yw,\n",
    "  \"ya\": ya,\n",
    "  \"K\": K,\n",
    "  \"p_m0\": p_m0,\n",
    "  \"rho_m0\": rho_m0,\n",
    "  \"c_v_m0\": c_v_m0,\n",
    "  \"R_a\": R_a,\n",
    "  \"gamma_a\": gamma_a,\n",
    "}\n",
    "\n",
    "# Create simple global logger\n",
    "class SimpleLogger():\n",
    "  def __init__(self):\n",
    "    self.curr_log = []\n",
    "    self.all_logs = [self.curr_log]\n",
    "  def log(self, level, data):\n",
    "    self.curr_log.append((level, data))\n",
    "  def create_new_log(self):\n",
    "    self.curr_log = []\n",
    "    self.all_logs.append(self.curr_log)\n",
    "  def pop_log(self):\n",
    "    return self.all_logs.pop()\n",
    "logger = SimpleLogger()\n",
    "\n",
    "# Single backtrack step\n",
    "float_mix_functions.iterate_backtrack_box(0.5, 600, params, logger=False)\n",
    "\n",
    "float_mix_functions.conservative_to_pT_WLMA_bn(\n",
    "  vol_energy, rho_mix, yw, ya,\n",
    "  K, p_m0, rho_m0, c_v_m0,\n",
    "  R_a, gamma_a, logger=logger)"
   ]
  },
  {
   "attachments": {},
   "cell_type": "markdown",
   "metadata": {},
   "source": [
    "#### Grid test"
   ]
  },
  {
   "cell_type": "code",
   "execution_count": 3,
   "metadata": {},
   "outputs": [],
   "source": [
    "# Set test range\n",
    "vec_yw = np.logspace(np.log10(1e-7), np.log10(1-1e-7), 40) #np.linspace(1e-6, 1-1e-7, 24) # 125\n",
    "vec_T = np.linspace(273.16+5, 1500, 96) # 130\n",
    "vec_rhow = np.linspace(0.1, 1260, 48) # 60\n",
    "vec_ya = np.linspace(1e-7, 1-1e-7, 52)\n",
    "\n",
    "mg_yw, mg_T, mg_rhow, mg_ya = np.meshgrid(\n",
    "  vec_yw, vec_T, vec_rhow, vec_ya, indexing=\"ij\")\n",
    "\n",
    "mg_p_target = np.zeros_like(mg_yw)\n",
    "mg_vol_energy = np.zeros_like(mg_yw)\n",
    "mg_rho_mix = np.zeros_like(mg_yw)\n",
    "\n",
    "# Iteratively load complete conservative state\n",
    "for i, j, k, l in np.ndindex(mg_yw.shape):\n",
    "  if mg_ya[i,j,k,l] + mg_yw[i,j,k,l] <= 1.0:\n",
    "    mg_vol_energy[i,j,k,l], mg_rho_mix[i,j,k,l], mg_p_target[i,j,k,l] = \\\n",
    "      prim_to_cons(mg_yw[i,j,k,l], mg_T[i,j,k,l], mg_rhow[i,j,k,l], mg_ya[i,j,k,l])\n",
    "\n",
    "# Allocate output memory\n",
    "mg_p_calc = np.empty_like(mg_yw)\n",
    "mg_T_calc = np.empty_like(mg_yw)\n"
   ]
  },
  {
   "cell_type": "code",
   "execution_count": 4,
   "metadata": {},
   "outputs": [],
   "source": [
    "_logger = SimpleLogger()\n",
    "# Remove the first entry\n",
    "_logger.pop_log()\n",
    "\n",
    "for i, j, k, l in np.ndindex(mg_yw.shape):\n",
    "  _logger.create_new_log()\n",
    "  # Skip nan inputs\n",
    "  if np.isnan(mg_yw[i,j,k,l]) \\\n",
    "      or np.isnan(mg_vol_energy[i,j,k,l]) \\\n",
    "      or np.isnan(mg_rho_mix[i,j,k,l]):\n",
    "    mg_p_calc[i,j,k,l] = 0.0\n",
    "    mg_T_calc[i,j,k,l] = 0.0\n",
    "    continue\n",
    "  # Redefine kernel\n",
    "  vol_energy = mg_vol_energy[i,j,k,l]\n",
    "  rho_mix = mg_rho_mix[i,j,k,l]\n",
    "  yw = mg_yw[i,j,k,l]\n",
    "  ya = mg_ya[i,j,k,l]\n",
    "  # Call compute without logging\n",
    "  _rhopT = float_mix_functions.conservative_to_pT_WLMA_bn(\n",
    "    vol_energy, rho_mix, yw, ya,\n",
    "    K, p_m0, rho_m0, c_v_m0,\n",
    "    R_a, gamma_a, logger=_logger)\n",
    "  mg_p_calc[i,j,k,l], mg_T_calc[i,j,k,l] = _rhopT[\"p\"], _rhopT[\"T\"]"
   ]
  },
  {
   "attachments": {},
   "cell_type": "markdown",
   "metadata": {},
   "source": [
    "#### Vectorizing interface test"
   ]
  },
  {
   "attachments": {},
   "cell_type": "markdown",
   "metadata": {},
   "source": [
    "Compute error using the vectorizing interface `float_mix_functions.vec_conservative_to_pT_WLMA`"
   ]
  },
  {
   "cell_type": "code",
   "execution_count": 4,
   "metadata": {},
   "outputs": [
    {
     "data": {
      "text/plain": [
       "Text(0, 0.5, 'Relative error in pressure')"
      ]
     },
     "execution_count": 4,
     "metadata": {},
     "output_type": "execute_result"
    },
    {
     "data": {
      "image/png": "[encoded data removed]",
      "text/plain": [
       "<Figure size 432x288 with 1 Axes>"
      ]
     },
     "metadata": {
      "needs_background": "light"
     },
     "output_type": "display_data"
    }
   ],
   "source": [
    "# Set test range\n",
    "short_vec_yw = np.logspace(np.log10(1e-7), np.log10(1-1e-7), 20) #np.linspace(1e-6, 1-1e-7, 24) # 125\n",
    "short_vec_T = np.linspace(273.16+5, 1500, 36) # 130\n",
    "short_vec_rhow = np.linspace(0.1, 1260, 32) # 60\n",
    "short_vec_ya = np.linspace(1e-7, 1-1e-7, 24)\n",
    "\n",
    "short_mg_yw, short_mg_T, short_mg_rhow, short_mg_ya = np.meshgrid(\n",
    "  short_vec_yw, short_vec_T, short_vec_rhow, short_vec_ya, indexing=\"ij\")\n",
    "\n",
    "short_mg_p_target = np.nan * np.zeros_like(short_mg_yw)\n",
    "short_mg_vol_energy = np.nan * np.zeros_like(short_mg_yw)\n",
    "short_mg_rho_mix = np.nan * np.zeros_like(short_mg_yw)\n",
    "\n",
    "# Iteratively load complete conservative state\n",
    "for i, j, k, l in np.ndindex(short_mg_yw.shape):\n",
    "  if short_mg_ya[i,j,k,l] + short_mg_yw[i,j,k,l] <= 1.0:\n",
    "    (short_mg_vol_energy[i,j,k,l],\n",
    "     short_mg_rho_mix[i,j,k,l],\n",
    "     short_mg_p_target[i,j,k,l]) = prim_to_cons(\n",
    "      short_mg_yw[i,j,k,l],\n",
    "      short_mg_T[i,j,k,l],\n",
    "      short_mg_rhow[i,j,k,l],\n",
    "      short_mg_ya[i,j,k,l])\n",
    "\n",
    "# Allocate output memory\n",
    "# mg_p_calc = np.empty_like(mg_yw)\n",
    "# mg_T_calc = np.empty_like(mg_yw)\n",
    "valid_indices = np.where((~np.isnan(short_mg_vol_energy.ravel())) & (short_mg_vol_energy.ravel() != 0))\n",
    "# Simulate vector input\n",
    "vec_in_vol_energy = short_mg_vol_energy.ravel()[valid_indices]\n",
    "vec_in_rho_mix = short_mg_rho_mix.ravel()[valid_indices]\n",
    "vec_in_yw = short_mg_yw.ravel()[valid_indices]\n",
    "vec_in_ya = short_mg_ya.ravel()[valid_indices]\n",
    "\n",
    "vec_in_vol_energy0 = vec_in_vol_energy.copy()\n",
    "_out = float_mix_functions.vec_conservative_to_pT_WLMA(vec_in_vol_energy, vec_in_rho_mix, vec_in_yw, vec_in_ya, K, p_m0, rho_m0,\n",
    "  c_v_m0, R_a, gamma_a, logger=False)\n",
    "\n",
    "# Compute relative errors of vectorized wrapper\n",
    "_vec_rels = _out[1::4] / short_mg_p_target.ravel()[valid_indices] - 1.0\n",
    "plt.plot(short_mg_yw.ravel()[valid_indices], _vec_rels, '.')\n",
    "plt.xlabel(\"yw\")\n",
    "plt.ylabel(\"Relative error in pressure\")"
   ]
  },
  {
   "attachments": {},
   "cell_type": "markdown",
   "metadata": {},
   "source": [
    "Timing for computing through the vectorizing interface"
   ]
  },
  {
   "cell_type": "code",
   "execution_count": 5,
   "metadata": {},
   "outputs": [
    {
     "name": "stdout",
     "output_type": "stream",
     "text": [
      "Timing: 0.12529006683716964 ms average per input\n"
     ]
    }
   ],
   "source": [
    "''' Timing '''\n",
    "import timeit\n",
    "N_runs = 2\n",
    "timing = timeit.timeit(lambda: float_mix_functions.vec_conservative_to_pT_WLMA(\n",
    "  vec_in_vol_energy, vec_in_rho_mix, vec_in_yw, vec_in_ya,\n",
    "  K, p_m0, rho_m0, c_v_m0, R_a, gamma_a, logger=False), number=N_runs)\n",
    "wall_per_input_ms = timing / (N_runs * vec_in_vol_energy.size) * 1e3\n",
    "print(f\"Timing: {wall_per_input_ms} ms average per input\")"
   ]
  },
  {
   "cell_type": "code",
   "execution_count": 6,
   "metadata": {},
   "outputs": [],
   "source": [
    "''' Construct Quail-like input for testing Quail interface. '''\n",
    "quail_like_arho_vec = vec_in_rho_mix.reshape((-1,1,1)) * np.concatenate((\n",
    "  vec_in_ya.reshape((-1,1,1)),\n",
    "  vec_in_yw.reshape((-1,1,1)),\n",
    "  (1-(vec_in_ya+vec_in_yw)).reshape((-1,1,1)),), axis=-1)\n",
    "quail_like_momentum = np.zeros_like(quail_like_arho_vec[...,0:2])\n",
    "quail_like_vol_energy = vec_in_vol_energy.reshape((-1,1,1))"
   ]
  },
  {
   "cell_type": "code",
   "execution_count": 22,
   "metadata": {},
   "outputs": [
    {
     "name": "stdout",
     "output_type": "stream",
     "text": [
      "Serial: 18.732607599999994 s\n",
      "Parallel: 5.4152879999999755 s\n",
      "1/n Scaling: 4.683151899999999 s\n"
     ]
    }
   ],
   "source": [
    "_t1 = perf_counter()\n",
    "serial_out = wlma.WLM_rhopT_native(quail_like_arho_vec, quail_like_momentum, quail_like_vol_energy)\n",
    "_t2 = perf_counter()\n",
    "wlma_par = mixtureWLMA.WLMA(num_parallel_workers=4)\n",
    "_t3 = perf_counter()\n",
    "par_out = wlma_par.WLM_rhopT_native(quail_like_arho_vec, quail_like_momentum, quail_like_vol_energy)\n",
    "_t4 = perf_counter()\n",
    "\n",
    "print(f\"Serial: {_t2 - _t1} s\")\n",
    "print(f\"Parallel: {_t4 - _t3} s\")\n",
    "print(f\"1/n Scaling: {(_t2 - _t1)/4} s\")"
   ]
  },
  {
   "cell_type": "code",
   "execution_count": 8,
   "metadata": {},
   "outputs": [
    {
     "data": {
      "text/plain": [
       "5"
      ]
     },
     "execution_count": 8,
     "metadata": {},
     "output_type": "execute_result"
    }
   ],
   "source": [
    "len(serial_out)"
   ]
  },
  {
   "cell_type": "code",
   "execution_count": 35,
   "metadata": {},
   "outputs": [
    {
     "data": {
      "text/plain": [
       "1"
      ]
     },
     "execution_count": 35,
     "metadata": {},
     "output_type": "execute_result"
    }
   ],
   "source": [
    "len(list(zip(par_out))[0])"
   ]
  },
  {
   "cell_type": "code",
   "execution_count": 17,
   "metadata": {},
   "outputs": [
    {
     "data": {
      "text/plain": [
       "146625"
      ]
     },
     "execution_count": 17,
     "metadata": {},
     "output_type": "execute_result"
    }
   ],
   "source": [
    "# rhow, p, T, sound_speed, volfracW\n",
    "# %timeit len(list(zip(*par_out)))\n",
    "def __():\n",
    "  return [np.concatenate(par_output, axis=0) for par_output in (zip(*par_out))]\n",
    "# def ___():\n",
    "#   print(__())\n",
    "#   a,b,c,d,e = __()\n",
    "# %timeit ___()\n",
    "\n",
    "len(__())"
   ]
  },
  {
   "cell_type": "code",
   "execution_count": 44,
   "metadata": {},
   "outputs": [
    {
     "data": {
      "text/plain": [
       "0.01554630000009638"
      ]
     },
     "execution_count": 44,
     "metadata": {},
     "output_type": "execute_result"
    }
   ],
   "source": [
    "''' Testing Pool() construction overhead\n",
    "Note that mp.map and similar methods may not work in ipynb.\n",
    "'''\n",
    "import multiprocessing as mp\n",
    "_t5 = perf_counter()\n",
    "with mp.Pool(3) as _p:\n",
    "  ''' pass '''\n",
    "_t6 = perf_counter()\n",
    "_t6 - _t5"
   ]
  },
  {
   "cell_type": "code",
   "execution_count": 46,
   "metadata": {},
   "outputs": [
    {
     "data": {
      "text/plain": [
       "3"
      ]
     },
     "execution_count": 46,
     "metadata": {},
     "output_type": "execute_result"
    }
   ],
   "source": [
    "pool_test = mp.Pool(3)\n",
    "pool_test._processes\n"
   ]
  },
  {
   "attachments": {},
   "cell_type": "markdown",
   "metadata": {},
   "source": [
    "#### Hit count testing"
   ]
  },
  {
   "cell_type": "code",
   "execution_count": 5,
   "metadata": {},
   "outputs": [
    {
     "ename": "NameError",
     "evalue": "name '_logger' is not defined",
     "output_type": "error",
     "traceback": [
      "\u001b[1;31m---------------------------------------------------------------------------\u001b[0m",
      "\u001b[1;31mNameError\u001b[0m                                 Traceback (most recent call last)",
      "\u001b[1;32mc:\\Users\\Fredric\\Documents\\Volcano\\quail_volcano\\src\\physics\\multiphaseWLMA\\iapws95_light\\WLMA_cython_tester.ipynb Cell 14\u001b[0m in \u001b[0;36m<cell line: 3>\u001b[1;34m()\u001b[0m\n\u001b[0;32m      <a href='vscode-notebook-cell:/c%3A/Users/Fredric/Documents/Volcano/quail_volcano/src/physics/multiphaseWLMA/iapws95_light/WLMA_cython_tester.ipynb#X33sZmlsZQ%3D%3D?line=0'>1</a>\u001b[0m \u001b[39m\"\"\" Get hit counts from logs \"\"\"\u001b[39;00m\n\u001b[0;32m      <a href='vscode-notebook-cell:/c%3A/Users/Fredric/Documents/Volcano/quail_volcano/src/physics/multiphaseWLMA/iapws95_light/WLMA_cython_tester.ipynb#X33sZmlsZQ%3D%3D?line=1'>2</a>\u001b[0m hit_counts \u001b[39m=\u001b[39m [\u001b[39m0\u001b[39m] \u001b[39m*\u001b[39m (\u001b[39m8\u001b[39m\u001b[39m+\u001b[39m\u001b[39m1\u001b[39m)\n\u001b[1;32m----> <a href='vscode-notebook-cell:/c%3A/Users/Fredric/Documents/Volcano/quail_volcano/src/physics/multiphaseWLMA/iapws95_light/WLMA_cython_tester.ipynb#X33sZmlsZQ%3D%3D?line=2'>3</a>\u001b[0m \u001b[39mfor\u001b[39;00m i \u001b[39min\u001b[39;00m \u001b[39mrange\u001b[39m(\u001b[39mlen\u001b[39m(_logger\u001b[39m.\u001b[39mall_logs)):\n\u001b[0;32m      <a href='vscode-notebook-cell:/c%3A/Users/Fredric/Documents/Volcano/quail_volcano/src/physics/multiphaseWLMA/iapws95_light/WLMA_cython_tester.ipynb#X33sZmlsZQ%3D%3D?line=3'>4</a>\u001b[0m   \u001b[39mif\u001b[39;00m _logger\u001b[39m.\u001b[39mall_logs[i]:\n\u001b[0;32m      <a href='vscode-notebook-cell:/c%3A/Users/Fredric/Documents/Volcano/quail_volcano/src/physics/multiphaseWLMA/iapws95_light/WLMA_cython_tester.ipynb#X33sZmlsZQ%3D%3D?line=4'>5</a>\u001b[0m     hit_counts[_logger\u001b[39m.\u001b[39mall_logs[i][\u001b[39m0\u001b[39m][\u001b[39m1\u001b[39m]\u001b[39m.\u001b[39mget(\u001b[39m\"\u001b[39m\u001b[39malphaw_argmin\u001b[39m\u001b[39m\"\u001b[39m, \u001b[39m-\u001b[39m\u001b[39m1\u001b[39m)] \u001b[39m+\u001b[39m\u001b[39m=\u001b[39m \u001b[39m1\u001b[39m\n",
      "\u001b[1;31mNameError\u001b[0m: name '_logger' is not defined"
     ]
    }
   ],
   "source": [
    "\"\"\" Get hit counts from logs \"\"\"\n",
    "hit_counts = [0] * (8+1)\n",
    "for i in range(len(_logger.all_logs)):\n",
    "  if _logger.all_logs[i]:\n",
    "    hit_counts[_logger.all_logs[i][0][1].get(\"alphaw_argmin\", -1)] += 1"
   ]
  },
  {
   "cell_type": "code",
   "execution_count": null,
   "metadata": {},
   "outputs": [
    {
     "data": {
      "image/png": "[encoded data removed]",
      "text/plain": [
       "<Figure size 432x288 with 1 Axes>"
      ]
     },
     "metadata": {
      "needs_background": "light"
     },
     "output_type": "display_data"
    }
   ],
   "source": [
    "# Plot hit count histogram\n",
    "fig, ax = plt.subplots()\n",
    "# Create bar\n",
    "ax.bar(list(range(8)), hit_counts[:-1], log=True)\n",
    "ax.set_xlabel(\"Initial guess strategy\")\n",
    "ax.set_ylabel(\"Hit count\")\n",
    "# Define labels\n",
    "labels = [\"sat+extrapolate\", 1e-5, 0.01, 0.5, 0.99, 1.0-1e-5, \"bis_alphaw\", \"bis_rhow\"]\n",
    "\n",
    "# Label bars on x-axis\n",
    "ax.set_xticks(np.arange(len(labels)))\n",
    "ax.set_xticklabels(labels)\n",
    "# Rotate labels\n",
    "_ = plt.setp(ax.get_xticklabels(), rotation=45, ha=\"right\",\n",
    "         rotation_mode=\"anchor\")"
   ]
  },
  {
   "attachments": {},
   "cell_type": "markdown",
   "metadata": {},
   "source": [
    "#### Num steps logged testing"
   ]
  },
  {
   "cell_type": "code",
   "execution_count": null,
   "metadata": {},
   "outputs": [],
   "source": [
    "\"\"\" Get log count from logs as proxy for function call count \"\"\"\n",
    "log_counts = [len(log) for log in _logger.all_logs]"
   ]
  },
  {
   "cell_type": "code",
   "execution_count": null,
   "metadata": {},
   "outputs": [
    {
     "data": {
      "text/plain": [
       "Text(0.5, 0, 'Number of steps logged')"
      ]
     },
     "execution_count": 60,
     "metadata": {},
     "output_type": "execute_result"
    },
    {
     "data": {
      "image/png": "[encoded data removed]",
      "text/plain": [
       "<Figure size 432x288 with 1 Axes>"
      ]
     },
     "metadata": {
      "needs_background": "light"
     },
     "output_type": "display_data"
    }
   ],
   "source": [
    "plt.hist(log_counts, log=True, bins=50)\n",
    "plt.xlabel(\"Number of steps logged\")"
   ]
  },
  {
   "cell_type": "code",
   "execution_count": null,
   "metadata": {},
   "outputs": [
    {
     "data": {
      "text/plain": [
       "' Pull one log '"
      ]
     },
     "execution_count": 52,
     "metadata": {},
     "output_type": "execute_result"
    }
   ],
   "source": [
    "\"\"\" Pull one nonempty log \"\"\"\n",
    "# _logger.all_logs[83642]"
   ]
  },
  {
   "cell_type": "code",
   "execution_count": null,
   "metadata": {},
   "outputs": [],
   "source": [
    "# Save log (not recommended, huge file)\n",
    "# # import pickle\n",
    "# with open('log0.pkl', 'wb') as handle:\n",
    "#   pickle.dump(_logger, handle, protocol=pickle.HIGHEST_PROTOCOL)"
   ]
  },
  {
   "attachments": {},
   "cell_type": "markdown",
   "metadata": {},
   "source": [
    "### Vector-level parallelism"
   ]
  },
  {
   "cell_type": "code",
   "execution_count": 6,
   "metadata": {},
   "outputs": [],
   "source": [
    "import multiprocessing as mp\n",
    "\n",
    "NUM_WORKERS = 2\n",
    "pool = mp.Pool(NUM_WORKERS)\n",
    "\n",
    "def task(vec_in_vol_energy, vec_in_rho_mix, vec_in_yw, vec_in_ya):\n",
    "  ''' Curried task '''\n",
    "  return float_mix_functions.vec_conservative_to_pT_WLMA(\n",
    "    vec_in_vol_energy, vec_in_rho_mix, vec_in_yw, vec_in_ya,\n",
    "    K, p_m0, rho_m0, c_v_m0, R_a, gamma_a, logger=False)\n",
    "pool.starmap(task,\n",
    "  zip(np.array_split(vec_in_vol_energy, NUM_WORKERS),\n",
    "    np.array_split(vec_in_rho_mix, NUM_WORKERS),\n",
    "    np.array_split(vec_in_yw, NUM_WORKERS),\n",
    "    np.array_split(vec_in_ya, NUM_WORKERS))\n",
    ")"
   ]
  },
  {
   "cell_type": "code",
   "execution_count": null,
   "metadata": {},
   "outputs": [],
   "source": [
    "vec_in_vol_energy"
   ]
  },
  {
   "attachments": {},
   "cell_type": "markdown",
   "metadata": {},
   "source": [
    "#### Plot errors"
   ]
  },
  {
   "attachments": {},
   "cell_type": "markdown",
   "metadata": {},
   "source": [
    "For calibration:\n",
    "* Note that for T above 1720 K ~ 1760 K: weird things happen\n",
    "* T too close to triple point is also dangerous"
   ]
  },
  {
   "cell_type": "code",
   "execution_count": null,
   "metadata": {},
   "outputs": [
    {
     "name": "stderr",
     "output_type": "stream",
     "text": [
      "C:\\Users\\Fredric\\AppData\\Local\\Temp\\ipykernel_9360\\2014913622.py:3: RuntimeWarning: invalid value encountered in true_divide\n",
      "  p_reldiffs = np.abs(mg_p_calc / mg_p_target - 1.0)\n"
     ]
    },
    {
     "data": {
      "text/plain": [
       "Text(0.5, 0, '')"
      ]
     },
     "execution_count": 6,
     "metadata": {},
     "output_type": "execute_result"
    },
    {
     "data": {
      "image/png": "[encoded data removed]",
      "text/plain": [
       "<Figure size 432x288 with 1 Axes>"
      ]
     },
     "metadata": {
      "needs_background": "light"
     },
     "output_type": "display_data"
    }
   ],
   "source": [
    "%matplotlib inline\n",
    "p_diffs = np.abs(mg_p_calc - mg_p_target)\n",
    "p_reldiffs = np.abs(mg_p_calc / mg_p_target - 1.0)\n",
    "# plt.loglog((1 - mg_yw - mg_ya)[np.where(~np.isnan(p_reldiffs))], 1e-16+p_reldiffs[np.where(~np.isnan(p_reldiffs))], '.')\n",
    "# Transform to liquid volfrac\n",
    "mg_alpham = mg_rho_mix * (1 - mg_yw - mg_ya) / (rho_m0 * (1.0 + (mg_p_target - p_m0) / K))\n",
    "# plt.loglog(mg_alpham[np.where(~np.isnan(p_reldiffs))], 1e-16+p_reldiffs[np.where(~np.isnan(p_reldiffs))], '.')\n",
    "plt.loglog(mg_T[np.where(~np.isnan(p_reldiffs))], 1e-16+p_reldiffs[np.where(~np.isnan(p_reldiffs))], '.')\n",
    "plt.xlabel(\"\")"
   ]
  },
  {
   "attachments": {},
   "cell_type": "markdown",
   "metadata": {},
   "source": [
    "## Adversarial yw < 0.01"
   ]
  },
  {
   "cell_type": "code",
   "execution_count": 1,
   "metadata": {},
   "outputs": [],
   "source": [
    "%load_ext autoreload\n",
    "%autoreload 2\n",
    "\n",
    "import numpy as np\n",
    "import matplotlib.pyplot as plt\n",
    "import iapws95_light\n",
    "\n",
    "# Cython-backend imports\n",
    "import float_phi_functions\n",
    "import float_mix_functions\n",
    "import iapws95_light_perf\n",
    "import mixtureWLMA\n",
    "from time import perf_counter\n",
    "import scipy.optimize\n",
    "\n",
    "wlma = mixtureWLMA.WLMA()\n",
    "K = wlma.K\n",
    "p_m0 = wlma.p_m0\n",
    "rho_m0 = wlma.rho_m0\n",
    "v_m0 = 1.0 / rho_m0\n",
    "c_v_m0 = wlma.c_v_m0\n",
    "R_a = wlma.R_a\n",
    "gamma_a = wlma.gamma_a\n",
    "rhoc = mixtureWLMA.rhoc\n",
    "Tc = mixtureWLMA.Tc\n",
    "\n",
    "def prim_to_cons(yw, T, rhow, ya):\n",
    "  ''' Map from known primitive quantities to set of conservative variables.'''\n",
    "  p_target = float_phi_functions.p(rhow, T)\n",
    "  if p_target < 1e5 or p_target > 100e6:\n",
    "    # Skip\n",
    "    return (np.nan, np.nan, np.nan)\n",
    "  rhom = rho_m0* (1.0 + (p_target - p_m0) / K)\n",
    "  rhoa = p_target / (R_a * T)\n",
    "  rho_mix = 1.0/(yw / rhow + (1 - yw - ya) / rhom + ya / rhoa)\n",
    "  uw_target = float_phi_functions.u(rhow, T)\n",
    "  um_target = c_v_m0 * T \\\n",
    "    + float_mix_functions.magma_mech_energy(p_target, K , p_m0, rho_m0)\n",
    "  ua_target = R_a / (gamma_a - 1.0) * T\n",
    "  u_target = yw*uw_target + (1-yw-ya)*um_target + ya*ua_target\n",
    "  vol_energy = rho_mix * u_target\n",
    "  return (vol_energy, rho_mix, p_target)"
   ]
  },
  {
   "cell_type": "code",
   "execution_count": 6,
   "metadata": {},
   "outputs": [
    {
     "data": {
      "text/plain": [
       "Text(0, 0.5, '_Absolute_ error in pressure')"
      ]
     },
     "execution_count": 6,
     "metadata": {},
     "output_type": "execute_result"
    },
    {
     "data": {
      "image/png": "[encoded data removed]",
      "text/plain": [
       "<Figure size 432x288 with 1 Axes>"
      ]
     },
     "metadata": {
      "needs_background": "light"
     },
     "output_type": "display_data"
    },
    {
     "data": {
      "image/png": "[encoded data removed]",
      "text/plain": [
       "<Figure size 432x288 with 1 Axes>"
      ]
     },
     "metadata": {
      "needs_background": "light"
     },
     "output_type": "display_data"
    }
   ],
   "source": [
    "# Set test range\n",
    "# Faulty yw values:\n",
    "# 9.999999999937555e-11, 9.999999999962321e-11,\n",
    "# 4.944750397973433e-07, 4.732750447563829e-07,\n",
    "# 9.999999999996787e-11, 9.999999999939641e-11,\n",
    "# 9.999999999908318e-11, 4.665904298769208e-07,\n",
    "# 1.783299266790315e-07, 9.999999999906804e-11,\n",
    "# 9.999999999925935e-11]\n",
    "short_vec_yw = np.logspace(np.log10(1e-11), np.log10(1e-5), 60)\n",
    "# short_vec_yw = np.logspace(np.log10(1e-10), np.log10(10.0e-7), 20) #np.linspace(1e-6, 1-1e-7, 24) # 125\n",
    "short_vec_T = np.linspace(273.16+5, 1500, 18) # 130\n",
    "short_vec_rhow = np.linspace(0.1, 1260, 36) # 60\n",
    "short_vec_ya = np.linspace(1e-7, 1-1e-7, 22)\n",
    "\n",
    "short_mg_yw, short_mg_T, short_mg_rhow, short_mg_ya = np.meshgrid(\n",
    "  short_vec_yw, short_vec_T, short_vec_rhow, short_vec_ya, indexing=\"ij\")\n",
    "\n",
    "short_mg_p_target = np.nan * np.zeros_like(short_mg_yw)\n",
    "short_mg_vol_energy = np.nan * np.zeros_like(short_mg_yw)\n",
    "short_mg_rho_mix = np.nan * np.zeros_like(short_mg_yw)\n",
    "\n",
    "# Iteratively load complete conservative state\n",
    "for i, j, k, l in np.ndindex(short_mg_yw.shape):\n",
    "  if short_mg_ya[i,j,k,l] + short_mg_yw[i,j,k,l] <= 1.0:\n",
    "    (short_mg_vol_energy[i,j,k,l],\n",
    "     short_mg_rho_mix[i,j,k,l],\n",
    "     short_mg_p_target[i,j,k,l]) = prim_to_cons(\n",
    "      short_mg_yw[i,j,k,l],\n",
    "      short_mg_T[i,j,k,l],\n",
    "      short_mg_rhow[i,j,k,l],\n",
    "      short_mg_ya[i,j,k,l])\n",
    "\n",
    "# Allocate output memory\n",
    "# mg_p_calc = np.empty_like(mg_yw)\n",
    "# mg_T_calc = np.empty_like(mg_yw)\n",
    "valid_indices = np.where((~np.isnan(short_mg_vol_energy.ravel())) & (short_mg_vol_energy.ravel() != 0))\n",
    "# Simulate vector input\n",
    "vec_in_vol_energy = short_mg_vol_energy.ravel()[valid_indices]\n",
    "vec_in_rho_mix = short_mg_rho_mix.ravel()[valid_indices]\n",
    "vec_in_yw = short_mg_yw.ravel()[valid_indices]\n",
    "vec_in_ya = short_mg_ya.ravel()[valid_indices]\n",
    "\n",
    "vec_in_vol_energy0 = vec_in_vol_energy.copy()\n",
    "_out = float_mix_functions.vec_conservative_to_pT_WLMA(vec_in_vol_energy, vec_in_rho_mix, vec_in_yw, vec_in_ya, K, p_m0, rho_m0,\n",
    "  c_v_m0, R_a, gamma_a, logger=False)\n",
    "\n",
    "# Compute relative errors of vectorized wrapper\n",
    "_vec_rels = _out[1::4] / short_mg_p_target.ravel()[valid_indices] - 1.0\n",
    "plt.semilogx(short_mg_yw.ravel()[valid_indices], _vec_rels, '.')\n",
    "plt.xlabel(\"yw\")\n",
    "plt.ylabel(\"Relative error in pressure\")\n",
    "\n",
    "plt.figure()\n",
    "plt.semilogx((1-short_mg_yw-short_mg_ya).ravel()[valid_indices], _out[1::4] - short_mg_p_target.ravel()[valid_indices], '.')\n",
    "# plt.semilogx(short_mg_yw.ravel()[valid_indices], , '.')\n",
    "plt.xlabel(\"ym\")\n",
    "plt.ylabel(\"_Absolute_ error in pressure\")"
   ]
  },
  {
   "cell_type": "code",
   "execution_count": 69,
   "metadata": {},
   "outputs": [
    {
     "data": {
      "text/plain": [
       "287"
      ]
     },
     "execution_count": 69,
     "metadata": {},
     "output_type": "execute_result"
    }
   ],
   "source": [
    "R_a"
   ]
  },
  {
   "cell_type": "code",
   "execution_count": 92,
   "metadata": {},
   "outputs": [
    {
     "data": {
      "text/plain": [
       "Text(0.5, 1.0, 'p using one-step corrected temperature')"
      ]
     },
     "execution_count": 92,
     "metadata": {},
     "output_type": "execute_result"
    },
    {
     "data": {
      "image/png": "[encoded data removed]",
      "text/plain": [
       "<Figure size 1008x864 with 6 Axes>"
      ]
     },
     "metadata": {
      "needs_background": "light"
     },
     "output_type": "display_data"
    }
   ],
   "source": [
    "\n",
    "# _out = float_mix_functions.vec_conservative_to_pT_WLMA(\n",
    "\n",
    "_yw_check = np.zeros_like(vec_in_vol_energy)\n",
    "p_as_ideal = np.zeros_like(vec_in_vol_energy)\n",
    "T_as_ideal = np.zeros_like(vec_in_vol_energy)\n",
    "# Ideal + correction\n",
    "p_as_idealcorr = np.zeros_like(vec_in_vol_energy)\n",
    "T_as_idealcorr = np.zeros_like(vec_in_vol_energy)\n",
    "R_eff_all = np .zeros_like(vec_in_vol_energy)\n",
    "\n",
    "for i, _ in enumerate(vec_in_vol_energy.ravel()):\n",
    "  _vol_energy, _rho_mix, _yw, _ya = (dat.ravel()[i] for dat in\n",
    "    (vec_in_vol_energy, vec_in_rho_mix, vec_in_yw, vec_in_ya))\n",
    "  _e = _vol_energy / _rho_mix\n",
    "  _ym = 1.0 - (_yw + _ya)\n",
    "  assert(_ym >= 0.0)\n",
    "  _yw_check.ravel()[i] = 1.0 - (_ym + _ya)\n",
    "  # Pseudo water -> air replacement\n",
    "  _ya_repl = 1.0 - _ym\n",
    "  _T_approx = _e / (_ya_repl * R_a / (gamma_a - 1.0) + _ym * c_v_m0)\n",
    "  params = {\n",
    "    \"vol_energy\": _vol_energy,\n",
    "    \"rho_mix\": _rho_mix,\n",
    "    \"yw\": _yw,\n",
    "    \"ya\": _ya_repl,\n",
    "    \"K\": K,\n",
    "    \"p_m0\": p_m0,\n",
    "    \"rho_m0\": rho_m0,\n",
    "    \"c_v_m0\": c_v_m0,\n",
    "    \"R_a\": R_a,\n",
    "    \"gamma_a\": gamma_a,\n",
    "  }\n",
    "  T_as_ideal.ravel()[i] = _T_approx\n",
    "  p_as_ideal.ravel()[i] = float_mix_functions.p_LMA(_T_approx, _ya_repl, params) #_ya * _rho_mix * R_a * _T_approx\n",
    "  # One-step correction for water\n",
    "  # Water as air density (avoid using vol frac formulation, which can explode pw)\n",
    "  _rhoa = p_as_ideal.ravel()[i] / (R_a * _T_approx)\n",
    "  e_w = float_mix_functions.u(_rhoa, _T_approx)\n",
    "  _T_approx_corr = (_e - _yw * e_w \n",
    "                    - _ym * float_mix_functions.magma_mech_energy(\n",
    "                      p_as_ideal.ravel()[i], K, p_m0, rho_m0))\\\n",
    "                    / (_ya * R_a / (gamma_a - 1.0) + _ym * c_v_m0)\n",
    "  T_as_idealcorr.ravel()[i] = _T_approx_corr\n",
    "  # Compute using air + water Z stiffness\n",
    "  # _R_w = float_mix_functions.p(_rhoa, _T_approx) / (_rhoa * _T_approx)\n",
    "  # experimental: modified gas stiffness (only good for ya >> yw)\n",
    "\n",
    "  _R_w = 28.84 / 18.02 * R_a\n",
    "  _R_gas_eff = (_ya * R_a + _yw * _R_w) / (_ya + _yw)\n",
    "  params[\"R_a\"] = _R_gas_eff\n",
    "  R_eff_all.ravel()[i] = _R_gas_eff\n",
    "  p_as_idealcorr.ravel()[i] = float_mix_functions.p_LMA(_T_approx_corr, _ya_repl, params) #_ya * _rho_mix * R_a * _T_approx\n",
    "\n",
    "  # K, p_m0, rho_m0, c_v_m0, R_a, gamma_a, logger=False)\n",
    "\n",
    "_ideal_T_relerror = T_as_ideal / short_mg_T.ravel()[valid_indices] - 1.0\n",
    "_ideal_p_relerror = p_as_ideal / short_mg_p_target.ravel()[valid_indices] - 1.0\n",
    "_idealcorr_T_relerror = T_as_idealcorr / short_mg_T.ravel()[valid_indices] - 1.0\n",
    "_idealcorr_p_relerror = p_as_idealcorr / short_mg_p_target.ravel()[valid_indices] - 1.0\n",
    "\n",
    "plt.figure(figsize=(14,12))\n",
    "plt.subplot(2,3,1)\n",
    "plt.semilogx(short_mg_yw.ravel()[valid_indices], _ideal_T_relerror, '.')\n",
    "plt.xlabel(\"yw\")\n",
    "plt.ylabel(\"Relative error in T\")\n",
    "plt.subplot(2,3,2)\n",
    "plt.loglog(short_mg_yw.ravel()[valid_indices], np.abs(_ideal_p_relerror), '.')\n",
    "plt.xlabel(\"yw\")\n",
    "plt.ylabel(\"Relative error in pressure\")\n",
    "plt.subplot(2,3,3)\n",
    "plt.loglog(short_mg_ya.ravel()[valid_indices] / short_mg_yw.ravel()[valid_indices], np.abs(_ideal_p_relerror), '.')\n",
    "plt.xlabel(\"ya/yw\")\n",
    "plt.ylabel(\"Relative error in pressure\")\n",
    "plt.subplot(2,3,4)\n",
    "plt.semilogx(short_mg_yw.ravel()[valid_indices], _idealcorr_T_relerror, '.')\n",
    "plt.xlabel(\"yw\")\n",
    "plt.ylabel(\"Relative error in T\")\n",
    "plt.title(\"One-step corrected temperature\")\n",
    "plt.subplot(2,3,5)\n",
    "plt.loglog(short_mg_yw.ravel()[valid_indices], np.abs(_idealcorr_p_relerror), '.')\n",
    "plt.xlabel(\"yw\")\n",
    "plt.ylabel(\"Relative error in pressure\")\n",
    "plt.title(\"p using one-step corrected temperature\")\n",
    "plt.xlim(right=1e-8)\n",
    "plt.subplot(2,3,6)\n",
    "# plt.loglog(short_mg_ya.ravel()[valid_indices] / short_mg_yw.ravel()[valid_indices], np.abs(_idealcorr_p_relerror), '.')\n",
    "plt.loglog((1.0 - short_mg_yw - short_mg_ya).ravel()[valid_indices], np.abs(_idealcorr_p_relerror), '.')\n",
    "\n",
    "plt.xlabel(\"ya/yw\")\n",
    "plt.ylabel(\"Relative error in pressure\")\n",
    "plt.title(\"p using one-step corrected temperature\")"
   ]
  },
  {
   "cell_type": "code",
   "execution_count": 86,
   "metadata": {},
   "outputs": [
    {
     "data": {
      "text/plain": [
       "array([ 278.16      ,  278.15999998,  278.15999998, ..., 1500.00076176,\n",
       "       1500.00085058, 1500.00096279])"
      ]
     },
     "execution_count": 86,
     "metadata": {},
     "output_type": "execute_result"
    }
   ],
   "source": [
    "T_as_idealcorr"
   ]
  },
  {
   "cell_type": "code",
   "execution_count": 88,
   "metadata": {},
   "outputs": [
    {
     "data": {
      "text/plain": [
       "0.027700042724609374"
      ]
     },
     "execution_count": 88,
     "metadata": {},
     "output_type": "execute_result"
    }
   ],
   "source": [
    "_a, _b = 0.01, 1160\n",
    "# Set default initial guess (used if T >= Tc)\n",
    "_alphaw_initrhow = 0.25\n",
    "\n",
    "\n",
    "kern = lambda alphaw: float_mix_functions.iterate_backtrack_box(\n",
    "  _yw * _rho_mix / alphaw, _T_approx_corr, params)[\"fnorm\"]\n",
    "\n",
    "# Use initial T guess, and bisection search over water density\n",
    "# Compute volume residual for endpoint _a\n",
    "f_vol_a = kern(_a)\n",
    "# Bisect for volume condition using water density as the decision variable\n",
    "for i in range(16):\n",
    "  _m = 0.5 * (_a + _b)\n",
    "  # Compare volume residual sum(vol fracs) - 1.0\n",
    "  if kern(_m) > 0:\n",
    "    # Decrease water volume fraction to mitigate excess volume\n",
    "    _b = _m\n",
    "  else:\n",
    "    # Increase water volume fraction to mitigate insufficient volume\n",
    "    _a = _m\n",
    "\n",
    "_m"
   ]
  },
  {
   "cell_type": "code",
   "execution_count": 91,
   "metadata": {},
   "outputs": [
    {
     "data": {
      "text/plain": [
       "[<matplotlib.lines.Line2D at 0x1aa83963d30>]"
      ]
     },
     "execution_count": 91,
     "metadata": {},
     "output_type": "execute_result"
    },
    {
     "data": {
      "image/png": "[encoded data removed]",
      "text/plain": [
       "<Figure size 432x288 with 1 Axes>"
      ]
     },
     "metadata": {
      "needs_background": "light"
     },
     "output_type": "display_data"
    }
   ],
   "source": [
    "_rhow_range = np.linspace(0.01,1160,100)\n",
    "plt.plot(_rhow_range, [kern(_rhow) for _rhow in _rhow_range], '.-')"
   ]
  },
  {
   "cell_type": "code",
   "execution_count": 78,
   "metadata": {},
   "outputs": [
    {
     "data": {
      "text/plain": [
       "(0.9523808619047619, 1e-05, 287, 459.3274139844617)"
      ]
     },
     "execution_count": 78,
     "metadata": {},
     "output_type": "execute_result"
    }
   ],
   "source": [
    "(_ya * R_a * _yw * _R_w) / (_ya + _yw)\n",
    "_ya, _yw, R_a, _R_w"
   ]
  },
  {
   "cell_type": "code",
   "execution_count": 63,
   "metadata": {},
   "outputs": [
    {
     "data": {
      "text/plain": [
       "459.3274139844617"
      ]
     },
     "execution_count": 63,
     "metadata": {},
     "output_type": "execute_result"
    }
   ],
   "source": [
    "params[\"R_a\"]."
   ]
  },
  {
   "cell_type": "code",
   "execution_count": 75,
   "metadata": {},
   "outputs": [
    {
     "data": {
      "text/plain": [
       "(1.3181378643489704e-06, 1.3182558364478074, 287)"
      ]
     },
     "execution_count": 75,
     "metadata": {},
     "output_type": "execute_result"
    }
   ],
   "source": [
    "R_eff_all.min(), R_eff_all.max(), R_a, \n",
    "# p_as_idealcorr.min()"
   ]
  },
  {
   "cell_type": "code",
   "execution_count": 9,
   "metadata": {},
   "outputs": [
    {
     "data": {
      "text/plain": [
       "1.0"
      ]
     },
     "execution_count": 9,
     "metadata": {},
     "output_type": "execute_result"
    }
   ],
   "source": [
    "0.999999577343698 + 3.226563020646859e-07 + 1e-7"
   ]
  },
  {
   "cell_type": "code",
   "execution_count": 13,
   "metadata": {},
   "outputs": [
    {
     "data": {
      "text/plain": [
       "array([362.59138517, 611.65477101, 273.16      ,   2.30008298])"
      ]
     },
     "execution_count": 13,
     "metadata": {},
     "output_type": "execute_result"
    }
   ],
   "source": [
    "float_mix_functions.vec_conservative_to_pT_WLMA(\n",
    "  np.array([3634.230410808791]),\n",
    "  np.array([1.123769729128429]),\n",
    "  np.array([3.226563020646859e-07]),\n",
    "  np.array([0.999999577343698]),\n",
    "  K, p_m0, rho_m0,\n",
    "  c_v_m0, R_a, gamma_a, logger=False)"
   ]
  }
 ],
 "metadata": {
  "kernelspec": {
   "display_name": "Python 3",
   "language": "python",
   "name": "python3"
  },
  "language_info": {
   "codemirror_mode": {
    "name": "ipython",
    "version": 3
   },
   "file_extension": ".py",
   "mimetype": "text/x-python",
   "name": "python",
   "nbconvert_exporter": "python",
   "pygments_lexer": "ipython3",
   "version": "3.9.1"
  },
  "orig_nbformat": 4
 },
 "nbformat": 4,
 "nbformat_minor": 2
}
