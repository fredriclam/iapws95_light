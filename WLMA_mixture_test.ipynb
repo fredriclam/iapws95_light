{
 "cells": [
  {
   "cell_type": "code",
   "execution_count": 2,
   "metadata": {},
   "outputs": [
    {
     "name": "stdout",
     "output_type": "stream",
     "text": [
      "Python version: 3.9.1 (tags/v3.9.1:1e5d33e, Dec  7 2020, 17:08:21) [MSC v.1927 64 bit (AMD64)] \n",
      "Require >= 3.9\n"
     ]
    }
   ],
   "source": [
    "%load_ext autoreload\n",
    "%autoreload 2\n",
    "\n",
    "import sys\n",
    "print(f\"Python version: {sys.version} \")\n",
    "print(f\"Require >= 3.9\")\n",
    "\n",
    "import numpy as np\n",
    "import matplotlib.pyplot as plt\n",
    "import iapws95_light\n",
    "\n",
    "# Cython-backend imports\n",
    "import float_phi_functions\n",
    "import float_mix_functions\n",
    "import iapws95_light_perf\n",
    "import mixtureWLM"
   ]
  },
  {
   "cell_type": "code",
   "execution_count": 3,
   "metadata": {},
   "outputs": [
    {
     "name": "stdout",
     "output_type": "stream",
     "text": [
      "Timing iapws95_light_perf calculations for scalar input.\n",
      "=== Individual routines ===\n",
      "phi0         : 0.23 us\n",
      "phi0_d       : 0.13 us\n",
      "phi0_dd      : 0.12 us\n",
      "phi0_t       : 0.15 us\n",
      "phi0_tt      : 0.16 us\n",
      "phi0_dt      : 0.13 us\n",
      "phir         : 3.86 us\n",
      "phir_d       : 3.46 us\n",
      "phir_dd      : 3.75 us\n",
      "phir_t       : 3.87 us\n",
      "phir_tt      : 3.94 us\n",
      "phir_dt      : 3.52 us\n",
      "=== Reference ops (pure python) ===\n",
      "rho * R * T  : 0.12 us\n",
      "(rho*T)**.5  : 0.21 us\n",
      "lambda no-op : 0.06 us\n",
      "=== Optimized routines ===\n",
      "phir_*       : 1.15 us\n",
      "phi0_*       : 0.42 us\n",
      "phir_d_dd    : 0.89 us\n"
     ]
    }
   ],
   "source": [
    "iapws95_light_perf.print_timing()"
   ]
  },
  {
   "cell_type": "code",
   "execution_count": 29,
   "metadata": {},
   "outputs": [],
   "source": [
    "# WLMA model special case: ya = 0.0\n",
    "from time import perf_counter\n",
    "import scipy.optimize\n",
    "\n",
    "K = mixtureWLM.K\n",
    "p_m0 = mixtureWLM.p_m0\n",
    "rho_m0 = mixtureWLM.rho_m0\n",
    "v_m0 = 1.0 / rho_m0\n",
    "c_v_m0 = 3e3\n",
    "ya = 0.0\n",
    "\n",
    "def run_float_mix_function(yw, T, rhow):\n",
    "  ''' Run manager with rhow as 3rd input '''\n",
    "  # Compute dependent quantities\n",
    "  p_target = float_phi_functions.p(rhow, T)\n",
    "  if p_target < 1e5 or p_target > 100e6:\n",
    "    # Skip\n",
    "    return np.nan, np.nan, 0.0, np.nan\n",
    "  rhom = rho_m0* (1.0 + (p_target - p_m0) / K)\n",
    "  rho_mix = 1.0/(yw / rhow + (1 - yw) / rhom )\n",
    "  uw_target = float_phi_functions.u(rhow, T)\n",
    "  um_target = c_v_m0 * T \\\n",
    "    + float_mix_functions.magma_mech_energy(p_target, K , p_m0, rho_m0)\n",
    "  u_target = yw*uw_target + (1-yw)*um_target \n",
    "  vol_energy = rho_mix * u_target\n",
    "  rho_target = rho_mix\n",
    "  T_target = T\n",
    "  # Run with timer\n",
    "  N_samples = 1\n",
    "  t1 = perf_counter()\n",
    "  for i in range(N_samples):\n",
    "    _out = float_mix_functions.conservative_to_pT_WLMA(vol_energy, rho_mix,\n",
    "      yw, ya, K, p_m0, rho_m0, c_v_m0, 287, 1.4)\n",
    "    p = _out[\"p\"]\n",
    "    T = _out[\"T\"]\n",
    "  t2 = perf_counter()\n",
    "  return p, p_target, (t2-t1)/N_samples, T\n",
    "\n",
    "v_yw = np.linspace(0.01, 1-1e-9, 375)\n",
    "v_T = np.linspace(280, 1600, 260)\n",
    "v_rhow = np.linspace(0.5, 1050, 60)\n",
    "\n",
    "mg_yw, mg_T, mg_rhow = np.meshgrid(v_yw, v_T, v_rhow, indexing=\"ij\")\n",
    "# mg_yw, mg_T, mg_p = np.meshgrid(v_yw, v_T, v_p, indexing=\"ij\")\n",
    "\n",
    "mg_p_calc = np.empty_like(mg_yw)\n",
    "mg_p_target = np.empty_like(mg_yw)\n",
    "mg_wallt = np.empty_like(mg_yw)\n",
    "mg_T_calc = np.empty_like(mg_yw)\n",
    "\n",
    "for i, j, k in np.ndindex(mg_yw.shape):\n",
    "  mg_p_calc[i,j,k], mg_p_target[i,j,k], mg_wallt[i,j,k], mg_T_calc[i,j,k] = \\\n",
    "    run_float_mix_function(mg_yw[i,j,k], mg_T[i,j,k], mg_rhow[i,j,k])"
   ]
  },
  {
   "cell_type": "code",
   "execution_count": 30,
   "metadata": {},
   "outputs": [
    {
     "data": {
      "text/plain": [
       "Text(0, 0.5, 'counts')"
      ]
     },
     "execution_count": 30,
     "metadata": {},
     "output_type": "execute_result"
    },
    {
     "data": {
      "image/png": "[encoded data removed]",
      "text/plain": [
       "<Figure size 432x288 with 1 Axes>"
      ]
     },
     "metadata": {
      "needs_background": "light"
     },
     "output_type": "display_data"
    },
    {
     "data": {
      "image/png": "[encoded data removed]",
      "text/plain": [
       "<Figure size 432x288 with 1 Axes>"
      ]
     },
     "metadata": {
      "needs_background": "light"
     },
     "output_type": "display_data"
    }
   ],
   "source": [
    "''' Histogram WLMA at ya = 0'''\n",
    "plt.figure()\n",
    "# plt.hist(np.clip(np.log10(np.abs(mg_p_calc / mg_p_target - 1.0).ravel()), -16, -7), bins=100, log=True)\n",
    "# supcrit_indices = np.where(mg_T.ravel()>=iapws95_light.Tc)\n",
    "plt.hist(np.log10(1e-16+np.abs(mg_p_calc / mg_p_target - 1.0).ravel()[:]), bins=100, log=True)\n",
    "plt.xlabel(\"log10(p rel error)\")\n",
    "plt.ylabel(\"counts\")\n",
    "plt.figure()\n",
    "plt.hist(mg_wallt.ravel()*1e6, bins=100, log=True)\n",
    "plt.xlabel(\"wall (us)\")\n",
    "plt.ylabel(\"counts\")"
   ]
  },
  {
   "cell_type": "code",
   "execution_count": 33,
   "metadata": {},
   "outputs": [
    {
     "data": {
      "text/plain": [
       "3326528.466173707"
      ]
     },
     "execution_count": 33,
     "metadata": {},
     "output_type": "execute_result"
    }
   ],
   "source": [
    "float_phi_functions.p(998, 300)"
   ]
  },
  {
   "cell_type": "code",
   "execution_count": 34,
   "metadata": {},
   "outputs": [],
   "source": [
    "def prim_to_cons(yw, T, rhow, ya):\n",
    "# Compute dependent quantities\n",
    "  p_target = float_phi_functions.p(rhow, T)\n",
    "  if p_target < 1e5 or p_target > 100e6:\n",
    "    # Skip\n",
    "    return yw, np.nan, np.nan\n",
    "  rhom = rho_m0* (1.0 + (p_target - p_m0) / K)\n",
    "  rhoa = p_target / (R_a * T)\n",
    "  rho_mix = 1.0/(yw / rhow + (1 - yw - ya) / rhom + ya / rhoa)\n",
    "  uw_target = float_phi_functions.u(rhow, T)\n",
    "  um_target = c_v_m0 * T \\\n",
    "    + float_mix_functions.magma_mech_energy(p_target, K , p_m0, rho_m0)\n",
    "  ua_target = R_a / (gamma_a - 1.0) * T\n",
    "  u_target = yw*uw_target + (1-yw-ya)*um_target + ya*ua_target\n",
    "  vol_energy = rho_mix * u_target\n",
    "  return (yw, vol_energy, rho_mix)"
   ]
  },
  {
   "attachments": {},
   "cell_type": "markdown",
   "metadata": {},
   "source": [
    "## Middleware test"
   ]
  },
  {
   "cell_type": "code",
   "execution_count": 1,
   "metadata": {},
   "outputs": [],
   "source": [
    "%load_ext autoreload\n",
    "%autoreload 2"
   ]
  },
  {
   "cell_type": "code",
   "execution_count": 1,
   "metadata": {},
   "outputs": [],
   "source": [
    "import mixtureWLMA\n",
    "import float_phi_functions\n",
    "import float_mix_functions\n",
    "wlm = mixtureWLMA.WLM()\n",
    "\n",
    "# WLMA model special case: ya = 0.0\n",
    "from time import perf_counter\n",
    "import scipy.optimize\n",
    "import numpy as np\n",
    "\n",
    "ya = 0.0\n",
    "# Compute conservative variables from primitives\n",
    "R_a = 287\n",
    "gamma_a = 1.4\n",
    "rho_m0 = wlm.rho_m0\n",
    "K = wlm.K\n",
    "p_m0 = wlm.p_m0\n",
    "c_v_m0 = wlm.c_v_m0\n",
    "\n",
    "# Define fallback values for testing\n",
    "rhow_test_fallback = 998\n",
    "T_test_fallback = 300\n",
    "\n",
    "def prim_to_cons_with_default(yw, T, rhow, ya=0.0):\n",
    "# Compute dependent quantities\n",
    "  p_target = float_phi_functions.p(rhow, T)\n",
    "  used_default = False\n",
    "  if p_target < 1e5 or p_target > 200e6:\n",
    "    # Revert to default rhow, T\n",
    "    rhow, T = rhow_test_fallback, T_test_fallback\n",
    "    p_target = float_phi_functions.p(rhow, T)\n",
    "    used_default = True\n",
    "  rhom = rho_m0* (1.0 + (p_target - p_m0) / K)\n",
    "  rhoa = p_target / (R_a * T)\n",
    "  rho_mix = 1.0/(yw / rhow + (1 - yw - ya) / rhom + ya / rhoa)\n",
    "  uw_target = float_phi_functions.u(rhow, T)\n",
    "  um_target = c_v_m0 * T \\\n",
    "    + float_mix_functions.magma_mech_energy(p_target, K , p_m0, rho_m0)\n",
    "  ua_target = R_a / (gamma_a - 1.0) * T\n",
    "  u_target = yw*uw_target + (1-yw-ya)*um_target + ya*ua_target\n",
    "  vol_energy = rho_mix * u_target\n",
    "  return (yw, vol_energy, rho_mix, p_target, used_default)\n",
    "\n",
    "# Fill primitives\n",
    "v_yw = np.linspace(0.001, 1-1e-9, 375) # 375\n",
    "v_T = np.linspace(280, 1600, 26)  # 260\n",
    "v_rhow = np.linspace(0.5, 1050, 30) # 60\n",
    "# Fill conservatives, roll into index0\n",
    "mg_yw, mg_T, mg_rhow = np.meshgrid(v_yw, v_T, v_rhow, indexing=\"ij\")\n",
    "mg_p = np.empty_like(mg_T)\n",
    "U = np.zeros((mg_yw.size,1,9))\n",
    "for serial_i, (i, j, k) in enumerate(np.ndindex(mg_yw.shape)):\n",
    "  _yw, _vol_energy, _rho_mix, mg_p[i,j,k], _used_default = \\\n",
    "    prim_to_cons_with_default(mg_yw[i,j,k], mg_T[i,j,k], mg_rhow[i,j,k])\n",
    "  # Modify mg\n",
    "  if _used_default:\n",
    "    mg_rhow[i,j,k], mg_T[i,j,k] = rhow_test_fallback, T_test_fallback\n",
    "  \n",
    "  U[serial_i, 0, 0:3] = [0.0, _yw*_rho_mix, (1.0-_yw)*_rho_mix]\n",
    "  U[serial_i, 0, 5:6] = _vol_energy"
   ]
  },
  {
   "cell_type": "code",
   "execution_count": 2,
   "metadata": {},
   "outputs": [
    {
     "name": "stdout",
     "output_type": "stream",
     "text": [
      "nan occurences: []\n",
      "Max difference in rhow: 1.8325181372347288e-09; in p: 0.00015438534319400787\n",
      "Max sound speed encountered: 1849.0320951821116\n"
     ]
    }
   ],
   "source": [
    "''' Check correctness of middleware function '''\n",
    "_out_pTvf_native = wlm.pTvf_native(U[...,0:3], U[...,3:5], U[...,5:6])\n",
    "# Nan check\n",
    "yw_nan = (U[...,1] / U[...,0:3].sum(axis=-1)).ravel()[\n",
    "    np.where(np.isnan(_out_pTvf_native[0].ravel()))]\n",
    "print(f\"nan occurences: {yw_nan}\")\n",
    "# Value check\n",
    "max_diff_rhow = np.max(np.abs(mg_rhow.ravel() - _out_pTvf_native[0].ravel()))\n",
    "max_diff_p = np.max(np.abs(mg_p.ravel() - _out_pTvf_native[1].ravel()))\n",
    "max_diff_T = np.max(np.abs(mg_T.ravel() - _out_pTvf_native[2].ravel()))\n",
    "print(f\"Max difference in rhow: {max_diff_rhow}; in p: {max_diff_p}\")\n",
    "print(f\"Max sound speed encountered: {_out_pTvf_native[3].ravel().max()}\")"
   ]
  },
  {
   "cell_type": "code",
   "execution_count": 5,
   "metadata": {},
   "outputs": [
    {
     "name": "stdout",
     "output_type": "stream",
     "text": [
      "Inf-norm difference of map and native outputs: 0.0\n"
     ]
    }
   ],
   "source": [
    "''' Compare implementations of middleware function: native vs. python-map '''\n",
    "_out_pTvf_map = wlm.pTvf_map(U[...,0:3], U[...,3:5], U[...,5:6])\n",
    "print(f\"Inf-norm difference of map and native outputs: \" +\n",
    "      f\"{np.linalg.norm(np.array(_out_pTvf_map[0] - _out_pTvf_native[0]))}\")"
   ]
  },
  {
   "cell_type": "code",
   "execution_count": 8,
   "metadata": {},
   "outputs": [
    {
     "name": "stdout",
     "output_type": "stream",
     "text": [
      "451 ms ± 822 µs per loop (mean ± std. dev. of 7 runs, 1 loop each)\n"
     ]
    }
   ],
   "source": [
    "# Timing for middleware on typical size (ne=3000, nb=6)\n",
    "%timeit wlm.pTvf_native(U[0:18000,0:1,0:3], U[0:18000,0:1,3:5], U[0:18000,0:1,5:6])\n",
    "%timeit wlm.pTvf_map(U[0:18000,0:1,0:3], U[0:18000,0:1,3:5], U[0:18000,0:1,5:6])"
   ]
  }
 ],
 "metadata": {
  "kernelspec": {
   "display_name": "Python 3.9.1 64-bit",
   "language": "python",
   "name": "python3"
  },
  "language_info": {
   "codemirror_mode": {
    "name": "ipython",
    "version": 3
   },
   "file_extension": ".py",
   "mimetype": "text/x-python",
   "name": "python",
   "nbconvert_exporter": "python",
   "pygments_lexer": "ipython3",
   "version": "3.9.1"
  },
  "orig_nbformat": 4,
  "vscode": {
   "interpreter": {
    "hash": "81794d4967e6c3204c66dcd87b604927b115b27c00565d3d43f05ba2f3a2cb0d"
   }
  }
 },
 "nbformat": 4,
 "nbformat_minor": 2
}
