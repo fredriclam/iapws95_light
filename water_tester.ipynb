{
 "cells": [
  {
   "cell_type": "markdown",
   "metadata": {},
   "source": [
    "## Testing"
   ]
  },
  {
   "cell_type": "code",
   "execution_count": 1,
   "metadata": {},
   "outputs": [],
   "source": [
    "%load_ext autoreload\n",
    "%autoreload 2\n",
    "\n",
    "import numpy as np\n",
    "import matplotlib.pyplot as plt"
   ]
  },
  {
   "cell_type": "code",
   "execution_count": 2,
   "metadata": {},
   "outputs": [
    {
     "name": "stdout",
     "output_type": "stream",
     "text": [
      "Test case 1: rho = 838.025 kg m^{-3},,T = 500 K\n",
      "Computed: \n",
      "===============================================\n",
      "phi0    |  2.047977336 | phir    | -3.426932057\n",
      "phi0_d  |  0.384236747 | phir_d  | -0.364366650\n",
      "phi0_dd | -0.147637878 | phir_dd |  0.856063701\n",
      "phi0_t  |  9.046111061 | phir_t  | -5.814034352\n",
      "phi0_tt | -1.932491850 | phir_tt | -2.234407369\n",
      "phi0_dt |  0.000000000 | phir_dt | -1.121769147\n",
      "Reference (9 significant figures): \n",
      "===============================================\n",
      "phi0    |  2.047977340 | phir    | -3.426932060\n",
      "phi0_d  |  0.384236747 | phir_d  | -0.364366650\n",
      "phi0_dd | -0.147637878 | phir_dd |  0.856063701\n",
      "phi0_t  |  9.046111060 | phir_t  | -5.814034350\n",
      "phi0_tt | -1.932491850 | phir_tt | -2.234407370\n",
      "phi0_dt |  0.000000000 | phir_dt | -1.121769150\n",
      "\n",
      "Test case 2: rho = 358 kg m^{-3}, T = 647 K\n",
      "Computed: \n",
      "===============================================\n",
      "phi0    | -1.563196050 | phir    | -1.212026565\n",
      "phi0_d  |  0.899441341 | phir_d  | -0.714012024\n",
      "phi0_dd | -0.808994726 | phir_dd |  0.475730696\n",
      "phi0_t  |  9.803439179 | phir_t  | -3.217225008\n",
      "phi0_tt | -3.433163341 | phir_tt | -9.960295066\n",
      "phi0_dt |  0.000000000 | phir_dt | -1.332147204\n",
      "Reference (9 significant figures): \n",
      "===============================================\n",
      "phi0    | -1.563196050 | phir    | -1.212026570\n",
      "phi0_d  |  0.899441341 | phir_d  | -0.714012024\n",
      "phi0_dd | -0.808994726 | phir_dd |  0.475730696\n",
      "phi0_t  |  9.803439180 | phir_t  | -3.217225010\n",
      "phi0_tt | -3.433163340 | phir_tt | -9.960295070\n",
      "phi0_dt |  0.000000000 | phir_dt | -1.332147200\n"
     ]
    }
   ],
   "source": [
    "import iapws95_light\n",
    "iapws95_light.print_verification_values()"
   ]
  },
  {
   "cell_type": "code",
   "execution_count": 3,
   "metadata": {},
   "outputs": [
    {
     "name": "stdout",
     "output_type": "stream",
     "text": [
      "Timing p(rho, T) calculations for scalar input.\n",
      "iapws95_light: 316.58788333333337 us\n",
      "Ideal gas    : 0.4463750000000112 us\n",
      "Relative load: 709.242x\n",
      "=== Additional details ===\n",
      "Number of coefficients in model: 247\n",
      "Relative load per model dof:     2.871x\n"
     ]
    }
   ],
   "source": [
    "iapws95_light.print_timing()"
   ]
  },
  {
   "cell_type": "code",
   "execution_count": null,
   "metadata": {},
   "outputs": [
    {
     "data": {
      "text/plain": [
       "996.9600226950664"
      ]
     },
     "execution_count": 29,
     "metadata": {},
     "output_type": "execute_result"
    }
   ],
   "source": [
    "import iapws\n",
    "iapws.IAPWS95(P=1, T=300).rho"
   ]
  },
  {
   "cell_type": "code",
   "execution_count": 4,
   "metadata": {},
   "outputs": [
    {
     "data": {
      "text/plain": [
       "(array([-0.37143183]), array([-0.37143183]))"
      ]
     },
     "execution_count": 4,
     "metadata": {},
     "output_type": "execute_result"
    }
   ],
   "source": [
    "# Finite difference check\n",
    "iapws95_light.phir_d(d, iapws95_light.Tc/300), \\\n",
    "  0.5*(iapws95_light.phir(d + 1e-5, iapws95_light.Tc/300) - iapws95_light.phir(d - 1e-5, iapws95_light.Tc/300))/1e-5"
   ]
  },
  {
   "cell_type": "code",
   "execution_count": 83,
   "metadata": {},
   "outputs": [
    {
     "name": "stdout",
     "output_type": "stream",
     "text": [
      "[-0.03875018] [0.08327835]\n"
     ]
    }
   ],
   "source": [
    "d = 996.9600226950664 / iapws95_light.rhoc\n",
    "aa = iapws95_light.phir(d, iapws95_light.Tc/300) \\\n",
    "  + iapws95_light.phi0(d, iapws95_light.Tc/300)\n",
    "# aa = (1.0 + d*iapws95_light.phir_d(d, iapws95_light.Tc/300))\n",
    "\n",
    "d = 859.6317217178832 / iapws95_light.rhoc\n",
    "bb = iapws95_light.phir(d, iapws95_light.Tc/300) \\\n",
    "  + iapws95_light.phi0(d, iapws95_light.Tc/300)\n",
    "# bb = (1.0 + d*iapws95_light.phir_d(d, iapws95_light.Tc/300))\n",
    "\n",
    "print(aa, bb)"
   ]
  },
  {
   "cell_type": "code",
   "execution_count": 6,
   "metadata": {},
   "outputs": [],
   "source": [
    "import iapws"
   ]
  },
  {
   "cell_type": "code",
   "execution_count": 7,
   "metadata": {},
   "outputs": [
    {
     "data": {
      "text/plain": [
       "(array([-9.30354647]),\n",
       " array([9.38682482]),\n",
       " {'fir': -9.303546471903593,\n",
       "  'firt': -7.9020589613707255,\n",
       "  'firtt': -5.718790675278655,\n",
       "  'fird': -0.37143183462289386,\n",
       "  'firdd': -15.768403504395677,\n",
       "  'firdt': 7.977969556179946,\n",
       "  'firddt': -210.78746652185217},\n",
       " {'fio': 9.386824818082566,\n",
       "  'fiot': 8.079705548882778,\n",
       "  'fiott': -0.6535430477518092,\n",
       "  'fiod': 0.37457901083096024,\n",
       "  'fiodd': -0.14030943535510063,\n",
       "  'fiodt': 0})"
      ]
     },
     "execution_count": 7,
     "metadata": {},
     "output_type": "execute_result"
    }
   ],
   "source": [
    "# d = 996.9600226950664 / iapws95_light.rhoc\n",
    "d = 859.6317217178832 / iapws95_light.rhoc\n",
    "iapws95_light.phir(d, iapws95_light.Tc/300), \\\n",
    "  iapws95_light.phi0(d, iapws95_light.Tc/300), \\\n",
    "  iapws.IAPWS95(rho=859.6317217178832, T=300)._phir(iapws95_light.Tc/300, d), \\\n",
    "  iapws.IAPWS95(rho=859.6317217178832, T=300)._phi0(iapws95_light.Tc/300, d)"
   ]
  },
  {
   "cell_type": "code",
   "execution_count": 8,
   "metadata": {},
   "outputs": [
    {
     "data": {
      "text/plain": [
       "(array([-9.59272205]),\n",
       " array([9.55885857]),\n",
       " {'fir': -9.59272204815547,\n",
       "  'firt': -7.7179130459514615,\n",
       "  'firtt': -1.1937757781563187,\n",
       "  'fird': -0.18635118056378197,\n",
       "  'firdd': 1.8161443359648601,\n",
       "  'firdt': -0.19985629700404997,\n",
       "  'firddt': -0.05017576798342557},\n",
       " {'fio': 9.55885856927717,\n",
       "  'fiot': 8.079705548882778,\n",
       "  'fiott': -0.6535430477518092,\n",
       "  'fiod': 0.31537708129285014,\n",
       "  'fiodd': -0.09946270340479701,\n",
       "  'fiodt': 0})"
      ]
     },
     "execution_count": 8,
     "metadata": {},
     "output_type": "execute_result"
    }
   ],
   "source": [
    "d = 1021 / iapws95_light.rhoc\n",
    "iapws95_light.phir(d, iapws95_light.Tc/300), \\\n",
    "  iapws95_light.phi0(d, iapws95_light.Tc/300), \\\n",
    "  iapws.IAPWS95(rho=1021, T=300)._phir(iapws95_light.Tc/300, d), \\\n",
    "  iapws.IAPWS95(rho=1021, T=300)._phi0(iapws95_light.Tc/300, d)"
   ]
  },
  {
   "cell_type": "code",
   "execution_count": 24,
   "metadata": {},
   "outputs": [
    {
     "data": {
      "text/plain": [
       "({'fio': 9.55885856927717,\n",
       "  'fiot': 8.079705548882778,\n",
       "  'fiott': -0.6535430477518092,\n",
       "  'fiod': 0.31537708129285014,\n",
       "  'fiodd': -0.09946270340479701,\n",
       "  'fiodt': 0},\n",
       " {'fir': -9.59272204815547,\n",
       "  'firt': -7.7179130459514615,\n",
       "  'firtt': -1.1937757781563187,\n",
       "  'fird': -0.18635118056378197,\n",
       "  'firdd': 1.8161443359648601,\n",
       "  'firdt': -0.19985629700404997,\n",
       "  'firddt': -0.05017576798342557},\n",
       " 0.31537708129285014,\n",
       " array([-0.18635118]))"
      ]
     },
     "execution_count": 24,
     "metadata": {},
     "output_type": "execute_result"
    }
   ],
   "source": [
    "t = iapws95_light.Tc/300\n",
    "iapws.IAPWS95(rho=d*iapws95_light.rhoc, T=300)._phi0(t, d), \\\n",
    "  iapws.IAPWS95(rho=d*iapws95_light.rhoc, T=300)._phir(t, d), \\\n",
    "  iapws95_light.phi0_d(d, t), \\\n",
    "  iapws95_light.phir_d(d, t)\n",
    "\n",
    "phir_dict = iapws.IAPWS95(rho=d*iapws95_light.rhoc, T=300)._phir(t, d)\n",
    "1 + phir_dict[\"fird\"]"
   ]
  },
  {
   "cell_type": "code",
   "execution_count": 82,
   "metadata": {},
   "outputs": [
    {
     "data": {
      "text/plain": [
       "(3.556304669663494, 3.5307186392940384)"
      ]
     },
     "execution_count": 82,
     "metadata": {},
     "output_type": "execute_result"
    }
   ],
   "source": [
    "iapws.IAPWS95(rho=996.9600226950664, T=300).f * 1e3, \\\n",
    "  iapws.IAPWS95(rho=859.6317217178832, T=300).f * 1e3"
   ]
  },
  {
   "cell_type": "code",
   "execution_count": 47,
   "metadata": {},
   "outputs": [
    {
     "data": {
      "text/plain": [
       "(array([1000000.00016302]), array([999999.99999715]), 5126597680833.163)"
      ]
     },
     "execution_count": 47,
     "metadata": {},
     "output_type": "execute_result"
    }
   ],
   "source": [
    "iapws95_light.p([996.9600226950664], [300.]), \\\n",
    "iapws95_light.p([859.6317217178832], [300.0]), \\\n",
    "iapws95_light.p(659.6317217178832, 300)"
   ]
  },
  {
   "cell_type": "code",
   "execution_count": 18,
   "metadata": {},
   "outputs": [
    {
     "data": {
      "text/plain": [
       "4.089070759322633e-06"
      ]
     },
     "execution_count": 18,
     "metadata": {},
     "output_type": "execute_result"
    }
   ],
   "source": [
    "iapws.IAPWS95(rho=859.6317217178832, T=300).x"
   ]
  },
  {
   "cell_type": "code",
   "execution_count": 13,
   "metadata": {},
   "outputs": [
    {
     "data": {
      "text/plain": [
       "2.97159043721228e-05"
      ]
     },
     "execution_count": 13,
     "metadata": {},
     "output_type": "execute_result"
    }
   ],
   "source": [
    "iapws.IAPWS95(rho=859.6317217178832, T=300).Z"
   ]
  },
  {
   "cell_type": "code",
   "execution_count": 14,
   "metadata": {},
   "outputs": [
    {
     "data": {
      "text/plain": [
       "(0.008401902182800014, 2.97159043721228e-05)"
      ]
     },
     "execution_count": 14,
     "metadata": {},
     "output_type": "execute_result"
    }
   ],
   "source": [
    "iapws95_light.Z(859.6317217178832, 300), \\\n",
    "  iapws.IAPWS95(rho=859.6317217178832, T=300).Z"
   ]
  },
  {
   "cell_type": "code",
   "execution_count": 38,
   "metadata": {},
   "outputs": [
    {
     "name": "stdout",
     "output_type": "stream",
     "text": [
      "[182512.41362845] [-1663955.247845] [2.10968589]\n",
      "[60757.41180509] [-665689.08778826] [2.20095584]\n",
      "[20768.5326995] [-261343.39729513] [2.28042421]\n",
      "[7197.98361406] [-101520.45879725] [2.35132601]\n",
      "[2514.84703758] [-39190.11545515] [2.41549646]\n",
      "[882.48580672] [-15082.85746217] [2.47400565]\n",
      "[309.87214544] [-5810.19438806] [2.52733814]\n",
      "[108.19638349] [-2257.18337722] [2.57527239]\n",
      "[37.03093675] [-899.96780691] [2.61641934]\n",
      "[11.97157661] [-384.02711285] [2.64759312]\n",
      "[3.30419588] [-191.84790703] [2.66481612]\n",
      "[0.5858081] [-127.64147096] [2.6694056]\n",
      "[0.03159981] [-114.09003916] [2.66968257]\n",
      "[0.00010763] [-113.31358223] [2.66968352]\n",
      "[1.26129494e-09] [-113.31092722] [2.66968352]\n",
      "[-3.19737292e-13] [-113.31092719] [2.66968352]\n",
      "[899999.99998586] [300]\n"
     ]
    },
    {
     "data": {
      "text/plain": [
       "859.6380942532168"
      ]
     },
     "execution_count": 38,
     "metadata": {},
     "output_type": "execute_result"
    }
   ],
   "source": [
    "# iapws95_light.p(996.9600226950664, 300)\n",
    "# residual, derivative, d\n",
    "iapws95_light.rho_pt(0.9e6, 300)"
   ]
  },
  {
   "cell_type": "code",
   "execution_count": 41,
   "metadata": {},
   "outputs": [
    {
     "data": {
      "text/plain": [
       "0.003536806752269702"
      ]
     },
     "execution_count": 41,
     "metadata": {},
     "output_type": "execute_result"
    }
   ],
   "source": [
    "iapws.IAPWS95(rho=859.6380942532168, T=300).P"
   ]
  },
  {
   "cell_type": "code",
   "execution_count": null,
   "metadata": {},
   "outputs": [],
   "source": [
    "val = - p / (rho_c * R * T) + d + d **2 * iapws95_light.phir_d(d, t)\n",
    "deriv = 1 + 2 * d * iapws95_light.phir_d(d, t) + d**2 * iapws95_light.phir_dd(d, t)"
   ]
  },
  {
   "cell_type": "code",
   "execution_count": 13,
   "metadata": {},
   "outputs": [
    {
     "name": "stdout",
     "output_type": "stream",
     "text": [
      "(320400, 1)\n"
     ]
    }
   ],
   "source": [
    "import iapws95_light\n",
    "range_rho = np.linspace(1.0,1050, 400)\n",
    "range_T = np.linspace(200, 800, 801)\n",
    "mg_rho, mg_T = np.meshgrid(range_rho, range_T)\n",
    "# for i, (rho, T) in enumerate(zip(mg_rho.ravel(), mg_T.ravel())):\n",
    "mg_p = np.zeros_like(mg_rho)\n",
    "\n",
    "mg_p.ravel()[:] = iapws95_light.p(mg_rho.ravel(), mg_T.ravel())"
   ]
  },
  {
   "cell_type": "code",
   "execution_count": 14,
   "metadata": {},
   "outputs": [
    {
     "data": {
      "text/plain": [
       "(0.0, 10000000.0)"
      ]
     },
     "execution_count": 14,
     "metadata": {},
     "output_type": "execute_result"
    },
    {
     "data": {
      "image/png": "[encoded data removed]",
      "text/plain": [
       "<Figure size 432x288 with 2 Axes>"
      ]
     },
     "metadata": {
      "needs_background": "light"
     },
     "output_type": "display_data"
    }
   ],
   "source": [
    "plt.contourf(mg_T, mg_p, mg_rho)\n",
    "plt.xlabel(\"Density (kg/m^3)\")\n",
    "plt.ylabel(\"Temperature (K)\")\n",
    "plt.colorbar()\n",
    "plt.ylim(0,10e6)"
   ]
  },
  {
   "cell_type": "markdown",
   "metadata": {},
   "source": [
    "## Development"
   ]
  },
  {
   "cell_type": "code",
   "execution_count": 2,
   "metadata": {},
   "outputs": [],
   "source": [
    "import csv\n",
    "import numpy as np\n",
    "\n",
    "''' Data loading ''' \n",
    "\n",
    "DATAPATH_IDEAL = 'ideal.csv'\n",
    "DATAPATH_RES0 = 'residual_1_51.csv'\n",
    "DATAPATH_RES1 = 'residual_52_54.csv'\n",
    "DATAPATH_RES2 = 'residual_55_56.csv'\n",
    "\n",
    "with open(DATAPATH_IDEAL, newline='') as csvfile:\n",
    "  reader = csv.DictReader(csvfile, delimiter='\\t')\n",
    "  ideal_arraydict = [row for row in reader]\n",
    "\n",
    "with open(DATAPATH_RES0, newline='') as csvfile:\n",
    "  reader = csv.DictReader(csvfile, delimiter='\\t')\n",
    "  residual0_arraydict = [row for row in reader]\n",
    "\n",
    "with open(DATAPATH_RES1, newline='') as csvfile:\n",
    "  reader = csv.DictReader(csvfile, delimiter='\\t')\n",
    "  residual1_arraydict = [row for row in reader]\n",
    "\n",
    "with open(DATAPATH_RES2, newline='') as csvfile:\n",
    "  reader = csv.DictReader(csvfile, delimiter='\\t')\n",
    "  residual2_arraydict = [row for row in reader]\n",
    "\n",
    "''' Data prep '''\n",
    "n_ideal = np.array([float(obj[\"n_i\"]) for obj in ideal_arraydict])\n",
    "g_ideal = np.array([float(obj[\"g_i\"]) for obj in ideal_arraydict])\n",
    "\n",
    "# Compile shared residual coefficients\n",
    "n_res = np.hstack(([float(obj[\"n_i\"]) for obj in residual0_arraydict],\n",
    "  [float(obj[\"n_i\"]) for obj in residual1_arraydict],\n",
    "  [float(obj[\"n_i\"]) for obj in residual2_arraydict]))\n",
    "d_res = np.hstack(([float(obj[\"d_i\"]) for obj in residual0_arraydict],\n",
    "  [float(obj[\"d_i\"]) for obj in residual1_arraydict],\n",
    "  [1.0 for obj in residual2_arraydict]))\n",
    "t_res = np.hstack(([float(obj[\"t_i\"]) for obj in residual0_arraydict],\n",
    "  [float(obj[\"t_i\"]) for obj in residual1_arraydict],\n",
    "  [0.0 for obj in residual2_arraydict]))\n",
    "\n",
    "c_res1_51 = np.array([float(obj[\"c_i\"]) for obj in residual0_arraydict])\n",
    "\n",
    "c_res52_54 = np.array([float(obj[\"c_i\"]) for obj in residual1_arraydict])\n",
    "alpha_res52_54 = np.array([float(obj[\"alpha_i\"]) for obj in residual1_arraydict])\n",
    "beta_res52_54 = np.array([float(obj[\"beta_i\"]) for obj in residual1_arraydict])\n",
    "gamma_res52_54 = np.array([float(obj[\"gamma_i\"]) for obj in residual1_arraydict])\n",
    "eps_res52_54 = np.array([float(obj[\"eps_i\"]) for obj in residual1_arraydict])\n",
    "\n",
    "a_res55_56 = np.array([float(obj[\"a_i\"]) for obj in residual2_arraydict])\n",
    "b_res55_56 = np.array([float(obj[\"b_i\"]) for obj in residual2_arraydict])\n",
    "B_res55_56 = np.array([float(obj[\"B_i\"]) for obj in residual2_arraydict])\n",
    "C_res55_56 = np.array([float(obj[\"C_i\"]) for obj in residual2_arraydict])\n",
    "D_res55_56 = np.array([float(obj[\"D_i\"]) for obj in residual2_arraydict])\n",
    "A_res55_56 = np.array([float(obj[\"A_i\"]) for obj in residual2_arraydict])\n",
    "beta_res55_56 = np.array([float(obj[\"beta_i\"]) for obj in residual2_arraydict])\n",
    "\n",
    "''' Set up static parameters '''\n",
    "Tc = 647.096  # K\n",
    "rhoc = 322    # kg / m^3\n",
    "R = 0.46151805 # kJ / kg K\n",
    "# Generic precomputation\n",
    "_exp1_55_56 = 0.5 / (beta_res55_56)"
   ]
  },
  {
   "cell_type": "code",
   "execution_count": 3,
   "metadata": {},
   "outputs": [],
   "source": [
    "''' Simulate input '''\n",
    "rho = 838.025\n",
    "T = 500\n",
    "\n",
    "rho = 358\n",
    "T = 647"
   ]
  },
  {
   "cell_type": "code",
   "execution_count": 4,
   "metadata": {},
   "outputs": [],
   "source": [
    "''' Compute reduced variables '''\n",
    "\n",
    "# Reciprocal reduced volume\n",
    "d = rho / rhoc\n",
    "# Reciprocal reduced temperature\n",
    "t = Tc / T"
   ]
  },
  {
   "cell_type": "code",
   "execution_count": 5,
   "metadata": {},
   "outputs": [],
   "source": [
    "def phi(d, t):\n",
    "  ''' Reduced Helmholtz function f/(RT). ''' \n",
    "\n",
    "  # Scalar precomputation\n",
    "  d_quad = (d-1.0)**2\n",
    "\n",
    "  ''' Ideal-gas part of Helmholtz function f '''\n",
    "  phi0 = np.log(d) + n_ideal[0] + n_ideal[1] * t + n_ideal[2] * np.log(t)\n",
    "  phi0 += np.dot(n_ideal[3:8], np.log(1.0 - np.exp(-g_ideal[3:8] * t)))\n",
    "\n",
    "  ''' Residual part of Helmholtz function f\n",
    "  Evaluated using two registers that combine as\n",
    "    np.dot( coeffs, np.exp(exponents) ).\n",
    "  '''\n",
    "  # Allocate exponent cache\n",
    "  exponents = np.zeros_like(n_res)\n",
    "  # Allocate and evaluate coeffs\n",
    "  coeffs = n_res * (d ** d_res) * (t ** t_res)\n",
    "\n",
    "  # Compute distance term for 1-indices 55 to 56\n",
    "  theta = (1 - t) + A_res55_56 * d_quad ** _exp1_55_56\n",
    "  Delta = theta**2 + B_res55_56 * d_quad ** a_res55_56\n",
    "  # Factor in Delta**b_i term for 1-indices from 55 to 56\n",
    "  coeffs[54:56] *= Delta ** b_res55_56\n",
    "\n",
    "  # Compute exponents for 1-indices 8 to 51 as -d**c_i\n",
    "  exponents[7:51] = -d ** c_res1_51[7:51]\n",
    "  # Compute exponents for 1-indices from 52 to 54\n",
    "  exponents[51:54] = -alpha_res52_54 * (d - eps_res52_54) ** 2 \\\n",
    "    -beta_res52_54*(t - gamma_res52_54)**2\n",
    "  # Compute exponents for 1-indices from 55 to 56\n",
    "  exponents[54:56] = -C_res55_56 * d_quad \\\n",
    "    -D_res55_56*(t - 1)**2\n",
    "\n",
    "  # Compute residual part of reduced Helmholtz\n",
    "  phir = np.dot(coeffs, np.exp(exponents))\n",
    "\n",
    "  return (phi0, phir)\n",
    "\n",
    "def Z(d, t):\n",
    "  ''' Compressibility factor evaluation\n",
    "  The compressibility factor Z is given by\n",
    "    Z == p * v / (R * T) = 1 + delta * d(phi_R)/d(delta),\n",
    "  where d(phi_R)/d(delta) is the partial derivative of the residual\n",
    "  part of the reduced Helmholtz function, with respect to d = rho/rhoc.\n",
    "  Evaluated using two registers that combine as\n",
    "    np.dot( coeffs, np.exp(exponents) ).\n",
    "  '''\n",
    "\n",
    "  # Scalar precomputation\n",
    "  d_quad = (d-1)**2\n",
    "\n",
    "  # Allocate exponent cache\n",
    "  exponents = np.zeros_like(n_res)\n",
    "  # Allocate and partially evaluate coeffs\n",
    "  coeffs = n_res * (d ** (d_res-1)) * (t ** t_res)\n",
    "  # Factor in d_i - c_i * d**c_i term\n",
    "  coeffs[0:51] *= (d_res[0:51] - c_res1_51 * d ** c_res1_51)\n",
    "  coeffs[51:54] *= d_res[51:54] - 2.0 * alpha_res52_54 * d * (d - eps_res52_54)\n",
    "\n",
    "  # Compute distance term for 1-indices 55 to 56\n",
    "  theta = (1 - t) + A_res55_56 * d_quad ** _exp1_55_56\n",
    "  Delta = theta**2 + B_res55_56 * d_quad ** a_res55_56\n",
    "  # Factor in other terms for 1-indices from 55 to 56 in two steps\n",
    "  coeffs[54:56] *= (\n",
    "    Delta * (1.0 - 2.0 * C_res55_56 * (d-1.0) * d)\n",
    "    + b_res55_56 * d * (d-1.0) * (\n",
    "      A_res55_56 * theta * 2 / beta_res55_56 * d_quad**(_exp1_55_56 - 1.0)\n",
    "      + 2 * B_res55_56 * a_res55_56 * d_quad**(a_res55_56 - 1.0)\n",
    "    )\n",
    "  )\n",
    "  coeffs[54:56] *= Delta ** np.where(Delta != 0, b_res55_56-1, 1.0)\n",
    "\n",
    "  # Compute exponents for 1-indices 8 to 51 as -d**c_i\n",
    "  exponents[7:51] = -d ** c_res1_51[7:51]\n",
    "  # Compute exponents for 1-indices from 52 to 54\n",
    "  exponents[51:54] = -alpha_res52_54 * (d - eps_res52_54) ** 2 \\\n",
    "    -beta_res52_54*(t - gamma_res52_54)**2\n",
    "  # Compute exponents for 1-indices from 55 to 56\n",
    "  exponents[54:56] = -C_res55_56 * d_quad \\\n",
    "    -D_res55_56*(t - 1)**2\n",
    "\n",
    "  # Reduce\n",
    "  phir_d = np.dot(coeffs, np.exp(exponents))\n",
    "  return 1 + d * phir_d\n"
   ]
  },
  {
   "cell_type": "code",
   "execution_count": 6,
   "metadata": {},
   "outputs": [
    {
     "name": "stdout",
     "output_type": "stream",
     "text": [
      "phi0 = -1.56319605, phir = -1.21202657, phir_d = -0.714012024\n",
      "\n",
      "For T = 647 K, rho = 358 kg m^{-3}:\n",
      "phi0 = -1.56319605\n",
      "phir = -1.21202657\n",
      "phir_d = -0.714012024\n",
      "\n"
     ]
    }
   ],
   "source": [
    "''' Compute reduced variables '''\n",
    "# Reciprocal reduced volume\n",
    "d = rho / rhoc\n",
    "# Reciprocal reduced temperature\n",
    "t = Tc / T\n",
    "\n",
    "# phi, phir_d, Z\n",
    "print(f\"phi0 = {phi(d, t)[0]:.8f}, phir = {phi(d, t)[1]:.8f}, phir_d = {(Z(d, t) - 1)/d:.9f}\")\n",
    "\n",
    "# Print verification values\n",
    "verification_string = '''\n",
    "For T = 647 K, rho = 358 kg m^{-3}:\n",
    "phi0 = -1.56319605\n",
    "phir = -1.21202657\n",
    "phir_d = -0.714012024\n",
    "'''\n",
    "print(verification_string)\n"
   ]
  },
  {
   "cell_type": "code",
   "execution_count": 232,
   "metadata": {},
   "outputs": [
    {
     "name": "stdout",
     "output_type": "stream",
     "text": [
      "Timing p(rho, T) calculations.\n",
      "IAPWS95 light: 0.06501347599987639 ms\n",
      "Ideal gas    : 0.00010642799985362217 ms\n",
      "Relative load: 610.868x\n",
      "=== Additional details ===\n",
      "Number of coefficients in model: 247\n",
      "Relative load per model dof:     2.473x\n"
     ]
    }
   ],
   "source": [
    "from time import perf_counter\n",
    "\n",
    "print(f\"Timing p(rho, T) calculations.\")\n",
    "# Timing for pressure evaluation\n",
    "N_timing = 25000\n",
    "t1 = perf_counter()\n",
    "for i in range(N_timing):\n",
    "  p = Z(rho / rhoc, Tc / T) * rho * R * T\n",
    "t2 = perf_counter()\n",
    "\n",
    "t1_ideal = perf_counter()\n",
    "for i in range(N_timing):\n",
    "  p_ideal = rho * R * T\n",
    "t2_ideal = perf_counter()\n",
    "\n",
    "print(f\"IAPWS95 light: {(t2-t1)/N_timing * 1e3} ms\")\n",
    "print(f\"Ideal gas    : {(t2_ideal-t1_ideal)/N_timing * 1e3} ms\")\n",
    "print(f\"Relative load: {(t2-t1)/(t2_ideal-t1_ideal):.3f}x\")\n",
    "\n",
    "num_coeffs = 44*4 + 21 + 21 + 16 + 13\n",
    "print(f\"=== Additional details ===\")\n",
    "print(f\"Number of coefficients in model: {num_coeffs}\")\n",
    "print(f\"Relative load per model dof:     {(t2-t1)/(t2_ideal-t1_ideal)/num_coeffs:.3f}x\")"
   ]
  },
  {
   "cell_type": "code",
   "execution_count": 53,
   "metadata": {},
   "outputs": [],
   "source": [
    "def phi0_t(d, t):\n",
    "  ''' Ideal-gas part of Helmholtz function f '''\n",
    "  phi0 = n_ideal[1] + n_ideal[2] / t\n",
    "  phi0 += np.expand_dims(np.einsum(\"i, ...i -> ...\", n_ideal[3:8] * g_ideal[3:8],\n",
    "    1.0/(1.0 - np.exp(-g_ideal[3:8] * t)) - 1.0), axis=-1)\n",
    "\n",
    "  # Reduce\n",
    "  return phi0\n",
    "\n",
    "def phir_t(d, t):\n",
    "  ''' Derivative of reduced Helmholtz function with respect to recip. reduced\n",
    "  temperature.\n",
    "  '''\n",
    "\n",
    "  # Scalar precomputation\n",
    "  d_quad = (d-1)**2\n",
    "  # Allocate and partially evaluate coeffs\n",
    "  coeffs = n_res * (d ** d_res) * (t ** (t_res-1.0))\n",
    "  # Factor for 1-indices 1 to 51\n",
    "  coeffs[...,0:51] *= t_res[0:51]\n",
    "  # Factor in d_i - c_i * d**c_i term for 1-indices 52 to 54\n",
    "  coeffs[...,51:54] *= t_res[51:54] - 2.0 * beta_res52_54 * t * (t - gamma_res52_54)\n",
    "\n",
    "  # Compute distance term for 1-indices 55 to 56\n",
    "  theta = (1 - t) + A_res55_56 * d_quad ** _exp1_55_56\n",
    "  Delta = theta**2 + B_res55_56 * d_quad ** a_res55_56\n",
    "  # Replace (t_res is zero, so coeffs[54:56] contains invalid entries) for\n",
    "  #   1-indices from 55 to 56 in two steps\n",
    "  coeffs[...,54:56] = n_res[54:56] * d * 2.0 * (\n",
    "    -theta * b_res55_56 + Delta * D_res55_56 * (1.0 - t))\n",
    "  coeffs[...,54:56] *= Delta ** np.where(Delta != 0, b_res55_56-1, 1.0)\n",
    "\n",
    "  # Allocate exponent cache\n",
    "  exponents = np.zeros_like(coeffs)\n",
    "  # Compute exponents for 1-indices 8 to 51 as -d**c_i\n",
    "  exponents[...,7:51] = -d ** c_res1_51[7:51]\n",
    "  # Compute exponents for 1-indices from 52 to 54\n",
    "  exponents[...,51:54] = -alpha_res52_54 * (d - eps_res52_54) ** 2 \\\n",
    "    -beta_res52_54*(t - gamma_res52_54)**2\n",
    "  # Compute exponents for 1-indices from 55 to 56\n",
    "  exponents[...,54:56] = -C_res55_56 * d_quad \\\n",
    "    -D_res55_56*(t - 1)**2\n",
    "\n",
    "  # Reduce\n",
    "  return np.expand_dims(np.einsum(\"...i, ...i -> ...\",\n",
    "    coeffs, np.exp(exponents)), axis=-1)"
   ]
  },
  {
   "cell_type": "code",
   "execution_count": 18,
   "metadata": {},
   "outputs": [
    {
     "data": {
      "text/plain": [
       "(9.803439178596818, 9.80343918, -3.2172250077516535, -3.21722501)"
      ]
     },
     "execution_count": 18,
     "metadata": {},
     "output_type": "execute_result"
    }
   ],
   "source": [
    "phi0_t(d, t), 0.980_343_918e1, phir_t(d, t), -0.321_722_501e1"
   ]
  },
  {
   "cell_type": "code",
   "execution_count": 27,
   "metadata": {},
   "outputs": [
    {
     "data": {
      "text/plain": [
       "(10, 1)"
      ]
     },
     "execution_count": 27,
     "metadata": {},
     "output_type": "execute_result"
    }
   ],
   "source": [
    "_input = np.tile(np.array([t]), (10,1))\n",
    "_input.shape"
   ]
  },
  {
   "cell_type": "code",
   "execution_count": 55,
   "metadata": {},
   "outputs": [
    {
     "data": {
      "text/plain": [
       "array([-3.21722501])"
      ]
     },
     "execution_count": 55,
     "metadata": {},
     "output_type": "execute_result"
    }
   ],
   "source": [
    "phir_t(np.tile(np.array([d]), (10,1)), np.tile(np.array([t]), (10,1)))\n",
    "phir_t(d, t)"
   ]
  },
  {
   "cell_type": "code",
   "execution_count": 79,
   "metadata": {},
   "outputs": [
    {
     "data": {
      "text/plain": [
       "array([1.66666667, 1.66666667])"
      ]
     },
     "execution_count": 79,
     "metadata": {},
     "output_type": "execute_result"
    }
   ],
   "source": [
    "_exp1_55_56"
   ]
  },
  {
   "cell_type": "code",
   "execution_count": 221,
   "metadata": {},
   "outputs": [],
   "source": [
    "def phir_dd(d, t):\n",
    "  ''' Second derivative dd of reduced Helmholtz function with respect to recip. reduced\n",
    "  temperature.\n",
    "  '''\n",
    "\n",
    "  # Scalar precomputation\n",
    "  d_quad = (d-1)**2\n",
    "  # Allocate and partially evaluate coeffs\n",
    "  coeffs = n_res * (d ** (d_res-2.0)) * (t ** t_res)\n",
    "  # Temporary space\n",
    "  cdc = c_res1_51 * (d ** c_res1_51)\n",
    "  # Factor for 1-indices 1 to 51\n",
    "  coeffs[...,0:51] *= (d_res[0:51] - cdc) * (d_res[0:51] - 1.0 - cdc) \\\n",
    "    - c_res1_51 * cdc\n",
    "  # Factor for 1-indices 52 to 54\n",
    "  coeffs[...,51:54] *= -2 * alpha_res52_54 * d**2 \\\n",
    "    + 4 * alpha_res52_54**2 * d**2 * (d - eps_res52_54)**2 \\\n",
    "    - 4 * d_res[51:54] * alpha_res52_54 * d * (d - eps_res52_54) \\\n",
    "    + d_res[51:54] * (d_res[51:54] - 1.0)\n",
    "\n",
    "  # Compute distance term for 1-indices 55 to 56\n",
    "  theta = (1.0 - t) + A_res55_56 * d_quad ** _exp1_55_56\n",
    "  Delta = theta**2 + B_res55_56 * d_quad ** a_res55_56\n",
    "  # Compute d(Delta)/d(delta) divided by (delta - 1.0)\n",
    "  dDelta_div = (\n",
    "    A_res55_56 * theta * 2.0 / beta_res55_56 * d_quad**(_exp1_55_56 - 1.0)\n",
    "    + 2 * B_res55_56 * a_res55_56 * d_quad**(a_res55_56 - 1.0)\n",
    "  )\n",
    "  # Set power to non-negative when argument is negative\n",
    "  limited_power = np.where(d_quad != 0, _exp1_55_56 - 2.0, 1.0)\n",
    "  ddDelta = dDelta_div + ((d-1.0)**2) * (\n",
    "    4.0 * B_res55_56 * a_res55_56 * (a_res55_56 - 1.0)\n",
    "    * d_quad**(a_res55_56 - 2.0)\n",
    "    + 2.0 * (A_res55_56 / beta_res55_56 * d_quad**(_exp1_55_56 - 1.0))**2.0\n",
    "    + 4.0 * theta * A_res55_56 / beta_res55_56 * (_exp1_55_56 - 1.0)\n",
    "    * d_quad**limited_power\n",
    "  )\n",
    "  # Finish d(Delta)/d(delta) computation\n",
    "  dDelta = (d-1.0) * dDelta_div\n",
    "  # Replace (t_res is zero, so coeffs[54:56] contains invalid entries) for\n",
    "  #   1-indices from 55 to 56\n",
    "  coeffs[...,54:56] = Delta**2 * (-4 * C_res55_56 * (d-1.0) \n",
    "    + d * (2*C_res55_56*d_quad - 1.0) * 2.0 * C_res55_56)\n",
    "  coeffs[...,54:56] += Delta * 2.0 * b_res55_56 * dDelta \\\n",
    "    * (1.0 - 2.0 * d * C_res55_56 * (d - 1.0))\n",
    "  coeffs[...,54:56] += b_res55_56 * (Delta * ddDelta\n",
    "    + (b_res55_56 - 1.0) * dDelta**2) * d\n",
    "  coeffs[...,54:56] *= n_res[54:56] \\\n",
    "    * Delta ** np.where(Delta != 0, b_res55_56 - 2.0, 1.0)\n",
    "\n",
    "  # Allocate exponent cache\n",
    "  exponents = np.zeros_like(coeffs)\n",
    "  # Compute exponents for 1-indices 8 to 51 as -d**c_i\n",
    "  exponents[...,7:51] = -cdc[7:51] / c_res1_51[7:51]\n",
    "  # Compute exponents for 1-indices from 52 to 54\n",
    "  exponents[...,51:54] = -alpha_res52_54 * (d - eps_res52_54) ** 2 \\\n",
    "    -beta_res52_54*(t - gamma_res52_54)**2\n",
    "  # Compute exponents for 1-indices from 55 to 56\n",
    "  exponents[...,54:56] = -C_res55_56 * d_quad \\\n",
    "    -D_res55_56*(t - 1.0)**2\n",
    "\n",
    "  # Reduce\n",
    "  return np.expand_dims(np.einsum(\"...i, ...i -> ...\",\n",
    "    coeffs, np.exp(exponents)), axis=-1)\n",
    "\n",
    "def phir_dt(d, t):\n",
    "  ''' Second derivative dt of reduced Helmholtz function with respect to recip. reduced\n",
    "  temperature.\n",
    "  '''\n",
    "\n",
    "  # Scalar precomputation\n",
    "  d_quad = (d-1)**2\n",
    "  # Allocate and partially evaluate coeffs\n",
    "  coeffs = n_res * (d ** (d_res-1.0)) * (t ** (t_res-1.0))\n",
    "  dc = d ** c_res1_51\n",
    "  # Factor for 1-indices 1 to 51\n",
    "  coeffs[...,0:51] *= t_res[0:51] * (d_res[0:51] - c_res1_51 * dc)\n",
    "  # Factor for 1-indices 52 to 54\n",
    "  coeffs[...,51:54] *= d_res[51:54] - 2.0 * alpha_res52_54 * d * (d - eps_res52_54)\n",
    "  coeffs[...,51:54] *= t_res[51:54] - 2.0 * beta_res52_54 * t * (t - gamma_res52_54)\n",
    "\n",
    "  # Compute distance term for 1-indices 55 to 56\n",
    "  theta = (1 - t) + A_res55_56 * d_quad ** _exp1_55_56\n",
    "  Delta = theta**2 + B_res55_56 * d_quad ** a_res55_56\n",
    "  # Compute d(Delta)/d(delta)\n",
    "  dDelta = (d-1.0) * (\n",
    "    A_res55_56 * theta * 2.0 / beta_res55_56 * d_quad**(_exp1_55_56 - 1.0)\n",
    "    + 2.0 * B_res55_56 * a_res55_56 * d_quad**(a_res55_56 - 1.0)\n",
    "  )\n",
    "  # Replace (t_res is zero, so coeffs[54:56] contains invalid entries) for\n",
    "  #   1-indices from 55 to 56 in two steps\n",
    "  coeffs[...,54:56] = n_res[54:56] * (\n",
    "    Delta**2 * (-2.0 * D_res55_56 * (t - 1.0) + d * 4.0 * C_res55_56 *\n",
    "    D_res55_56 * (d - 1.0) * (t - 1.0))\n",
    "    + d * Delta * b_res55_56 * dDelta * (-2.0 * D_res55_56 * (t - 1.0))\n",
    "    - 2.0 * theta * b_res55_56 * Delta * (1.0 - 2.0*d*C_res55_56*(d - 1.0))\n",
    "    + d * (\n",
    "      -A_res55_56 * b_res55_56 * 2.0 / beta_res55_56 * Delta * (d - 1.0)\n",
    "      * d_quad ** (_exp1_55_56 - 1.0)\n",
    "      - 2.0 * theta * b_res55_56 * (b_res55_56 -1.0) * dDelta\n",
    "    )\n",
    "  )\n",
    "  coeffs[...,54:56] *= Delta ** np.where(Delta != 0, b_res55_56 - 2.0, 1.0)\n",
    "\n",
    "  # Allocate exponent cache\n",
    "  exponents = np.zeros_like(coeffs)\n",
    "  # Compute exponents for 1-indices 8 to 51 as -d**c_i\n",
    "  exponents[...,7:51] = -dc[7:51]\n",
    "  # Compute exponents for 1-indices from 52 to 54\n",
    "  exponents[...,51:54] = -alpha_res52_54 * (d - eps_res52_54) ** 2 \\\n",
    "    -beta_res52_54*(t - gamma_res52_54)**2\n",
    "  # Compute exponents for 1-indices from 55 to 56\n",
    "  exponents[...,54:56] = -C_res55_56 * d_quad \\\n",
    "    -D_res55_56*(t - 1.0)**2\n",
    "\n",
    "  # Reduce\n",
    "  return np.expand_dims(np.einsum(\"...i, ...i -> ...\",\n",
    "    coeffs, np.exp(exponents)), axis=-1)\n",
    "\n",
    "def phir_tt(d, t):\n",
    "  ''' Second derivative tt of reduced Helmholtz function with respect to recip. reduced\n",
    "  temperature.\n",
    "  '''\n",
    "\n",
    "  # Scalar precomputation\n",
    "  d_quad = (d-1)**2\n",
    "  # Allocate and partially evaluate coeffs\n",
    "  coeffs = n_res * (d ** d_res) * (t ** (t_res-2.0))\n",
    "  # Factor for 1-indices 1 to 51\n",
    "  coeffs[...,0:51] *= t_res[0:51] * (t_res[0:51] - 1.0)\n",
    "  # Factor for 1-indices 52 to 54\n",
    "  coeffs[...,51:54] *= (t_res[51:54] - 2.0 * beta_res52_54 * t * \n",
    "    (t - gamma_res52_54))**2 - t_res[51:54] - 2.0 * beta_res52_54 * t**2\n",
    "\n",
    "  # Compute distance term for 1-indices 55 to 56\n",
    "  theta = (1.0 - t) + A_res55_56 * d_quad ** _exp1_55_56\n",
    "  Delta = theta**2 + B_res55_56 * d_quad ** a_res55_56\n",
    "  # Replace (t_res is zero, so coeffs[54:56] contains invalid entries) for\n",
    "  #   1-indices from 55 to 56 in two steps\n",
    "  coeffs[...,54:56] = n_res[54:56] * d * (\n",
    "    2.0 * b_res55_56 * (Delta + 2.0 * theta**2 * (b_res55_56 - 1.0)\n",
    "    + 4.0 * theta * Delta * D_res55_56 * (t - 1.0))\n",
    "    + Delta ** 2 * 2.0 * D_res55_56 * (2.0*D_res55_56 * (t - 1.0)**2 - 1.0)\n",
    "  )\n",
    "  coeffs[...,54:56] *= Delta ** np.where(Delta != 0, b_res55_56 - 2.0, 1.0)\n",
    "  # Set phir_tt at rho == 1 to -inf gracefully\n",
    "  coeffs[...,54:56] = np.where(Delta != 0, coeffs[...,54:56], -np.inf)\n",
    "\n",
    "  # Allocate exponent cache\n",
    "  exponents = np.zeros_like(coeffs)\n",
    "  # Compute exponents for 1-indices 8 to 51 as -d**c_i\n",
    "  exponents[...,7:51] = -d ** c_res1_51[7:51]\n",
    "  # Compute exponents for 1-indices from 52 to 54\n",
    "  exponents[...,51:54] = -alpha_res52_54 * (d - eps_res52_54) ** 2 \\\n",
    "    -beta_res52_54*(t - gamma_res52_54)**2\n",
    "  # Compute exponents for 1-indices from 55 to 56\n",
    "  exponents[...,54:56] = -C_res55_56 * d_quad \\\n",
    "    -D_res55_56*(t - 1.0)**2\n",
    "\n",
    "  # Reduce\n",
    "  return np.expand_dims(np.einsum(\"...i, ...i -> ...\",\n",
    "    coeffs, np.exp(exponents)), axis=-1)"
   ]
  },
  {
   "cell_type": "code",
   "execution_count": 206,
   "metadata": {},
   "outputs": [
    {
     "data": {
      "text/plain": [
       "5.996054488904732e-35"
      ]
     },
     "execution_count": 206,
     "metadata": {},
     "output_type": "execute_result"
    }
   ],
   "source": [
    "b_res55_56[0] * (2.0 * Delta +\n",
    "  4.0 * theta ** 2 * (b_res55_56[0] - 1.0))"
   ]
  },
  {
   "cell_type": "code",
   "execution_count": 219,
   "metadata": {},
   "outputs": [
    {
     "data": {
      "text/plain": [
       "(0.004250000000000007,\n",
       " -0.0012750000000000023,\n",
       " -0.029750000000000103,\n",
       " 0.021875000000000134,\n",
       " -25.398036051818096)"
      ]
     },
     "execution_count": 219,
     "metadata": {},
     "output_type": "execute_result"
    }
   ],
   "source": [
    "2.0 * b_res55_56[0] * Delta, \\\n",
    "  4.0 * theta ** 2 * b_res55_56[0] * (b_res55_56[0] - 1.0), \\\n",
    "  8.0 * theta * b_res55_56[0] * Delta * D_res55_56[0] * (t - 1.0), \\\n",
    "  Delta ** 2 * 2.0 * D_res55_56[0] * (2.0*D_res55_56[0] * (t - 1.0)**2 - 1.0), \\\n",
    "  n_res[54] * d * Delta ** (b_res55_56[0] - 2.0) * np.exp(-C_res55_56[0] * d_quad \\\n",
    "    -D_res55_56[0]*(t - 1.0)**2)\n"
   ]
  },
  {
   "cell_type": "code",
   "execution_count": 222,
   "metadata": {},
   "outputs": [
    {
     "data": {
      "text/plain": [
       "0.12445037664146272"
      ]
     },
     "execution_count": 222,
     "metadata": {},
     "output_type": "execute_result"
    }
   ],
   "source": [
    "d, t = 1.0-1e-10, 1.05\n",
    "d_quad = (d-1.0)**2\n",
    "theta = (1.0 - t) + A_res55_56[0] * d_quad ** _exp1_55_56[0]\n",
    "Delta = theta**2 + B_res55_56[0] * d_quad ** a_res55_56[0]\n",
    "n_res[54] * d * (\n",
    "    2.0 * b_res55_56[0] * Delta\n",
    "    + 4.0 * theta ** 2 * b_res55_56[0] * (b_res55_56[0] - 1.0)\n",
    "    + 8.0 * theta * b_res55_56[0] * Delta * D_res55_56[0] * (t - 1.0)\n",
    "    + Delta ** 2 * 2.0 * D_res55_56[0] * (2.0*D_res55_56[0] * (t - 1.0)**2 - 1.0)\n",
    "  ) * Delta ** (b_res55_56[0] - 2.0) * np.exp(-C_res55_56[0] * d_quad \\\n",
    "    -D_res55_56[0]*(t - 1.0)**2)\n",
    "    \n",
    "    \n",
    "    \n",
    "    # , Delta ** (b_res55_56[0] - 2.0), np.exp(-C_res55_56[0] * d_quad \\\n",
    "    # -D_res55_56[0]*(t - 1.0)**2)"
   ]
  },
  {
   "cell_type": "code",
   "execution_count": 214,
   "metadata": {},
   "outputs": [
    {
     "data": {
      "text/plain": [
       "322"
      ]
     },
     "execution_count": 214,
     "metadata": {},
     "output_type": "execute_result"
    }
   ],
   "source": [
    "rhoc"
   ]
  },
  {
   "cell_type": "code",
   "execution_count": 217,
   "metadata": {},
   "outputs": [
    {
     "data": {
      "text/plain": [
       "37291.87711926969"
      ]
     },
     "execution_count": 217,
     "metadata": {},
     "output_type": "execute_result"
    }
   ],
   "source": [
    "-R*phir_tt(321.999/rhoc, 1)[0]"
   ]
  },
  {
   "cell_type": "code",
   "execution_count": 228,
   "metadata": {},
   "outputs": [
    {
     "name": "stdout",
     "output_type": "stream",
     "text": [
      "0.5411242926608035 -1.569307601101107 -25170.16982061481\n",
      "0.5411180590933002 -1.569282734675447 -inf\n",
      "0.5411118255772582 -1.5692578688170142 -25170.673012354247\n"
     ]
    }
   ],
   "source": [
    "# Limit testing\n",
    "eps_like = 1e-5\n",
    "print(phir_dd(1-eps_like, 1)[0], phir_dt(1-eps_like, 1)[0], phir_tt(1-eps_like, 1.)[0])\n",
    "print(phir_dd(1, 1)[0], phir_dt(1, 1)[0], phir_tt(1, 1.)[0])\n",
    "print(phir_dd(1+eps_like, 1)[0], phir_dt(1+eps_like, 1)[0], phir_tt(1+eps_like, 1.)[0])"
   ]
  },
  {
   "cell_type": "code",
   "execution_count": 115,
   "metadata": {},
   "outputs": [
    {
     "data": {
      "text/plain": [
       "(0.4757306956456897,\n",
       " 0.475730696,\n",
       " -9.960295065592996,\n",
       " -9.96029507,\n",
       " -1.3321472043614389,\n",
       " -1.3321472)"
      ]
     },
     "execution_count": 115,
     "metadata": {},
     "output_type": "execute_result"
    }
   ],
   "source": [
    "phir_dd(d, t)[0], 0.475_730_696, phir_tt(d, t)[0], -0.996_029_507e1, phir_dt(d, t)[0], -0.133_214_720e1, "
   ]
  },
  {
   "cell_type": "markdown",
   "metadata": {},
   "source": [
    "###  Free evaluation"
   ]
  },
  {
   "cell_type": "code",
   "execution_count": null,
   "metadata": {},
   "outputs": [],
   "source": [
    "''' Helmholtz evaluation ''' \n",
    "\n",
    "''' Ideal-gas part of Helmholtz function f '''\n",
    "phi0 = np.log(d) + n_ideal[0] + n_ideal[1] * t + n_ideal[2] * np.log(t)\n",
    "phi0 += np.dot(n_ideal[3:8], np.log(1.0 - np.exp(-g_ideal[3:8] * t)))\n",
    "\n",
    "''' Residual part of Helmholtz function f\n",
    "Evaluated using two registers that combine as\n",
    "  np.dot( coeffs, np.exp(exponents) ).\n",
    "'''\n",
    "\n",
    "# Scalar precomputation\n",
    "d_quad = (d-1)**2\n",
    "\n",
    "# Allocate exponent cache\n",
    "exponents = np.zeros_like(n_res)\n",
    "# Allocate and evaluate coeffs\n",
    "coeffs = n_res * (d ** d_res) * (t ** t_res)\n",
    "\n",
    "# Compute distance term for 1-indices 55 to 56\n",
    "theta = (1 - t) + A_res55_56 * d_quad ** _exp1_55_56\n",
    "Delta = theta**2 + B_res55_56 * d_quad ** a_res55_56\n",
    "\n",
    "# Factor in Delta**b_i term for 1-indices from 55 to 56\n",
    "coeffs[54:56] *= Delta ** b_res55_56\n",
    "\n",
    "# Compute exponents for 1-indices 8 to 51 as -d**c_i\n",
    "exponents[7:51] = -d ** c_res1_51[7:51]\n",
    "# Compute exponents for 1-indices from 52 to 54\n",
    "exponents[51:54] = -alpha_res52_54 * (d - eps_res52_54) ** 2 \\\n",
    "  -beta_res52_54*(t - gamma_res52_54)**2\n",
    "# Compute exponents for 1-indices from 55 to 56\n",
    "exponents[54:56] = -C_res55_56 * d_quad \\\n",
    "  -D_res55_56*(t - 1)**2\n",
    "\n",
    "# Add residual part\n",
    "phir = np.dot(coeffs, np.exp(exponents))"
   ]
  },
  {
   "cell_type": "code",
   "execution_count": null,
   "metadata": {},
   "outputs": [],
   "source": [
    "''' Compressibility factor evaluation\n",
    "The compressibility factor Z is given by\n",
    "  Z == p * v / (R * T) = 1 + delta * d(phi_R)/d(delta).\n",
    "''' \n",
    "\n",
    "''' Partial derivative of residual part of Helmholtz function.\n",
    "Evaluated using two registers that combine as\n",
    "  np.dot( coeffs, np.exp(exponents) ).\n",
    "'''\n",
    "\n",
    "# Scalar precomputation\n",
    "d_quad = (d-1)**2\n",
    "\n",
    "# Allocate exponent cache\n",
    "exponents = np.zeros_like(n_res)\n",
    "# Allocate and partially evaluate coeffs\n",
    "coeffs = n_res * (d ** (d_res-1)) * (t ** t_res)\n",
    "\n",
    "# Compute distance term for 1-indices 55 to 56\n",
    "theta = (1 - t) + A_res55_56 * d_quad ** _exp1_55_56\n",
    "Delta = theta**2 + B_res55_56 * d_quad ** a_res55_56\n",
    "\n",
    "# Factor in d_i - c_i * d**c_i term\n",
    "coeffs[0:51] *= (d_res[0:51] - c_res1_51 * d ** c_res1_51)\n",
    "coeffs[51:54] *= d_res[51:54] - 2.0 * alpha_res52_54 * d * (d - eps_res52_54)\n",
    "# Factor in other terms for 1-indices from 55 to 56 in two steps\n",
    "coeffs[54:56] *= (\n",
    "  Delta * (1.0 - 2.0 * C_res55_56 * (d-1.0) * d)\n",
    "  + b_res55_56 * d * (d-1.0) * (\n",
    "    A_res55_56 * theta * 2 / beta_res55_56 * d_quad**(_exp1_55_56 - 1.0)\n",
    "    + 2 * B_res55_56 * a_res55_56 * d_quad**(a_res55_56 - 1.0)\n",
    "  )\n",
    ")\n",
    "coeffs[54:56] *= Delta ** np.where(Delta != 0, b_res55_56-1, 1.0)\n",
    "\n",
    "# Compute exponents for 1-indices 8 to 51 as -d**c_i\n",
    "exponents[7:51] = -d ** c_res1_51[7:51]\n",
    "# Compute exponents for 1-indices from 52 to 54\n",
    "exponents[51:54] = -alpha_res52_54 * (d - eps_res52_54) ** 2 \\\n",
    "  -beta_res52_54*(t - gamma_res52_54)**2\n",
    "# Compute exponents for 1-indices from 55 to 56\n",
    "exponents[54:56] = -C_res55_56 * d_quad \\\n",
    "  -D_res55_56*(t - 1)**2\n",
    "\n",
    "# Reduce\n",
    "phir_d = np.dot(coeffs, np.exp(exponents))\n",
    "Z = 1 + d * phir_d"
   ]
  }
 ],
 "metadata": {
  "kernelspec": {
   "display_name": "Python 3.8.3 64-bit",
   "language": "python",
   "name": "python3"
  },
  "language_info": {
   "codemirror_mode": {
    "name": "ipython",
    "version": 3
   },
   "file_extension": ".py",
   "mimetype": "text/x-python",
   "name": "python",
   "nbconvert_exporter": "python",
   "pygments_lexer": "ipython3",
   "version": "3.8.3"
  },
  "orig_nbformat": 4,
  "vscode": {
   "interpreter": {
    "hash": "d3b55c328c36168f3a6229c37fd25db278b1a41b93c10c98692f80b48f757e96"
   }
  }
 },
 "nbformat": 4,
 "nbformat_minor": 2
}
