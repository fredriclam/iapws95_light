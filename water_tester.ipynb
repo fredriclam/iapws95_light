{
 "cells": [
  {
   "cell_type": "markdown",
   "metadata": {},
   "source": [
    "## Testing"
   ]
  },
  {
   "cell_type": "code",
   "execution_count": null,
   "metadata": {},
   "outputs": [],
   "source": [
    "%load_ext autoreload\n",
    "%autoreload 2\n",
    "\n",
    "import numpy as np\n",
    "import matplotlib.pyplot as plt"
   ]
  },
  {
   "cell_type": "code",
   "execution_count": null,
   "metadata": {},
   "outputs": [],
   "source": [
    "import iapws95_light\n",
    "iapws95_light.print_verification_values()"
   ]
  },
  {
   "cell_type": "code",
   "execution_count": null,
   "metadata": {},
   "outputs": [],
   "source": [
    "iapws95_light.print_timing()"
   ]
  },
  {
   "cell_type": "code",
   "execution_count": null,
   "metadata": {},
   "outputs": [],
   "source": [
    "import iapws\n",
    "\n",
    "p_ref = 1e6\n",
    "T_ref = 300\n",
    "print(f\"iapws.py: Reference density of {iapws.IAPWS95(P=p_ref/1e6, T=T_ref).rho}\")\n",
    "# Set reference density in platofmr-independent way\n",
    "rho_ref = 996.9600226950664\n",
    "\n",
    "''' Cross-verification '''\n",
    "# Finite difference check for phi implementation\n",
    "d = 996.9600226950664 / iapws95_light.rhoc\n",
    "t = iapws95_light.Tc / T_ref\n",
    "_finite_diff_soln = 0.5*(iapws95_light.phir(d + 1e-5, iapws95_light.Tc/300) \\\n",
    "  - iapws95_light.phir(d - 1e-5, iapws95_light.Tc/300))/1e-5\n",
    "print(f\"phir_d eval: {iapws95_light.phir_d(d, iapws95_light.Tc/300) [0]}\")\n",
    "print(f\"Finite diff: {_finite_diff_soln[0]}\")\n",
    "\n",
    "# Forward check of pressure routine\n",
    "print(f\"Reference pressure: {p_ref}\")\n",
    "print(f\"Computed pressure:  {iapws95_light.p(rho_ref, T_ref)}\")\n",
    "\n",
    "crossverif_obj = iapws.IAPWS95(rho=rho_ref, T=T_ref)\n",
    "phir = iapws95_light.phir(d, t)[0]\n",
    "phi0 = iapws95_light.phi0(d, t)[0]\n",
    "crossverf_phir = crossverif_obj._phir(crossverif_obj.Tc/T_ref,\n",
    "  rho_ref/crossverif_obj.rhoc)[\"fir\"]\n",
    "crossverf_phi0 = crossverif_obj._phi0(crossverif_obj.Tc/T_ref,\n",
    "  rho_ref/crossverif_obj.rhoc)[\"fio\"]\n",
    "\n",
    "print(f\"Computed phir:  {phir}\")\n",
    "print(f\"Reference phir: {crossverf_phir}\")\n",
    "print(f\"Computed phi0:  {phi0}\")\n",
    "print(f\"Reference phi0: {crossverf_phi0}\")"
   ]
  },
  {
   "cell_type": "code",
   "execution_count": null,
   "metadata": {},
   "outputs": [],
   "source": [
    "# Unphysical test: attempt to compute pressure using Helmholtz within mixed\n",
    "#   phase\n",
    "print(f\"Attempted p:  {iapws95_light.p(859.6317217178832, T_ref)}\")\n",
    "print(f\"Reference p:  {iapws.IAPWS95(rho=859.6317217178832, T=T_ref).P*1e6}\")\n",
    "print(f\"Saturation p: {iapws95_light.prho_sat(T_ref)[0][0]}\")"
   ]
  },
  {
   "cell_type": "code",
   "execution_count": null,
   "metadata": {},
   "outputs": [],
   "source": [
    "# Iterative thermodynamic functions test\n",
    "print(f\"Density at 0.9 MPa, 300 K: {iapws95_light.rho_pt(0.9e6, 300)[0]}\")\n",
    "\n",
    "# Compute saturation curves\n",
    "range_T = np.linspace(273.15, iapws95_light.Tc, 25)\n",
    "rhol, rhov = iapws95_light.get_saturation_density_curves(range_T)\n",
    "# Define sampling range for mixed phase\n",
    "coord_range = np.linspace(0,1,7)\n",
    "mg_T, mg_rho = np.meshgrid(range_T, coord_range)\n",
    "mg_x = np.zeros_like(mg_T)\n",
    "# Compute vapour mass fraction using iapws95_light.x\n",
    "for i, j in np.ndindex(mg_T.shape):\n",
    "  mg_rho[i,j] = rhov[j] + coord_range[i] * (rhol[j] - rhov[j])\n",
    "  mg_x[i,j] = iapws95_light.x(mg_rho[i,j], mg_T[i,j])\n",
    "\n",
    "plt.figure(1)\n",
    "# Show mass fraction inside mixed phase region\n",
    "plt.contourf(mg_T, mg_rho, mg_x)\n",
    "# Plot saturation curves\n",
    "plt.plot(range_T, rhol, '.')\n",
    "plt.plot(range_T, rhov, '.')\n",
    "plt.xlabel(\"Temperature (K)\")\n",
    "plt.ylabel(\"Density (kg m^{-3})\")\n",
    "plt.show()"
   ]
  },
  {
   "cell_type": "code",
   "execution_count": null,
   "metadata": {},
   "outputs": [],
   "source": [
    "import iapws95_light\n",
    "range_rho = np.linspace(1.0, 1300, 400)\n",
    "range_T = np.linspace(273.15, 800, 801)\n",
    "mg_rho, mg_T = np.meshgrid(range_rho, range_T)\n",
    "mg_p = np.zeros_like(mg_rho)\n",
    "\n",
    "# Compute pressures\n",
    "mg_p.ravel()[:] = iapws95_light.p(mg_rho.ravel(), mg_T.ravel())\n",
    "mg_pclip = np.clip(mg_p, None, 10e9)"
   ]
  },
  {
   "cell_type": "code",
   "execution_count": null,
   "metadata": {},
   "outputs": [],
   "source": [
    "plt.contourf(mg_T, mg_rho, mg_pclip)\n",
    "# plt.clim(1e2 ,1e9)\n",
    "cb = plt.colorbar()\n",
    "plt.contour(mg_T, mg_rho, mg_p, levels=[10e6, 20e6, 24e6, 60e6, 240e6, 1e9])\n",
    "\n",
    "plt.xlabel(\"Temperature (K)\")\n",
    "plt.ylabel(\"Density (kg/m^3)\")\n",
    "# plt.ylim(0,10e6)\n",
    "\n",
    "print(\"Pressure contours in density-temperature space. Values are not valid \" +\n",
    "  \"in the phase equilibrium portion.\")"
   ]
  },
  {
   "attachments": {},
   "cell_type": "markdown",
   "metadata": {},
   "source": [
    "## Feature development: water-linearized-magma (WLM) properties"
   ]
  },
  {
   "cell_type": "code",
   "execution_count": null,
   "metadata": {},
   "outputs": [],
   "source": [
    "# Coefficients\n",
    "\n",
    "# Independent variables\n",
    "rho_mix = 2500\n",
    "yw = 0.5\n",
    "T = 1000\n",
    "# Typical parameters\n",
    "K = 10e9\n",
    "p_m0 = 5e6\n",
    "rho_m0 = 2.7e3\n",
    "v_m0 = 1.0 / rho_m0\n",
    "# Extract water constants\n",
    "rhoc = iapws95_light.rhoc\n",
    "vc = 1.0 / rhoc\n",
    "Rw = iapws95_light.R\n",
    "\n",
    "# Compute dependent variables\n",
    "ym = 1.0 - yw\n",
    "v_mix = 1.0 / rho_mix\n",
    "t = iapws95_light.Tc / T\n",
    "# Compute coefficients\n",
    "a = rhoc / rho_mix\n",
    "b = - yw\n",
    "c2 = a\n",
    "c1 = (v_mix * (K - p_m0) - K * ym * v_m0)/(Rw * T) - yw\n",
    "c0 = -yw * vc / (Rw * T) * (K - p_m0)"
   ]
  },
  {
   "cell_type": "code",
   "execution_count": null,
   "metadata": {},
   "outputs": [],
   "source": [
    "a, b, c2, c1, c0"
   ]
  },
  {
   "cell_type": "code",
   "execution_count": null,
   "metadata": {},
   "outputs": [],
   "source": [
    "# Terms of nondimensional scaled pressure\n",
    "\n",
    "def _val(d):\n",
    "  return (a*d + b)*d**2*iapws95_light.phir_d(d, t) + ((c2 * d) + c1)*d + c0\n",
    "\n",
    "def _valslope(d):\n",
    "  _phir_d = iapws95_light.phir_d(d, t)\n",
    "  val = (a*d + b)*d**2*_phir_d + ((c2 * d) + c1)*d + c0\n",
    "  slope = (3*a*d + 2*b)*d*_phir_d + (a*d + b)*d**2*iapws95_light.phir_dd(d,t) \\\n",
    "    + 2*c2*d + c1\n",
    "  return val, slope\n",
    "\n",
    "# Initial guess\n",
    "d = 5.0\n",
    "# Newton\n",
    "for i in range(5):\n",
    "  val, slope = _valslope(d)\n",
    "  d -= val/slope\n",
    "  print(d)"
   ]
  },
  {
   "cell_type": "code",
   "execution_count": null,
   "metadata": {},
   "outputs": [],
   "source": [
    "''' Landscape for reference '''\n",
    "d_range = np.expand_dims(np.linspace(1e-6, 10, 100), axis=-1)\n",
    "plt.plot(d_range, _val(d_range), '.-')\n",
    "plt.title(f\"Landscape for t = Tc / T = {t}\")\n",
    "plt.xlabel(\"delta\")\n",
    "plt.ylabel(\"Pressure mismatch, scaled and nondim.\")"
   ]
  },
  {
   "cell_type": "code",
   "execution_count": null,
   "metadata": {},
   "outputs": [],
   "source": [
    "''' Bulk compute '''\n",
    "\n",
    "# Independent variables\n",
    "rho_mix = 2500\n",
    "yw = 0.5\n",
    "T = 1000\n",
    "\n",
    "# Typical parameters\n",
    "K = 10e9\n",
    "p_m0 = 5e6\n",
    "rho_m0 = 2.7e3\n",
    "v_m0 = 1.0 / rho_m0\n",
    "# Extract water constants\n",
    "rhoc = iapws95_light.rhoc\n",
    "vc = 1.0 / rhoc\n",
    "Rw = iapws95_light.R\n",
    "\n",
    "# Terms of nondimensional scaled pressure\n",
    "\n",
    "def solve_d(rho_mix, yw, T):\n",
    "  ''' Solve for reduced density d = rho/rho_c '''\n",
    "\n",
    "  # Compute dependent variables\n",
    "  ym = 1.0 - yw\n",
    "  v_mix = 1.0 / rho_mix\n",
    "  t = iapws95_light.Tc / T\n",
    "  # Compute coefficients\n",
    "  a = rhoc / rho_mix\n",
    "  b = - yw\n",
    "  c2 = a\n",
    "  c1 = (v_mix * (K - p_m0) - K * ym * v_m0)/(Rw * T) - yw\n",
    "  c0 = -yw * vc / (Rw * T) * (K - p_m0)\n",
    "\n",
    "  def _val(d):\n",
    "    ''' Return value of scaled residual '''\n",
    "    return (a*d + b)*d**2*iapws95_light.phir_d(d, t) + ((c2 * d) + c1)*d + c0\n",
    "\n",
    "  def _valslope(d):\n",
    "    ''' Return value of scaled residual and slope '''\n",
    "    _phir_d = iapws95_light.phir_d(d, t)\n",
    "    val = (a*d + b)*d**2*_phir_d + ((c2 * d) + c1)*d + c0\n",
    "    slope = (3*a*d + 2*b)*d*_phir_d + (a*d + b)*d**2*iapws95_light.phir_dd(d,t) \\\n",
    "      + 2*c2*d + c1\n",
    "    return val, slope\n",
    "\n",
    "  # Initial guess\n",
    "  d = 1.0\n",
    "  # Newton\n",
    "  for i in range(8):\n",
    "    val, slope = _valslope(d)\n",
    "    step = val/slope\n",
    "    d -= step\n",
    "    if np.any(d < 1e-10):\n",
    "      break\n",
    "  if np.abs(step/d) > 1e-2:\n",
    "    # Try again (TODO: improve)\n",
    "    d = 5.0\n",
    "    # Newton\n",
    "    for i in range(8):\n",
    "      val, slope = _valslope(d)\n",
    "      step = val/slope\n",
    "      d -= step\n",
    "  \n",
    "  # Return d, last step size\n",
    "  return d, np.abs(step)\n",
    "\n",
    "solve_d(rho_mix,yw,T)"
   ]
  },
  {
   "cell_type": "code",
   "execution_count": null,
   "metadata": {},
   "outputs": [],
   "source": [
    "''' Test at fixed temperature '''\n",
    "T = 1000\n",
    "\n",
    "# Estimate maximum water density\n",
    "p_max = 1e9\n",
    "rhow_max = float(iapws95_light.rho_pt(p_max, 273))\n",
    "rhom_max = (1 + (p_max - p_m0) / K) * rho_m0\n",
    "# Set minimum pressure (Pa)\n",
    "p_min = 100\n",
    "rhow_min = p_min / (Rw * T)\n",
    "rhom_min = (1 + (0.0 - p_m0) / K) * rho_m0\n",
    "\n",
    "# Define feasible range\n",
    "range_rho_mix_coords = np.linspace(0, 1, 23)\n",
    "range_yw = np.linspace(0.01, 0.99, 33)\n",
    "mg_rho_mix, mg_yw = np.meshgrid(range_rho_mix_coords , range_yw)\n",
    "mg_out_d = np.zeros_like(mg_rho_mix)\n",
    "mg_out_steps = np.zeros_like(mg_rho_mix)\n",
    "\n",
    "for i, j in np.ndindex(mg_rho_mix.shape):\n",
    "  yw = range_yw[i]\n",
    "  ym = 1.0 - yw\n",
    "  rho_mix_min = 1.0/(yw / rhow_min +  ym / rhom_min)\n",
    "  mg_rho_mix[i,j] = rho_mix_min + range_rho_mix_coords[j] * (\n",
    "    1/(yw / rhow_max +  ym / rhom_max) - rho_mix_min)\n"
   ]
  },
  {
   "cell_type": "code",
   "execution_count": null,
   "metadata": {},
   "outputs": [],
   "source": [
    "# Show range\n",
    "ax = plt.contourf(mg_rho_mix, mg_yw, mg_rho_mix)\n",
    "yl = plt.ylabel(\"Water mass fraction\")\n",
    "xl = plt.xlabel(\"Mixture density (kg/m^3)\")\n",
    "cb = plt.colorbar(label=\"Mixture density\")"
   ]
  },
  {
   "cell_type": "code",
   "execution_count": null,
   "metadata": {},
   "outputs": [],
   "source": [
    "# Compute\n",
    "vec_out_d, vec_out_stepsize = (\n",
    "  *zip(*map(lambda rho_mix, yw: solve_d(rho_mix, yw, T),\n",
    "  mg_rho_mix.ravel(), mg_yw.ravel())),)\n",
    "\n",
    "# Load vector data in ndarray\n",
    "mg_out_d.ravel()[:] = np.array(vec_out_d).ravel()\n",
    "mg_out_steps.ravel()[:] = np.array(vec_out_stepsize).ravel()"
   ]
  },
  {
   "cell_type": "code",
   "execution_count": null,
   "metadata": {},
   "outputs": [],
   "source": [
    "for i in range(mg_out_d.shape[0]):\n",
    "  plt.semilogy(mg_rho_mix[i,:], mg_out_d[i,:].ravel(), '.-')\n",
    "xl = plt.xlabel(\"Mixture density (kg/m^3)\")\n",
    "yl = plt.ylabel(\"Reduced density, water\")"
   ]
  },
  {
   "cell_type": "code",
   "execution_count": null,
   "metadata": {},
   "outputs": [],
   "source": [
    "# Show landscape\n",
    "plt.plot()\n",
    "\n",
    "# Simulated input\n",
    "rho_mix, yw = 2900, 1e-2\n",
    "\n",
    "# Compute dependent variables\n",
    "ym = 1.0 - yw\n",
    "v_mix = 1.0 / rho_mix\n",
    "t = iapws95_light.Tc / T\n",
    "# Compute coefficients\n",
    "a = rhoc / rho_mix\n",
    "b = - yw\n",
    "c2 = a\n",
    "c1 = (v_mix * (K - p_m0) - K * ym * v_m0)/(Rw * T) - yw\n",
    "c0 = -yw * vc / (Rw * T) * (K - p_m0)\n",
    "def _val(d):\n",
    "    ''' Return value of scaled residual '''\n",
    "    return (a*d + b)*d**2*iapws95_light.phir_d(d, t) + ((c2 * d) + c1)*d + c0\n",
    "\n",
    "_d_range = np.expand_dims(np.linspace(0.01, 4, 100), axis=-1)\n",
    "plt.plot(_d_range, (_val(_d_range)), '.-')\n",
    "plt.plot(_d_range, (_val(_d_range)), '.-')"
   ]
  },
  {
   "cell_type": "code",
   "execution_count": null,
   "metadata": {},
   "outputs": [],
   "source": [
    "''' Test at several sample temperatures '''\n",
    "\n",
    "range_T = np.linspace(350, 1150, 4)\n",
    "print(range_T)\n",
    "\n",
    "for T in range_T:\n",
    "  # Estimate maximum water density\n",
    "  p_max = 1e9\n",
    "  rhow_max = float(iapws95_light.rho_pt(p_max, 273))\n",
    "  rhom_max = (1 + (p_max - p_m0) / K) * rho_m0\n",
    "  # Set minimum pressure (Pa)\n",
    "  p_min = 100\n",
    "  rhow_min = p_min / (Rw * T)\n",
    "  rhom_min = (1 + (0.0 - p_m0) / K) * rho_m0\n",
    "\n",
    "  # Define feasible range\n",
    "  range_rho_mix_coords = np.linspace(0, 1, 23)\n",
    "  range_yw = np.linspace(0.01, 0.99, 33)\n",
    "  mg_rho_mix, mg_yw = np.meshgrid(range_rho_mix_coords , range_yw)\n",
    "  mg_out_d = np.zeros_like(mg_rho_mix)\n",
    "  mg_out_steps = np.zeros_like(mg_rho_mix)\n",
    "\n",
    "  for i, j in np.ndindex(mg_rho_mix.shape):\n",
    "    yw = range_yw[i]\n",
    "    ym = 1.0 - yw\n",
    "    rho_mix_min = 1.0/(yw / rhow_min +  ym / rhom_min)\n",
    "    mg_rho_mix[i,j] = rho_mix_min + range_rho_mix_coords[j] * (\n",
    "      1/(yw / rhow_max +  ym / rhom_max) - rho_mix_min)\n",
    "\n",
    "  # Compute\n",
    "  vec_out_d, vec_out_stepsize = (\n",
    "    *zip(*map(lambda rho_mix, yw: solve_d(rho_mix, yw, T),\n",
    "    mg_rho_mix.ravel(), mg_yw.ravel())),)\n",
    "\n",
    "  # Load vector data in ndarray\n",
    "  mg_out_d.ravel()[:] = np.array(vec_out_d).ravel()\n",
    "  mg_out_steps.ravel()[:] = np.array(vec_out_stepsize).ravel()\n",
    "\n",
    "  plt.figure()\n",
    "  for i in range(mg_out_d.shape[0]):\n",
    "    plt.plot(mg_rho_mix[i,:], mg_out_d[i,:].ravel(), '.-')\n",
    "  xl = plt.xlabel(\"Mixture density (kg/m^3)\")\n",
    "  yl = plt.ylabel(\"Reduced density, water\")\n",
    "  plt.title(f\"T = {T} K\")"
   ]
  },
  {
   "cell_type": "code",
   "execution_count": null,
   "metadata": {},
   "outputs": [],
   "source": [
    "T = 350.0\n",
    "\n",
    "# Estimate maximum water density\n",
    "p_max = 1e9\n",
    "rhow_max = float(iapws95_light.rho_pt(p_max, 273))\n",
    "rhom_max = (1 + (p_max - p_m0) / K) * rho_m0\n",
    "# Set minimum pressure (Pa)\n",
    "p_min = 100\n",
    "rhow_min = p_min / (Rw * T)\n",
    "rhom_min = (1 + (0.0 - p_m0) / K) * rho_m0\n",
    "\n",
    "# Define feasible range\n",
    "range_rho_mix_coords = np.linspace(0, 1, 23)\n",
    "range_yw = np.linspace(0.01, 0.99, 33)\n",
    "mg_rho_mix, mg_yw = np.meshgrid(range_rho_mix_coords , range_yw)\n",
    "mg_out_d = np.zeros_like(mg_rho_mix)\n",
    "mg_out_steps = np.zeros_like(mg_rho_mix)\n",
    "\n",
    "for i, j in np.ndindex(mg_rho_mix.shape):\n",
    "  yw = range_yw[i]\n",
    "  ym = 1.0 - yw\n",
    "  rho_mix_min = 1.0/(yw / rhow_min +  ym / rhom_min)\n",
    "  mg_rho_mix[i,j] = rho_mix_min + range_rho_mix_coords[j] * (\n",
    "    1/(yw / rhow_max +  ym / rhom_max) - rho_mix_min)\n",
    "\n",
    "# Compute\n",
    "vec_out_d = (*map(lambda rho_mix, yw: mixture.solve_rhow(rho_mix, yw, T),\n",
    "  mg_rho_mix.ravel(), mg_yw.ravel()),)\n",
    "# vec_out_d, vec_out_stepsize = (\n",
    "#   *zip(*map(lambda rho_mix, yw: mixture.solve_rhow(rho_mix, yw, T),\n",
    "#   mg_rho_mix.ravel(), mg_yw.ravel())),)\n",
    "\n",
    "# Load vector data in ndarray\n",
    "mg_out_d.ravel()[:] = np.array(vec_out_d).ravel()\n",
    "mg_out_steps.ravel()[:] = np.array(vec_out_stepsize).ravel()\n",
    "\n",
    "plt.figure()\n",
    "for i in range(mg_out_d.shape[0]):\n",
    "  plt.plot(mg_rho_mix[i,:], mg_out_d[i,:].ravel(), '.-')\n",
    "xl = plt.xlabel(\"Mixture density (kg/m^3)\")\n",
    "yl = plt.ylabel(\"Reduced density, water\")\n",
    "plt.title(f\"T = {T} K\")"
   ]
  },
  {
   "attachments": {},
   "cell_type": "markdown",
   "metadata": {},
   "source": [
    "## Curve fitting saturation curve"
   ]
  },
  {
   "cell_type": "code",
   "execution_count": null,
   "metadata": {},
   "outputs": [],
   "source": [
    "T = np.expand_dims(T_samples, axis=1)\n",
    "Tc = iapws95_light.Tc\n",
    "terms = np.hstack([1.0/(T-Tc), 1.0/(T*T), T, T*T, T*T*T, T*T*T*T])\n",
    "terms.shape"
   ]
  },
  {
   "cell_type": "code",
   "execution_count": 133,
   "metadata": {},
   "outputs": [
    {
     "data": {
      "text/plain": [
       "[<matplotlib.lines.Line2D at 0x21dff7fa4c0>]"
      ]
     },
     "execution_count": 133,
     "metadata": {},
     "output_type": "execute_result"
    },
    {
     "data": {
      "image/png": "[encoded data removed]",
      "text/plain": [
       "<Figure size 432x288 with 1 Axes>"
      ]
     },
     "metadata": {
      "needs_background": "light"
     },
     "output_type": "display_data"
    }
   ],
   "source": [
    "import numpy as np\n",
    "import float_phi_functions\n",
    "import scipy.optimize\n",
    "\n",
    "# T_samples = np.linspace(260, iapws95_light.Tc - 0.5e-3, 200)\n",
    "T_samples = iapws95_light.Tc - 0.5e-3 - (iapws95_light.Tc - 0.5e-3 - 260) * np.linspace(0,1,50)**3\n",
    "\n",
    "psat, rho_satl, rho_satv = zip(*[[float_phi_functions.prho_sat(T)[key]\n",
    "    for key in [\"psat\", \"rho_satl\", \"rho_satv\"]] for T in T_samples])\n",
    "\n",
    "plt.plot(rho_satl, T_samples, '.-')\n",
    "plt.plot(rho_satv, T_samples, '.-')"
   ]
  },
  {
   "cell_type": "code",
   "execution_count": 152,
   "metadata": {},
   "outputs": [
    {
     "name": "stdout",
     "output_type": "stream",
     "text": [
      "     fun: 0.3978182970234826\n",
      "     jac: array([-6.46095723e-03, -7.05887005e-03, -5.54434583e-03, -7.76633620e-04,\n",
      "       -1.91889703e-05,  0.00000000e+00, -8.06126371e-03, -7.20585510e-03,\n",
      "       -6.47208095e-03, -6.95044920e-03])\n",
      " message: 'Optimization terminated successfully'\n",
      "    nfev: 514\n",
      "     nit: 44\n",
      "    njev: 44\n",
      "  status: 0\n",
      " success: True\n",
      "       x: array([ 2.56712658e+00,  7.10154550e-01, -5.55049440e-01, -1.77699185e+00,\n",
      "       -4.54220092e+01, -6.75615000e+05, -3.89838943e-01,  9.43196534e-01,\n",
      "       -9.24097082e-01,  2.31816920e-01])\n"
     ]
    },
    {
     "data": {
      "text/plain": [
       "[<matplotlib.lines.Line2D at 0x21d8122bd90>]"
      ]
     },
     "execution_count": 152,
     "metadata": {},
     "output_type": "execute_result"
    },
    {
     "data": {
      "image/png": "[encoded data removed]",
      "text/plain": [
       "<Figure size 432x288 with 1 Axes>"
      ]
     },
     "metadata": {
      "needs_background": "light"
     },
     "output_type": "display_data"
    },
    {
     "data": {
      "image/png": "[encoded data removed]",
      "text/plain": [
       "<Figure size 432x288 with 1 Axes>"
      ]
     },
     "metadata": {
      "needs_background": "light"
     },
     "output_type": "display_data"
    }
   ],
   "source": [
    "# Scale by input range for monomial terms\n",
    "scaling = T_samples.max() - T_samples.min()\n",
    "# Define fitting function\n",
    "fit_func_incubed = lambda t: np.hstack([\n",
    "  t,\n",
    "  t**2,\n",
    "  t**5,\n",
    "  t**16,\n",
    "  t**43,\n",
    "  t**110,\n",
    "  t**0.125,\n",
    "  t**0.25,\n",
    "  t**0.375,\n",
    "  t**0.5,\n",
    "  t**0.625,\n",
    "  t**0.75,\n",
    "  t**0.875,\n",
    "  t**3,\n",
    "  t**6,\n",
    "  t**9,\n",
    "  t**12,\n",
    "  ])\n",
    "fit_func = lambda t: fit_func_incubed(t**(1/3))\n",
    "\n",
    "_name_size = fit_func(0).size\n",
    "\n",
    "def func_repr(T, a):\n",
    "  ''' Representation of rho at vector T '''\n",
    "  # Call form of fitting function with shape manipulation\n",
    "  return iapws95_light.rhoc * (1 + np.einsum(\"ij, j -> i\",\n",
    "    fit_func((1 - np.expand_dims(T, axis=1) / iapws95_light.Tc)), a))\n",
    "\n",
    "def objective(a, y:np.array):\n",
    "  ord = 4\n",
    "  ''' Estimate of ||rho_approx - rho||_\\infty '''\n",
    "  return np.linalg.norm(func_repr(T_samples, a)\\\n",
    "    - y, ord=ord) / len(T_samples)**(1.0/ord)\n",
    "\n",
    "# Set initial parameters\n",
    "x_init = np.ones((_name_size,))\n",
    "# x_init[0] = T_samples.mean()\n",
    "x_init[0:6] = np.array([\n",
    "  1.99206, 1.10123, -5.12506e-1, -1.75263, -45.4485, -6.75615e5])\n",
    "# Optimize parameters\n",
    "opt_obj = scipy.optimize.minimize(lambda a: objective(a, rho_satl),\n",
    "  x_init, tol=1e-7, method=\"SLSQP\")\n",
    "# Print optimization result\n",
    "print(opt_obj)\n",
    "\n",
    "plt.plot(rho_satl, T_samples, '.-')\n",
    "plt.plot(rho_satv, T_samples, '.-')\n",
    "plt.plot(func_repr(T_samples, opt_obj.x), T_samples)\n",
    "plt.figure()\n",
    "plt.plot(func_repr(T_samples, opt_obj.x) - rho_satl, T_samples)"
   ]
  },
  {
   "cell_type": "code",
   "execution_count": 151,
   "metadata": {},
   "outputs": [
    {
     "data": {
      "text/plain": [
       "[<matplotlib.lines.Line2D at 0x21d8117af40>]"
      ]
     },
     "execution_count": 151,
     "metadata": {},
     "output_type": "execute_result"
    },
    {
     "data": {
      "image/png": "[encoded data removed]",
      "text/plain": [
       "<Figure size 432x288 with 1 Axes>"
      ]
     },
     "metadata": {
      "needs_background": "light"
     },
     "output_type": "display_data"
    }
   ],
   "source": [
    "plt.plot(func_repr(T_samples, opt_obj.x) - rho_satl)"
   ]
  },
  {
   "cell_type": "code",
   "execution_count": 116,
   "metadata": {},
   "outputs": [
    {
     "data": {
      "text/plain": [
       "[<matplotlib.lines.Line2D at 0x21dfefa00d0>]"
      ]
     },
     "execution_count": 116,
     "metadata": {},
     "output_type": "execute_result"
    },
    {
     "data": {
      "image/png": "[encoded data removed]",
      "text/plain": [
       "<Figure size 432x288 with 1 Axes>"
      ]
     },
     "metadata": {
      "needs_background": "light"
     },
     "output_type": "display_data"
    }
   ],
   "source": [
    "satl_powsb = np.array([\n",
    "  1/3, 2/3, 5/3,\n",
    "  16/3, 43/3, 110/3])\n",
    "satl_coeffsb = np.array([\n",
    "  1.99206, 1.10123, -5.12506e-1, -1.75263, -45.4485, -6.75615e5])\n",
    "\n",
    "saulwa_satl = 1.0 + np.sum(satl_coeffsb \\\n",
    "  * np.expand_dims(1 - T_samples/iapws95_light.Tc,axis=-1) ** satl_powsb, axis=-1)\n",
    "plt.plot(saulwa_satl*iapws95_light.rhoc - rho_satl, T_samples)"
   ]
  },
  {
   "cell_type": "code",
   "execution_count": null,
   "metadata": {},
   "outputs": [],
   "source": []
  },
  {
   "attachments": {},
   "cell_type": "markdown",
   "metadata": {},
   "source": [
    "## iapws95_light_perf testing"
   ]
  },
  {
   "cell_type": "code",
   "execution_count": null,
   "metadata": {},
   "outputs": [],
   "source": [
    "%load_ext autoreload\n",
    "%autoreload 2\n",
    "\n",
    "import numpy as np\n",
    "import matplotlib.pyplot as plt\n",
    "import iapws95_light\n",
    "import numpy as np\n",
    "\n",
    "# Cython-backend imports\n",
    "import float_phi_functions\n",
    "import iapws95_light_perf"
   ]
  },
  {
   "cell_type": "code",
   "execution_count": null,
   "metadata": {},
   "outputs": [],
   "source": [
    "# Test critical values\n",
    "float_phi_functions.fused_phir_all(1,1)"
   ]
  },
  {
   "cell_type": "code",
   "execution_count": null,
   "metadata": {},
   "outputs": [],
   "source": [
    "iapws95_light_perf.print_verification_values()"
   ]
  },
  {
   "cell_type": "code",
   "execution_count": null,
   "metadata": {},
   "outputs": [],
   "source": [
    "d = 838.025 / iapws95_light.rhoc\n",
    "t = iapws95_light.Tc / 500\n",
    "float_phi_functions.fused_phir_d_phir_dd(d,t), float_phi_functions._fused_phir_d_phir_dd_clean(d,t) #, float_phi_functions.fused_phir_all(d,t)"
   ]
  },
  {
   "cell_type": "code",
   "execution_count": null,
   "metadata": {},
   "outputs": [],
   "source": [
    "d = 358 / iapws95_light.rhoc\n",
    "t = iapws95_light.Tc / 647\n",
    "float_phi_functions.fused_phir_d_phir_dd(d,t), float_phi_functions._fused_phir_d_phir_dd_clean(d,t) #, float_phi_functions.fused_phir_all(d,t)"
   ]
  },
  {
   "cell_type": "code",
   "execution_count": null,
   "metadata": {},
   "outputs": [],
   "source": [
    "''' Built-in timing '''\n",
    "iapws95_light_perf.print_timing()"
   ]
  },
  {
   "cell_type": "code",
   "execution_count": null,
   "metadata": {},
   "outputs": [],
   "source": [
    "''' Local timeit '''\n",
    "print(\"Dummy with overhead only\")\n",
    "%timeit -n 10000 float_phi_functions._dummy(d, t)\n",
    "print(\"phir_* (clean implementation)\")\n",
    "%timeit -n 10000 float_phi_functions._fused_phir_all_clean(d, t)\n",
    "print(\"phir_* (opt implementation)\")\n",
    "%timeit -n 10000 float_phi_functions.fused_phir_all(d, t)\n",
    "print(\"phir_d_phir_dd\")\n",
    "%timeit -n 10000 float_phi_functions.fused_phir_d_phir_dd(d, t)\n",
    "print(\"phir_d_phir_dd\")\n",
    "%timeit -n 10000 float_phi_functions.fused_phir_d_phir_dd(d, t)\n",
    "print(\"phir_* (opt implementation)\")\n",
    "%timeit -n 10000 float_phi_functions.fused_phir_all(d, t)\n",
    "print(\"phir_* (clean implementation)\")\n",
    "%timeit -n 10000 float_phi_functions._fused_phir_all_clean(d, t)\n",
    "print(\"Dummy with exp / power and overhead\")\n",
    "%timeit -n 10000 float_phi_functions._dummy_struct(d, t)\n",
    "print(\"Dummy with overhead only\")\n",
    "%timeit -n 10000 float_phi_functions._dummy(d, t)"
   ]
  },
  {
   "cell_type": "code",
   "execution_count": null,
   "metadata": {},
   "outputs": [],
   "source": [
    "''' Estimate % of op loads '''\n",
    "import timeit\n",
    "t_measure = timeit.timeit(lambda: float_phi_functions.fused_phir_all(d, t), number=10000)/10000\n",
    "t_dummy_struct = timeit.timeit(lambda: float_phi_functions._dummy_struct(d, t), number=10000)/10000\n",
    "t_dummy = timeit.timeit(lambda: float_phi_functions._dummy(d, t), number=10000)/10000\n",
    "print(f\"Estimate of pow/exp functions proportion: {(t_dummy_struct-t_dummy)/t_measure:.5f}\")\n",
    "print(f\"Estimate of overhead proportion: {(t_dummy)/t_measure:.5f}\")\n",
    "print(f\"Estimate of remaining code: {1 - t_dummy_struct/t_measure:.5f}\")"
   ]
  },
  {
   "cell_type": "code",
   "execution_count": null,
   "metadata": {},
   "outputs": [],
   "source": [
    "print(\"Saturation curve evaluation\")\n",
    "%timeit -n 1000 float_phi_functions.prho_sat(400)\n",
    "print(\"Mixed-phase pressure\")\n",
    "%timeit -n 1000 float_phi_functions.p(400, 400)\n",
    "print(\"Mixed-phase energy\")\n",
    "%timeit -n 1000 float_phi_functions.u(400, 400)\n",
    "\n",
    "print(\"Pure phase pressure (supercritical)\")\n",
    "%timeit -n 10000 float_phi_functions.p(400, 1000)\n",
    "print(\"Pure phase energy (supercritical)\")\n",
    "%timeit -n 10000 float_phi_functions.u(400, 1000)\n"
   ]
  },
  {
   "cell_type": "code",
   "execution_count": null,
   "metadata": {},
   "outputs": [],
   "source": [
    "import pyXSteam.XSteam as XSteam\n",
    "xsteam = XSteam.XSteam()\n",
    "# Set test pressure (<100 MPa)\n",
    "rho_test = 200\n",
    "T_test = 1000\n",
    "p_test_MPa = float_phi_functions.p(rho_test, T_test)/1e6\n",
    "v_test = xsteam.v_pt(p_test_MPa, T_test)\n",
    "rho_test, 1.0/v_test"
   ]
  },
  {
   "cell_type": "code",
   "execution_count": null,
   "metadata": {},
   "outputs": [],
   "source": [
    "# Closest thing to (rho, T) -> p (no forward computation path is available).\n",
    "%timeit -n 1000 xsteam.rho_pt(p_test, T_test)"
   ]
  },
  {
   "cell_type": "code",
   "execution_count": null,
   "metadata": {},
   "outputs": [],
   "source": [
    "float_phi_functions.u(400, 1000), \\\n",
    "  float_phi_functions.u(400, 400)"
   ]
  },
  {
   "cell_type": "code",
   "execution_count": null,
   "metadata": {},
   "outputs": [],
   "source": [
    "'''Test pressure function p(rho, T) (EOS)'''\n",
    "rho_range = np.linspace(1, 1000, 256)\n",
    "T_range = np.linspace(273, 1273, 128)\n",
    "mg_T, mg_rho = np.meshgrid(T_range, rho_range)\n",
    "mg_p = np.zeros_like(mg_T)\n",
    "mg_u = np.zeros_like(mg_T)\n",
    "for i, j in np.ndindex(mg_p.shape):\n",
    "  mg_p[i,j] = float_phi_functions.p(mg_rho[i,j], mg_T[i,j])\n",
    "  mg_u[i,j] = float_phi_functions.u(mg_rho[i,j], mg_T[i,j])\n",
    "\n",
    "plt.contourf(mg_T, mg_rho, mg_p, levels=np.linspace(0, 1e8, 101))\n",
    "plt.colorbar(label=\"Pressure (Pa)\")\n",
    "plt.contour(mg_T, mg_rho, mg_p,\n",
    "  levels=[0.1e6, 4e6, 20e6, 24e6, 60e6, 240e6, 1000e6], colors=\"red\")\n",
    "plt.figure()\n",
    "plt.contourf(mg_T, mg_rho, mg_u)\n",
    "plt.colorbar(label=\"Energy (J/kg)\")\n",
    "print(\"Pressure scales up to 100 MPa; contours {0.1, 4, 20, 24, 60, 240, 1000} MPa to \" +\n",
    "  \"compare with M. Chaplin (water.lsbu.ac.uk/water/water_density.html)\")"
   ]
  },
  {
   "cell_type": "code",
   "execution_count": null,
   "metadata": {},
   "outputs": [],
   "source": [
    "'''Test saturation curve computation'''\n",
    "T_range = np.linspace(273, iapws95_light.Tc-1e-10, 100)\n",
    "sats = [*map(float_phi_functions.prho_sat_stepinfo, T_range)]\n",
    "psats, rhol, rhov, steps, res = zip(*sats)\n",
    "res_norms = np.linalg.norm(np.array(res), axis=-1)\n",
    "step_norms = np.linalg.norm(np.array(steps), axis=-1)\n",
    "plt.semilogy(T_range, step_norms, '.-')\n",
    "plt.semilogy(T_range, res_norms, '.-')\n",
    "plt.legend([\"Step size at n-1\", \"Residual at n\"])\n",
    "print(\"Last step size (2-norm) and residual of Maxwell residual (2-norm).\")"
   ]
  },
  {
   "cell_type": "code",
   "execution_count": null,
   "metadata": {},
   "outputs": [],
   "source": []
  },
  {
   "cell_type": "code",
   "execution_count": null,
   "metadata": {},
   "outputs": [],
   "source": [
    "''' Compare analytic approx sat curve with Maxwell construction'''\n",
    "# Saturated liquid density correlation (Eq. 2.3)\n",
    "_powsb = np.array([1/3, 2/3, 5/3, 16/3, 43/3, 110/3])\n",
    "_coeffsb = [1.99206, 1.10123, -5.12506e-1, -1.75263, -45.4485, -6.75615e5]\n",
    "d_satl = lambda t: 1.0 + np.dot((1.0-1.0/t)**_powsb, _coeffsb)\n",
    "# Saturated vapour density correlation (Eq. 2.2)\n",
    "_powsc = np.array([1/3, 2/3, 4/3, 9/3, 37/6, 71/6])\n",
    "_coeffsc = [-2.02957, -2.68781, -5.38107, -17.3151, -44.6384, -64.3486]\n",
    "d_satv = lambda t: np.exp(np.dot((1.0-1.0/t)**_powsc, _coeffsc))\n",
    "\n",
    "d_satl_approx = [d_satl(iapws95_light.Tc/T) for T in T_range]\n",
    "d_satv_approx = [d_satv(iapws95_light.Tc/T) for T in T_range]\n",
    "\n",
    "plt.plot(T_range, d_satl_approx, '--')\n",
    "plt.plot(T_range, d_satv_approx, '--')\n",
    "plt.plot(T_range, np.array(rhol) / iapws95_light.rhoc, '-')\n",
    "plt.plot(T_range, np.array(rhov) / iapws95_light.rhoc, '-')\n",
    "plt.title(\"Approximate and Maxwell saturation curves superimposed\")\n",
    "plt.figure()\n",
    "plt.plot(T_range, d_satl_approx - np.array(rhol) / iapws95_light.rhoc, '--')\n",
    "plt.ylabel(\"Diff d sat l\")\n",
    "plt.xlabel(\"T (K)\")\n",
    "plt.plot(T_range, d_satv_approx - np.array(rhov) / iapws95_light.rhoc, '--')\n",
    "plt.ylabel(\"Diff d sat v\")\n",
    "plt.xlabel(\"T (K)\")\n",
    "plt.legend([\"l\", \"v\"])\n",
    "plt.grid(\"both\", \"both\")\n",
    "plt.title(\"Difference in approx. and Maxwell saturation curves\")"
   ]
  },
  {
   "cell_type": "code",
   "execution_count": null,
   "metadata": {},
   "outputs": [],
   "source": [
    "''' psat - Tsat relationship '''\n",
    "plt.plot(T_range, psats, '.-')\n",
    "np.interp(iapws95_light.Tc, T_range, psats)\n",
    "plt.xlabel(\"T (K)\")\n",
    "plt.ylabel(\"p (Pa)\")"
   ]
  },
  {
   "cell_type": "code",
   "execution_count": null,
   "metadata": {},
   "outputs": [],
   "source": [
    "# Printed result from iapws95_light.phir_tt(358/iapws95_light.rhoc, iapws95_light.Tc / 647)\n",
    "z1 = [ 1.04472349e-02, -9.59990338e-01, -0.00000000e+00, -9.82559945e-02,\n",
    "  6.05860380e-02,  2.51821854e-03,  0.00000000e+00, -2.93516306e+00,\n",
    "  2.24339824e+00, -3.20137805e-03, -0.00000000e+00, -2.09177215e+00,\n",
    "  8.72348190e-01, -4.03047444e-02,  3.09004634e-05, -3.05878278e-04,\n",
    "  2.33177538e-03, -1.59981871e-04,  1.20649465e-07,  4.63477954e-06,\n",
    " -2.70141809e-10, -0.00000000e+00, -1.46532074e+00,  0.00000000e+00,\n",
    "  5.72838269e+00, -1.30232914e+01,  2.08958096e+01,  1.33104875e-02,\n",
    " -5.85067353e-01, -2.97246153e+01,  2.12596432e+01,  3.38107678e-01,\n",
    " -6.74201148e+00,  7.79491623e-01,  0.00000000e+00, -4.38150357e-02,\n",
    "  1.74736971e-01, -1.84592355e-01, -6.99666394e-02,  5.02206633e-02,\n",
    "  9.58976961e-03, -9.51939245e-04,  3.64725467e+00,  6.26876729e+00,\n",
    " -1.50680115e+01,  4.89703207e+00, -5.40449307e-03, -2.85779055e-07,\n",
    " -1.08272029e+02,  1.89163001e+02, -8.34766580e+01, -1.66045467e+02,\n",
    "  1.73093312e+02, -7.25941498e+00, -2.41084874e+00,  1.03600001e+00]\n",
    "# Printed result from float_phi_functions.phir_tt(358/iapws95_light.rhoc, iapws95_light.Tc / 647)\n",
    "z2 = [0.010447234835687661,\n",
    "-0.9599903378384489,\n",
    "-0.0,\n",
    "-0.09825599433064153,\n",
    "0.06058603807019969,\n",
    "0.002518218544455502,\n",
    "0.0,\n",
    "-2.9351630561897437,\n",
    "2.2433982442597364,\n",
    "-0.0032013780447161786,\n",
    "-0.0,\n",
    "-2.091772145304223,\n",
    "0.8723481903219628,\n",
    "-0.04030474442317951,\n",
    "3.090046336548172e-05,\n",
    "-0.00030587827833254054,\n",
    "0.0023317753858539164,\n",
    "-0.00015998187100786356,\n",
    "1.2064946503208344e-07,\n",
    "4.6347795344888724e-06,\n",
    "-2.7014180992736895e-10,\n",
    "-0.0,\n",
    "-1.4653207357712412,\n",
    "0.0,\n",
    "5.728382693436505,\n",
    "-13.023291416324133,\n",
    "20.89580962315094,\n",
    "0.01331048750233531,\n",
    "-0.5850673524083665,\n",
    "-29.72461529211912,\n",
    "21.259643161313537,\n",
    "0.33810767772846967,\n",
    "-6.742011470366356,\n",
    "0.779491623310715,\n",
    "0.0,\n",
    "-0.04381503569465125,\n",
    "0.17473697085933748,\n",
    "-0.1845923551479196,\n",
    "-0.06996663956715105,\n",
    "0.05022066332634169,\n",
    "0.00958976959560878,\n",
    "-0.0009519392430030964,\n",
    "3.647254669574024,\n",
    "6.268767295120435,\n",
    "-15.068011521512293,\n",
    "4.897032062462177,\n",
    "-0.005404493072474181,\n",
    "-2.857790548589655e-07,\n",
    "-108.27202963056544,\n",
    "189.16300090570866,\n",
    "-83.4766578353496,\n",
    "-166.04546660332667,\n",
    "173.09331149199872,\n",
    "-7.259414970645418,\n",
    "-2.410848753029746,\n",
    "1.0360000148277766]\n",
    "\n",
    "# Difference vector\n",
    "import numpy as np \n",
    "import matplotlib.pyplot as plt\n",
    "z1 = np.array(z1)\n",
    "z2 = np.array(z2)\n",
    "z1 - z2\n",
    "plt.plot(z1-z2, '.')\n",
    "plt.xlabel(\"Index\")\n",
    "plt.ylabel(\"Term diff\")\n",
    "\n",
    "plt.figure()\n",
    "plt.semilogy(np.abs(z1-z2), '.')\n",
    "plt.xlabel(\"Index\")\n",
    "plt.ylabel(\"Term diff\")\n",
    "\n",
    "plt.figure()\n",
    "plt.semilogy(np.abs(1.0-z2/z1), '.')\n",
    "plt.xlabel(\"Index\")\n",
    "plt.ylabel(\"Relative term diff\")\n",
    "\n",
    "print(\"Numerical noise (difference) between py and Cython implementations\")"
   ]
  },
  {
   "cell_type": "code",
   "execution_count": null,
   "metadata": {},
   "outputs": [],
   "source": [
    "import iapws95_light_perf\n",
    "iapws95_light_perf.print_timing()"
   ]
  },
  {
   "cell_type": "code",
   "execution_count": null,
   "metadata": {},
   "outputs": [],
   "source": [
    "import iapws95_light_perf\n",
    "iapws95_light_perf.print_verification_values()"
   ]
  },
  {
   "attachments": {},
   "cell_type": "markdown",
   "metadata": {},
   "source": [
    "## Timing for mixtureWLM"
   ]
  },
  {
   "cell_type": "code",
   "execution_count": null,
   "metadata": {},
   "outputs": [],
   "source": [
    "import line_profiler\n",
    "import mixtureWLM\n",
    "import matplotlib.pyplot as plt\n",
    "import numpy as np\n",
    "\n",
    "# f = mixtureWLM._itersolve_d\n",
    "f = mixtureWLM.solve_rhow\n",
    "profile = line_profiler.LineProfiler(f)\n",
    "profile.runcall(f, 2000, 0.5, 350)\n",
    "profile.print_stats()"
   ]
  },
  {
   "cell_type": "code",
   "execution_count": null,
   "metadata": {},
   "outputs": [],
   "source": [
    "%timeit f(2000, 0.5, 350)"
   ]
  },
  {
   "cell_type": "code",
   "execution_count": null,
   "metadata": {},
   "outputs": [],
   "source": [
    "''' Show (rho_mix, T, yw) -> rho_w calculations '''\n",
    "print(\"With a mapping from (rho_mix, T, yw) -> rho_w, one can then compute \" +\n",
    "  \"pressure from p(rho_w, T) or from pressure of the linearized magma given \" +\n",
    "  \"v_m = v - yw * v_w. Note the weak dependence on T (outer iteration loop).\")\n",
    "for i, T in enumerate([273, 350, 550, 640, 650, 750]):\n",
    "  plt.figure()\n",
    "  vec_out_d = np.array([*map(lambda rho_mix, yw: mixtureWLM.solve_rhow(rho_mix, yw, T),\n",
    "    mixtureWLM.mg_rho_mix.ravel(), mixtureWLM.mg_yw.ravel())])\n",
    "\n",
    "  # Load vector data in ndarray\n",
    "  mg_out_d = np.zeros_like(mixtureWLM.mg_yw)\n",
    "  mg_out_steps = np.zeros_like(mixtureWLM.mg_yw)\n",
    "  mg_out_d.ravel()[:] = vec_out_d.ravel()\n",
    "\n",
    "  # Plot\n",
    "  for i in range(mg_out_d.shape[0]):\n",
    "    plt.plot(mixtureWLM.mg_rho_mix[i,:], mg_out_d[i,:].ravel(), '.-')\n",
    "  xl = plt.xlabel(\"Mixture density (kg/m^3)\")\n",
    "  yl = plt.ylabel(\"Phasic density, water (kg/m^3)\")\n",
    "  plt.title(f\"T = {T} K\")\n",
    "  plt.gca().set_aspect(\"equal\")"
   ]
  },
  {
   "attachments": {},
   "cell_type": "markdown",
   "metadata": {},
   "source": [
    "## Feature Developement: Cython Atomics"
   ]
  },
  {
   "cell_type": "code",
   "execution_count": null,
   "metadata": {},
   "outputs": [],
   "source": [
    "import iapws95_light\n",
    "vectest_d, vectest_t = np.ones((1000,1)), np.ones((1000,1))\n",
    "%timeit -n 20 iapws95_light.phir_d(vectest_d, vectest_t)"
   ]
  },
  {
   "cell_type": "code",
   "execution_count": null,
   "metadata": {},
   "outputs": [],
   "source": [
    "import float_phi_functions\n",
    "%timeit -n 20 [*map(float_phi_functions.phir_d, vectest_d.ravel(), vectest_t.ravel())]"
   ]
  },
  {
   "cell_type": "code",
   "execution_count": null,
   "metadata": {},
   "outputs": [],
   "source": [
    "%timeit -n 20000 iapws95_light.phir_d(1.0, 1.0)\n",
    "%timeit -n 20000 float_phi_functions.phir_d(1.0, 1.0)"
   ]
  },
  {
   "cell_type": "code",
   "execution_count": null,
   "metadata": {},
   "outputs": [],
   "source": [
    "# Value check\n",
    "import iapws95_light\n",
    "import float_phi_functions\n",
    "iapws95_light.phir_d(1.0, 1.0), float_phi_functions.phir_d(1.0, 1.0), \\\n",
    "  iapws95_light.phir_dd(1.0, 1.0), float_phi_functions.phir_dd(1.0, 1.0), \\\n",
    "  iapws95_light.phir_d(0.7, 0.3), float_phi_functions.phir_d(0.7, 0.3), \\\n",
    "  iapws95_light.phir_dd(0.7, 0.3), float_phi_functions.phir_dd(0.7, 0.3), \\\n",
    "  float_phi_functions.fused_phir_d_phir_dd(1.0, 1.0), \\\n",
    "  float_phi_functions.fused_phir_d_phir_dd(0.7, 0.3),"
   ]
  },
  {
   "cell_type": "code",
   "execution_count": null,
   "metadata": {},
   "outputs": [],
   "source": [
    "%timeit -n 10000 float_phi_functions._dummy(0.7, 0.3)\n",
    "%timeit -n 10000 float_phi_functions.phir_d(0.7, 0.3)\n",
    "%timeit -n 10000 float_phi_functions.phir_dd(0.7, 0.3)\n",
    "%timeit -n 10000 float_phi_functions.fused_phir_d_phir_dd(0.7, 0.3)\n",
    "%timeit -n 1000 iapws95_light.phir_d(0.7, 0.3)\n",
    "%timeit -n 1000 iapws95_light.phir_dd(0.7, 0.3)"
   ]
  },
  {
   "cell_type": "code",
   "execution_count": null,
   "metadata": {},
   "outputs": [],
   "source": [
    "# Overhead measurement\n",
    "%timeit -n 500000 float_phi_functions._dummy(0.7, 0.3)"
   ]
  },
  {
   "cell_type": "code",
   "execution_count": null,
   "metadata": {},
   "outputs": [],
   "source": [
    "''' Extract table from _ndtc '''\n",
    "# np.set_printoptions(linewidth=60)\n",
    "# _ndtc.reshape((51,4))[:,0:3].ravel().shape"
   ]
  },
  {
   "cell_type": "code",
   "execution_count": null,
   "metadata": {},
   "outputs": [],
   "source": [
    "''' Single-precision testing (legacy)'''\n",
    "import single_phi_functions\n",
    "single_phi_functions.fused_phir_d_phir_dd(1.0, 1.0), \\\n",
    "  single_phi_functions.fused_phir_d_phir_dd(0.7, 0.3),\n",
    "%timeit -n 10000 single_phi_functions.phir_dd(0.7, 0.3)"
   ]
  },
  {
   "cell_type": "code",
   "execution_count": null,
   "metadata": {},
   "outputs": [],
   "source": [
    "''' Verification values for Cython implementaiton '''\n",
    "import iapws95_light_perf\n",
    "iapws95_light_perf.print_verification_values()"
   ]
  },
  {
   "attachments": {},
   "cell_type": "markdown",
   "metadata": {},
   "source": [
    "## Profiling (profiling Cython is wonky)"
   ]
  },
  {
   "cell_type": "code",
   "execution_count": null,
   "metadata": {},
   "outputs": [],
   "source": [
    "import cProfile\n",
    "cProfile.run('float_phi_functions.fused_phir_d_phir_dd(0.7, 0.3)')"
   ]
  },
  {
   "cell_type": "code",
   "execution_count": null,
   "metadata": {},
   "outputs": [],
   "source": [
    "# %load_ext line_profiler\n",
    "\n",
    "import line_profiler\n",
    "import float_phi_functions\n",
    "profile = line_profiler.LineProfiler(float_phi_functions.fused_phir_d_phir_dd)\n",
    "profile.runcall(float_phi_functions.fused_phir_d_phir_dd, 0.7, 0.3)\n",
    "profile.print_stats()\n"
   ]
  },
  {
   "cell_type": "code",
   "execution_count": null,
   "metadata": {},
   "outputs": [],
   "source": [
    "import pstats, cProfile\n",
    "cProfile.runctx(\"float_phi_functions.fused_phir_d_phir_dd(0.7, 0.3)\",\n",
    "  globals(), locals(), \"Profile.prof\")\n",
    "\n",
    "s = pstats.Stats(\"Profile.prof\")\n",
    "s.strip_dirs().sort_stats(\"time\").print_stats()"
   ]
  },
  {
   "cell_type": "code",
   "execution_count": null,
   "metadata": {},
   "outputs": [],
   "source": [
    "def test2(x, y):\n",
    "  return float_phi_functions.fused_phir_d_phir_dd(x, y)"
   ]
  },
  {
   "cell_type": "code",
   "execution_count": null,
   "metadata": {},
   "outputs": [],
   "source": [
    "profile = line_profiler.LineProfiler(test2)\n",
    "profile.runcall(test2, 0.7, 0.3)\n",
    "profile.print_stats()"
   ]
  },
  {
   "cell_type": "code",
   "execution_count": null,
   "metadata": {},
   "outputs": [],
   "source": [
    "dir(profile)"
   ]
  },
  {
   "cell_type": "code",
   "execution_count": null,
   "metadata": {},
   "outputs": [],
   "source": [
    "%load_ext line_profiler\n",
    "import float_phi_functions\n",
    "import IPython.core\n",
    "IPython.core.page = print"
   ]
  },
  {
   "cell_type": "code",
   "execution_count": null,
   "metadata": {},
   "outputs": [],
   "source": [
    "%lprun -f float_phi_functions.fused_phir_d_phir_dd float_phi_functions.fused_phir_d_phir_dd(0.7, 0.3)"
   ]
  },
  {
   "attachments": {},
   "cell_type": "markdown",
   "metadata": {},
   "source": [
    "## Feature Development: Saturation Curve"
   ]
  },
  {
   "cell_type": "code",
   "execution_count": null,
   "metadata": {},
   "outputs": [],
   "source": [
    "# Saul and Wagner 1987\n",
    "\n",
    "# Context: (rho, T) -> p_sat by Maxwell construction\n",
    "t = iapws95_light.Tc / T_ref\n",
    "rho = rho_ref\n",
    "\n",
    "# Saturated liquid density correlation (2.3)\n",
    "_powsb = np.array([1/3, 2/3, 5/3, 16/3, 43/3, 110/3])\n",
    "_coeffsb = [1.99206, 1.10123, -5.12506e-1, -1.75263, -45.4485, -6.75615e5]\n",
    "d1 = 1.0 + np.dot((1.0-1.0/t)**_powsb, _coeffsb)\n",
    "# Saturated vapour density correlation (2.2)\n",
    "_powsc = np.array([1/3, 2/3, 4/3, 9/3, 37/6, 71/6])\n",
    "_coeffsc = [-2.02957, -2.68781, -5.38107, -17.3151, -44.6384, -64.3486]\n",
    "d2 = np.exp(np.dot((1.0-1.0/t)**_powsc, _coeffsc))\n",
    "\n",
    "# Define size-2 system for d-bounds on phase transition (Maxwell construction)\n",
    "phir_d = lambda d: iapws95_light.phir_d(d, t)\n",
    "phir = lambda d: iapws95_light.phir(d, t)\n",
    "phi0 = lambda d: iapws95_light.phi0(d, t)\n",
    "eq1 = lambda d1, d2: d2 * phir_d(d2) - d1 * phir_d(d1) - phir(d1) - phi0(d1) +phir(d2) + phi0(d2)\n",
    "eq2 = lambda d1, d2: d1 + d1**2 * phir_d(d1) - d2 - d2**2 * phir_d(d2)\n",
    "eqvec = lambda d: np.array([eq1(d[0], d[1]), eq2(d[0], d[1])]).squeeze()\n",
    "\n",
    "# Solve system using fsolve, initial guess using older sat curve correlations\n",
    "import scipy.optimize\n",
    "d_init = np.array([d1, d2])\n",
    "d_final = scipy.optimize.fsolve(eqvec, d_init)\n",
    "print(\"Init, final, residuals:\")\n",
    "print(d_init, d_final, eqvec(d_final))\n",
    "\n",
    "# Get saturation densities at given T\n",
    "rho_l, rho_v = d_final * iapws95_light.rhoc\n",
    "\n",
    "# Use either for saturation pressure\n",
    "psat = d_final[0]*(1.0 + d_final[0]*iapws95_light.phir_d(d_final[0], t)) \\\n",
    "  * iapws95_light.rhoc * iapws95_light.R * T_ref\n",
    "# p = d_final[1]*(1.0 + d_final[1]*iapws95_light.phir_d(d_final[1], t)) \\\n",
    "  # * iapws95_light.rhoc * iapws95_light.R * T_ref\n",
    "p = psat\n",
    "print(f\"psat = {psat}\")\n",
    "\n",
    "# context: \n",
    "if rho <= rho_l and rho >= rho_v:\n",
    "  # Return saturation pressure\n",
    "  print(f\"Mixture\")\n",
    "elif rho < rho_v:\n",
    "  rho = rho_v/iapws95_light.rhoc\n",
    "else:\n",
    "  rho = rho_l/iapws95_light.rhoc"
   ]
  },
  {
   "cell_type": "code",
   "execution_count": null,
   "metadata": {},
   "outputs": [],
   "source": [
    "# Saturation pressure recovery check\n",
    "d_final[0]*(1.0 + d_final[0]*iapws95_light.phir_d(d_final[0], t)) * iapws95_light.rhoc * iapws95_light.R * T_ref, \\\n",
    "  d_final[1]*(1.0 + d_final[1]*iapws95_light.phir_d(d_final[1], t)) * iapws95_light.rhoc * iapws95_light.R * T_ref"
   ]
  },
  {
   "cell_type": "code",
   "execution_count": null,
   "metadata": {},
   "outputs": [],
   "source": [
    "# Get rho bounds given T\n",
    "rho_bounds = d_final * iapws95_light.rhoc\n",
    "rho_l = rho_bounds[0]\n",
    "rho_v = rho_bounds[1]\n",
    "# Context: (p, T) -> rho\n",
    "rho = rho_ref\n",
    "\n",
    "# Use either for saturation pressure\n",
    "psat = d_final[0]*(1.0 + d_final[0]*iapws95_light.phir_d(d_final[0], t)) \\\n",
    "  * iapws95_light.rhoc * iapws95_light.R * T_ref\n",
    "# p = d_final[1]*(1.0 + d_final[1]*iapws95_light.phir_d(d_final[1], t)) \\\n",
    "  # * iapws95_light.rhoc * iapws95_light.R * T_ref\n",
    "p = psat\n",
    "print(f\"psat = {psat}\")\n",
    "\n",
    "if rho <= rho_l and rho >= rho_v:\n",
    "  # Return saturation pressure\n",
    "  print(f\"Mixture\")\n",
    "elif rho < rho_v:\n",
    "  rho = rho_v/iapws95_light.rhoc\n",
    "else:\n",
    "  rho = rho_l/iapws95_light.rhoc\n",
    "\n",
    "print(d)\n",
    "for i in range(5):\n",
    "  val = - p / (iapws95_light.rhoc * iapws95_light.R * T_ref) + d + d **2 * iapws95_light.phir_d(d, t)\n",
    "  deriv = 1 + 2 * d * iapws95_light.phir_d(d, t) + d**2 * iapws95_light.phir_dd(d, t)\n",
    "  d -= val / deriv\n",
    "  print(d)\n",
    "print(d * iapws95_light.rhoc)"
   ]
  },
  {
   "attachments": {},
   "cell_type": "markdown",
   "metadata": {},
   "source": [
    "## Structure development"
   ]
  },
  {
   "cell_type": "code",
   "execution_count": null,
   "metadata": {},
   "outputs": [],
   "source": [
    "import csv\n",
    "import numpy as np\n",
    "\n",
    "''' Data loading ''' \n",
    "\n",
    "DATAPATH_IDEAL = 'ideal.csv'\n",
    "DATAPATH_RES0 = 'residual_1_51.csv'\n",
    "DATAPATH_RES1 = 'residual_52_54.csv'\n",
    "DATAPATH_RES2 = 'residual_55_56.csv'\n",
    "\n",
    "with open(DATAPATH_IDEAL, newline='') as csvfile:\n",
    "  reader = csv.DictReader(csvfile, delimiter='\\t')\n",
    "  ideal_arraydict = [row for row in reader]\n",
    "\n",
    "with open(DATAPATH_RES0, newline='') as csvfile:\n",
    "  reader = csv.DictReader(csvfile, delimiter='\\t')\n",
    "  residual0_arraydict = [row for row in reader]\n",
    "\n",
    "with open(DATAPATH_RES1, newline='') as csvfile:\n",
    "  reader = csv.DictReader(csvfile, delimiter='\\t')\n",
    "  residual1_arraydict = [row for row in reader]\n",
    "\n",
    "with open(DATAPATH_RES2, newline='') as csvfile:\n",
    "  reader = csv.DictReader(csvfile, delimiter='\\t')\n",
    "  residual2_arraydict = [row for row in reader]\n",
    "\n",
    "''' Data prep '''\n",
    "n_ideal = np.array([float(obj[\"n_i\"]) for obj in ideal_arraydict])\n",
    "g_ideal = np.array([float(obj[\"g_i\"]) for obj in ideal_arraydict])\n",
    "\n",
    "# Compile shared residual coefficients\n",
    "n_res = np.hstack(([float(obj[\"n_i\"]) for obj in residual0_arraydict],\n",
    "  [float(obj[\"n_i\"]) for obj in residual1_arraydict],\n",
    "  [float(obj[\"n_i\"]) for obj in residual2_arraydict]))\n",
    "d_res = np.hstack(([float(obj[\"d_i\"]) for obj in residual0_arraydict],\n",
    "  [float(obj[\"d_i\"]) for obj in residual1_arraydict],\n",
    "  [1.0 for obj in residual2_arraydict]))\n",
    "t_res = np.hstack(([float(obj[\"t_i\"]) for obj in residual0_arraydict],\n",
    "  [float(obj[\"t_i\"]) for obj in residual1_arraydict],\n",
    "  [0.0 for obj in residual2_arraydict]))\n",
    "\n",
    "c_res1_51 = np.array([float(obj[\"c_i\"]) for obj in residual0_arraydict])\n",
    "\n",
    "c_res52_54 = np.array([float(obj[\"c_i\"]) for obj in residual1_arraydict])\n",
    "alpha_res52_54 = np.array([float(obj[\"alpha_i\"]) for obj in residual1_arraydict])\n",
    "beta_res52_54 = np.array([float(obj[\"beta_i\"]) for obj in residual1_arraydict])\n",
    "gamma_res52_54 = np.array([float(obj[\"gamma_i\"]) for obj in residual1_arraydict])\n",
    "eps_res52_54 = np.array([float(obj[\"eps_i\"]) for obj in residual1_arraydict])\n",
    "\n",
    "a_res55_56 = np.array([float(obj[\"a_i\"]) for obj in residual2_arraydict])\n",
    "b_res55_56 = np.array([float(obj[\"b_i\"]) for obj in residual2_arraydict])\n",
    "B_res55_56 = np.array([float(obj[\"B_i\"]) for obj in residual2_arraydict])\n",
    "C_res55_56 = np.array([float(obj[\"C_i\"]) for obj in residual2_arraydict])\n",
    "D_res55_56 = np.array([float(obj[\"D_i\"]) for obj in residual2_arraydict])\n",
    "A_res55_56 = np.array([float(obj[\"A_i\"]) for obj in residual2_arraydict])\n",
    "beta_res55_56 = np.array([float(obj[\"beta_i\"]) for obj in residual2_arraydict])\n",
    "\n",
    "''' Set up static parameters '''\n",
    "Tc = 647.096  # K\n",
    "rhoc = 322    # kg / m^3\n",
    "R = 0.46151805 # kJ / kg K\n",
    "# Generic precomputation\n",
    "_exp1_55_56 = 0.5 / (beta_res55_56)"
   ]
  },
  {
   "cell_type": "code",
   "execution_count": null,
   "metadata": {},
   "outputs": [],
   "source": [
    "''' Simulate input '''\n",
    "rho = 838.025\n",
    "T = 500\n",
    "\n",
    "rho = 358\n",
    "T = 647"
   ]
  },
  {
   "cell_type": "code",
   "execution_count": null,
   "metadata": {},
   "outputs": [],
   "source": [
    "''' Compute reduced variables '''\n",
    "\n",
    "# Reciprocal reduced volume\n",
    "d = rho / rhoc\n",
    "# Reciprocal reduced temperature\n",
    "t = Tc / T"
   ]
  },
  {
   "cell_type": "code",
   "execution_count": null,
   "metadata": {},
   "outputs": [],
   "source": [
    "def phi(d, t):\n",
    "  ''' Reduced Helmholtz function f/(RT). ''' \n",
    "\n",
    "  # Scalar precomputation\n",
    "  d_quad = (d-1.0)**2\n",
    "\n",
    "  ''' Ideal-gas part of Helmholtz function f '''\n",
    "  phi0 = np.log(d) + n_ideal[0] + n_ideal[1] * t + n_ideal[2] * np.log(t)\n",
    "  phi0 += np.dot(n_ideal[3:8], np.log(1.0 - np.exp(-g_ideal[3:8] * t)))\n",
    "\n",
    "  ''' Residual part of Helmholtz function f\n",
    "  Evaluated using two registers that combine as\n",
    "    np.dot( coeffs, np.exp(exponents) ).\n",
    "  '''\n",
    "  # Allocate exponent cache\n",
    "  exponents = np.zeros_like(n_res)\n",
    "  # Allocate and evaluate coeffs\n",
    "  coeffs = n_res * (d ** d_res) * (t ** t_res)\n",
    "\n",
    "  # Compute distance term for 1-indices 55 to 56\n",
    "  theta = (1 - t) + A_res55_56 * d_quad ** _exp1_55_56\n",
    "  Delta = theta**2 + B_res55_56 * d_quad ** a_res55_56\n",
    "  # Factor in Delta**b_i term for 1-indices from 55 to 56\n",
    "  coeffs[54:56] *= Delta ** b_res55_56\n",
    "\n",
    "  # Compute exponents for 1-indices 8 to 51 as -d**c_i\n",
    "  exponents[7:51] = -d ** c_res1_51[7:51]\n",
    "  # Compute exponents for 1-indices from 52 to 54\n",
    "  exponents[51:54] = -alpha_res52_54 * (d - eps_res52_54) ** 2 \\\n",
    "    -beta_res52_54*(t - gamma_res52_54)**2\n",
    "  # Compute exponents for 1-indices from 55 to 56\n",
    "  exponents[54:56] = -C_res55_56 * d_quad \\\n",
    "    -D_res55_56*(t - 1)**2\n",
    "\n",
    "  # Compute residual part of reduced Helmholtz\n",
    "  phir = np.dot(coeffs, np.exp(exponents))\n",
    "\n",
    "  return (phi0, phir)\n",
    "\n",
    "def Z(d, t):\n",
    "  ''' Compressibility factor evaluation\n",
    "  The compressibility factor Z is given by\n",
    "    Z == p * v / (R * T) = 1 + delta * d(phi_R)/d(delta),\n",
    "  where d(phi_R)/d(delta) is the partial derivative of the residual\n",
    "  part of the reduced Helmholtz function, with respect to d = rho/rhoc.\n",
    "  Evaluated using two registers that combine as\n",
    "    np.dot( coeffs, np.exp(exponents) ).\n",
    "  '''\n",
    "\n",
    "  # Scalar precomputation\n",
    "  d_quad = (d-1)**2\n",
    "\n",
    "  # Allocate exponent cache\n",
    "  exponents = np.zeros_like(n_res)\n",
    "  # Allocate and partially evaluate coeffs\n",
    "  coeffs = n_res * (d ** (d_res-1)) * (t ** t_res)\n",
    "  # Factor in d_i - c_i * d**c_i term\n",
    "  coeffs[0:51] *= (d_res[0:51] - c_res1_51 * d ** c_res1_51)\n",
    "  coeffs[51:54] *= d_res[51:54] - 2.0 * alpha_res52_54 * d * (d - eps_res52_54)\n",
    "\n",
    "  # Compute distance term for 1-indices 55 to 56\n",
    "  theta = (1 - t) + A_res55_56 * d_quad ** _exp1_55_56\n",
    "  Delta = theta**2 + B_res55_56 * d_quad ** a_res55_56\n",
    "  # Factor in other terms for 1-indices from 55 to 56 in two steps\n",
    "  coeffs[54:56] *= (\n",
    "    Delta * (1.0 - 2.0 * C_res55_56 * (d-1.0) * d)\n",
    "    + b_res55_56 * d * (d-1.0) * (\n",
    "      A_res55_56 * theta * 2 / beta_res55_56 * d_quad**(_exp1_55_56 - 1.0)\n",
    "      + 2 * B_res55_56 * a_res55_56 * d_quad**(a_res55_56 - 1.0)\n",
    "    )\n",
    "  )\n",
    "  coeffs[54:56] *= Delta ** np.where(Delta != 0, b_res55_56-1, 1.0)\n",
    "\n",
    "  # Compute exponents for 1-indices 8 to 51 as -d**c_i\n",
    "  exponents[7:51] = -d ** c_res1_51[7:51]\n",
    "  # Compute exponents for 1-indices from 52 to 54\n",
    "  exponents[51:54] = -alpha_res52_54 * (d - eps_res52_54) ** 2 \\\n",
    "    -beta_res52_54*(t - gamma_res52_54)**2\n",
    "  # Compute exponents for 1-indices from 55 to 56\n",
    "  exponents[54:56] = -C_res55_56 * d_quad \\\n",
    "    -D_res55_56*(t - 1)**2\n",
    "\n",
    "  # Reduce\n",
    "  phir_d = np.dot(coeffs, np.exp(exponents))\n",
    "  return 1 + d * phir_d\n"
   ]
  },
  {
   "cell_type": "code",
   "execution_count": null,
   "metadata": {},
   "outputs": [],
   "source": [
    "''' Compute reduced variables '''\n",
    "# Reciprocal reduced volume\n",
    "d = rho / rhoc\n",
    "# Reciprocal reduced temperature\n",
    "t = Tc / T\n",
    "\n",
    "# phi, phir_d, Z\n",
    "print(f\"phi0 = {phi(d, t)[0]:.8f}, phir = {phi(d, t)[1]:.8f}, phir_d = {(Z(d, t) - 1)/d:.9f}\")\n",
    "\n",
    "# Print verification values\n",
    "verification_string = '''\n",
    "For T = 647 K, rho = 358 kg m^{-3}:\n",
    "phi0 = -1.56319605\n",
    "phir = -1.21202657\n",
    "phir_d = -0.714012024\n",
    "'''\n",
    "print(verification_string)\n"
   ]
  },
  {
   "cell_type": "code",
   "execution_count": null,
   "metadata": {},
   "outputs": [],
   "source": [
    "from time import perf_counter\n",
    "\n",
    "print(f\"Timing p(rho, T) calculations.\")\n",
    "# Timing for pressure evaluation\n",
    "N_timing = 25000\n",
    "t1 = perf_counter()\n",
    "for i in range(N_timing):\n",
    "  p = Z(rho / rhoc, Tc / T) * rho * R * T\n",
    "t2 = perf_counter()\n",
    "\n",
    "t1_ideal = perf_counter()\n",
    "for i in range(N_timing):\n",
    "  p_ideal = rho * R * T\n",
    "t2_ideal = perf_counter()\n",
    "\n",
    "print(f\"IAPWS95 light: {(t2-t1)/N_timing * 1e3} ms\")\n",
    "print(f\"Ideal gas    : {(t2_ideal-t1_ideal)/N_timing * 1e3} ms\")\n",
    "print(f\"Relative load: {(t2-t1)/(t2_ideal-t1_ideal):.3f}x\")\n",
    "\n",
    "num_coeffs = 44*4 + 21 + 21 + 16 + 13\n",
    "print(f\"=== Additional details ===\")\n",
    "print(f\"Number of coefficients in model: {num_coeffs}\")\n",
    "print(f\"Relative load per model dof:     {(t2-t1)/(t2_ideal-t1_ideal)/num_coeffs:.3f}x\")"
   ]
  },
  {
   "cell_type": "code",
   "execution_count": null,
   "metadata": {},
   "outputs": [],
   "source": [
    "def phi0_t(d, t):\n",
    "  ''' Ideal-gas part of Helmholtz function f '''\n",
    "  phi0 = n_ideal[1] + n_ideal[2] / t\n",
    "  phi0 += np.expand_dims(np.einsum(\"i, ...i -> ...\", n_ideal[3:8] * g_ideal[3:8],\n",
    "    1.0/(1.0 - np.exp(-g_ideal[3:8] * t)) - 1.0), axis=-1)\n",
    "\n",
    "  # Reduce\n",
    "  return phi0\n",
    "\n",
    "def phir_t(d, t):\n",
    "  ''' Derivative of reduced Helmholtz function with respect to recip. reduced\n",
    "  temperature.\n",
    "  '''\n",
    "\n",
    "  # Scalar precomputation\n",
    "  d_quad = (d-1)**2\n",
    "  # Allocate and partially evaluate coeffs\n",
    "  coeffs = n_res * (d ** d_res) * (t ** (t_res-1.0))\n",
    "  # Factor for 1-indices 1 to 51\n",
    "  coeffs[...,0:51] *= t_res[0:51]\n",
    "  # Factor in d_i - c_i * d**c_i term for 1-indices 52 to 54\n",
    "  coeffs[...,51:54] *= t_res[51:54] - 2.0 * beta_res52_54 * t * (t - gamma_res52_54)\n",
    "\n",
    "  # Compute distance term for 1-indices 55 to 56\n",
    "  theta = (1 - t) + A_res55_56 * d_quad ** _exp1_55_56\n",
    "  Delta = theta**2 + B_res55_56 * d_quad ** a_res55_56\n",
    "  # Replace (t_res is zero, so coeffs[54:56] contains invalid entries) for\n",
    "  #   1-indices from 55 to 56 in two steps\n",
    "  coeffs[...,54:56] = n_res[54:56] * d * 2.0 * (\n",
    "    -theta * b_res55_56 + Delta * D_res55_56 * (1.0 - t))\n",
    "  coeffs[...,54:56] *= Delta ** np.where(Delta != 0, b_res55_56-1, 1.0)\n",
    "\n",
    "  # Allocate exponent cache\n",
    "  exponents = np.zeros_like(coeffs)\n",
    "  # Compute exponents for 1-indices 8 to 51 as -d**c_i\n",
    "  exponents[...,7:51] = -d ** c_res1_51[7:51]\n",
    "  # Compute exponents for 1-indices from 52 to 54\n",
    "  exponents[...,51:54] = -alpha_res52_54 * (d - eps_res52_54) ** 2 \\\n",
    "    -beta_res52_54*(t - gamma_res52_54)**2\n",
    "  # Compute exponents for 1-indices from 55 to 56\n",
    "  exponents[...,54:56] = -C_res55_56 * d_quad \\\n",
    "    -D_res55_56*(t - 1)**2\n",
    "\n",
    "  # Reduce\n",
    "  return np.expand_dims(np.einsum(\"...i, ...i -> ...\",\n",
    "    coeffs, np.exp(exponents)), axis=-1)"
   ]
  },
  {
   "cell_type": "code",
   "execution_count": null,
   "metadata": {},
   "outputs": [],
   "source": [
    "phi0_t(d, t), 0.980_343_918e1, phir_t(d, t), -0.321_722_501e1"
   ]
  },
  {
   "cell_type": "code",
   "execution_count": null,
   "metadata": {},
   "outputs": [],
   "source": [
    "_input = np.tile(np.array([t]), (10,1))\n",
    "_input.shape"
   ]
  },
  {
   "cell_type": "code",
   "execution_count": null,
   "metadata": {},
   "outputs": [],
   "source": [
    "phir_t(np.tile(np.array([d]), (10,1)), np.tile(np.array([t]), (10,1)))\n",
    "phir_t(d, t)"
   ]
  },
  {
   "cell_type": "code",
   "execution_count": null,
   "metadata": {},
   "outputs": [],
   "source": [
    "_exp1_55_56"
   ]
  },
  {
   "cell_type": "code",
   "execution_count": null,
   "metadata": {},
   "outputs": [],
   "source": [
    "def phir_dd(d, t):\n",
    "  ''' Second derivative dd of reduced Helmholtz function with respect to recip. reduced\n",
    "  temperature.\n",
    "  '''\n",
    "\n",
    "  # Scalar precomputation\n",
    "  d_quad = (d-1)**2\n",
    "  # Allocate and partially evaluate coeffs\n",
    "  coeffs = n_res * (d ** (d_res-2.0)) * (t ** t_res)\n",
    "  # Temporary space\n",
    "  cdc = c_res1_51 * (d ** c_res1_51)\n",
    "  # Factor for 1-indices 1 to 51\n",
    "  coeffs[...,0:51] *= (d_res[0:51] - cdc) * (d_res[0:51] - 1.0 - cdc) \\\n",
    "    - c_res1_51 * cdc\n",
    "  # Factor for 1-indices 52 to 54\n",
    "  coeffs[...,51:54] *= -2 * alpha_res52_54 * d**2 \\\n",
    "    + 4 * alpha_res52_54**2 * d**2 * (d - eps_res52_54)**2 \\\n",
    "    - 4 * d_res[51:54] * alpha_res52_54 * d * (d - eps_res52_54) \\\n",
    "    + d_res[51:54] * (d_res[51:54] - 1.0)\n",
    "\n",
    "  # Compute distance term for 1-indices 55 to 56\n",
    "  theta = (1.0 - t) + A_res55_56 * d_quad ** _exp1_55_56\n",
    "  Delta = theta**2 + B_res55_56 * d_quad ** a_res55_56\n",
    "  # Compute d(Delta)/d(delta) divided by (delta - 1.0)\n",
    "  dDelta_div = (\n",
    "    A_res55_56 * theta * 2.0 / beta_res55_56 * d_quad**(_exp1_55_56 - 1.0)\n",
    "    + 2 * B_res55_56 * a_res55_56 * d_quad**(a_res55_56 - 1.0)\n",
    "  )\n",
    "  # Set power to non-negative when argument is negative\n",
    "  limited_power = np.where(d_quad != 0, _exp1_55_56 - 2.0, 1.0)\n",
    "  ddDelta = dDelta_div + ((d-1.0)**2) * (\n",
    "    4.0 * B_res55_56 * a_res55_56 * (a_res55_56 - 1.0)\n",
    "    * d_quad**(a_res55_56 - 2.0)\n",
    "    + 2.0 * (A_res55_56 / beta_res55_56 * d_quad**(_exp1_55_56 - 1.0))**2.0\n",
    "    + 4.0 * theta * A_res55_56 / beta_res55_56 * (_exp1_55_56 - 1.0)\n",
    "    * d_quad**limited_power\n",
    "  )\n",
    "  # Finish d(Delta)/d(delta) computation\n",
    "  dDelta = (d-1.0) * dDelta_div\n",
    "  # Replace (t_res is zero, so coeffs[54:56] contains invalid entries) for\n",
    "  #   1-indices from 55 to 56\n",
    "  coeffs[...,54:56] = Delta**2 * (-4 * C_res55_56 * (d-1.0) \n",
    "    + d * (2*C_res55_56*d_quad - 1.0) * 2.0 * C_res55_56)\n",
    "  coeffs[...,54:56] += Delta * 2.0 * b_res55_56 * dDelta \\\n",
    "    * (1.0 - 2.0 * d * C_res55_56 * (d - 1.0))\n",
    "  coeffs[...,54:56] += b_res55_56 * (Delta * ddDelta\n",
    "    + (b_res55_56 - 1.0) * dDelta**2) * d\n",
    "  coeffs[...,54:56] *= n_res[54:56] \\\n",
    "    * Delta ** np.where(Delta != 0, b_res55_56 - 2.0, 1.0)\n",
    "\n",
    "  # Allocate exponent cache\n",
    "  exponents = np.zeros_like(coeffs)\n",
    "  # Compute exponents for 1-indices 8 to 51 as -d**c_i\n",
    "  exponents[...,7:51] = -cdc[7:51] / c_res1_51[7:51]\n",
    "  # Compute exponents for 1-indices from 52 to 54\n",
    "  exponents[...,51:54] = -alpha_res52_54 * (d - eps_res52_54) ** 2 \\\n",
    "    -beta_res52_54*(t - gamma_res52_54)**2\n",
    "  # Compute exponents for 1-indices from 55 to 56\n",
    "  exponents[...,54:56] = -C_res55_56 * d_quad \\\n",
    "    -D_res55_56*(t - 1.0)**2\n",
    "\n",
    "  # Reduce\n",
    "  return np.expand_dims(np.einsum(\"...i, ...i -> ...\",\n",
    "    coeffs, np.exp(exponents)), axis=-1)\n",
    "\n",
    "def phir_dt(d, t):\n",
    "  ''' Second derivative dt of reduced Helmholtz function with respect to recip. reduced\n",
    "  temperature.\n",
    "  '''\n",
    "\n",
    "  # Scalar precomputation\n",
    "  d_quad = (d-1)**2\n",
    "  # Allocate and partially evaluate coeffs\n",
    "  coeffs = n_res * (d ** (d_res-1.0)) * (t ** (t_res-1.0))\n",
    "  dc = d ** c_res1_51\n",
    "  # Factor for 1-indices 1 to 51\n",
    "  coeffs[...,0:51] *= t_res[0:51] * (d_res[0:51] - c_res1_51 * dc)\n",
    "  # Factor for 1-indices 52 to 54\n",
    "  coeffs[...,51:54] *= d_res[51:54] - 2.0 * alpha_res52_54 * d * (d - eps_res52_54)\n",
    "  coeffs[...,51:54] *= t_res[51:54] - 2.0 * beta_res52_54 * t * (t - gamma_res52_54)\n",
    "\n",
    "  # Compute distance term for 1-indices 55 to 56\n",
    "  theta = (1 - t) + A_res55_56 * d_quad ** _exp1_55_56\n",
    "  Delta = theta**2 + B_res55_56 * d_quad ** a_res55_56\n",
    "  # Compute d(Delta)/d(delta)\n",
    "  dDelta = (d-1.0) * (\n",
    "    A_res55_56 * theta * 2.0 / beta_res55_56 * d_quad**(_exp1_55_56 - 1.0)\n",
    "    + 2.0 * B_res55_56 * a_res55_56 * d_quad**(a_res55_56 - 1.0)\n",
    "  )\n",
    "  # Replace (t_res is zero, so coeffs[54:56] contains invalid entries) for\n",
    "  #   1-indices from 55 to 56 in two steps\n",
    "  coeffs[...,54:56] = n_res[54:56] * (\n",
    "    Delta**2 * (-2.0 * D_res55_56 * (t - 1.0) + d * 4.0 * C_res55_56 *\n",
    "    D_res55_56 * (d - 1.0) * (t - 1.0))\n",
    "    + d * Delta * b_res55_56 * dDelta * (-2.0 * D_res55_56 * (t - 1.0))\n",
    "    - 2.0 * theta * b_res55_56 * Delta * (1.0 - 2.0*d*C_res55_56*(d - 1.0))\n",
    "    + d * (\n",
    "      -A_res55_56 * b_res55_56 * 2.0 / beta_res55_56 * Delta * (d - 1.0)\n",
    "      * d_quad ** (_exp1_55_56 - 1.0)\n",
    "      - 2.0 * theta * b_res55_56 * (b_res55_56 -1.0) * dDelta\n",
    "    )\n",
    "  )\n",
    "  coeffs[...,54:56] *= Delta ** np.where(Delta != 0, b_res55_56 - 2.0, 1.0)\n",
    "\n",
    "  # Allocate exponent cache\n",
    "  exponents = np.zeros_like(coeffs)\n",
    "  # Compute exponents for 1-indices 8 to 51 as -d**c_i\n",
    "  exponents[...,7:51] = -dc[7:51]\n",
    "  # Compute exponents for 1-indices from 52 to 54\n",
    "  exponents[...,51:54] = -alpha_res52_54 * (d - eps_res52_54) ** 2 \\\n",
    "    -beta_res52_54*(t - gamma_res52_54)**2\n",
    "  # Compute exponents for 1-indices from 55 to 56\n",
    "  exponents[...,54:56] = -C_res55_56 * d_quad \\\n",
    "    -D_res55_56*(t - 1.0)**2\n",
    "\n",
    "  # Reduce\n",
    "  return np.expand_dims(np.einsum(\"...i, ...i -> ...\",\n",
    "    coeffs, np.exp(exponents)), axis=-1)\n",
    "\n",
    "def phir_tt(d, t):\n",
    "  ''' Second derivative tt of reduced Helmholtz function with respect to recip. reduced\n",
    "  temperature.\n",
    "  '''\n",
    "\n",
    "  # Scalar precomputation\n",
    "  d_quad = (d-1)**2\n",
    "  # Allocate and partially evaluate coeffs\n",
    "  coeffs = n_res * (d ** d_res) * (t ** (t_res-2.0))\n",
    "  # Factor for 1-indices 1 to 51\n",
    "  coeffs[...,0:51] *= t_res[0:51] * (t_res[0:51] - 1.0)\n",
    "  # Factor for 1-indices 52 to 54\n",
    "  coeffs[...,51:54] *= (t_res[51:54] - 2.0 * beta_res52_54 * t * \n",
    "    (t - gamma_res52_54))**2 - t_res[51:54] - 2.0 * beta_res52_54 * t**2\n",
    "\n",
    "  # Compute distance term for 1-indices 55 to 56\n",
    "  theta = (1.0 - t) + A_res55_56 * d_quad ** _exp1_55_56\n",
    "  Delta = theta**2 + B_res55_56 * d_quad ** a_res55_56\n",
    "  # Replace (t_res is zero, so coeffs[54:56] contains invalid entries) for\n",
    "  #   1-indices from 55 to 56 in two steps\n",
    "  coeffs[...,54:56] = n_res[54:56] * d * (\n",
    "    2.0 * b_res55_56 * (Delta + 2.0 * theta**2 * (b_res55_56 - 1.0)\n",
    "    + 4.0 * theta * Delta * D_res55_56 * (t - 1.0))\n",
    "    + Delta ** 2 * 2.0 * D_res55_56 * (2.0*D_res55_56 * (t - 1.0)**2 - 1.0)\n",
    "  )\n",
    "  coeffs[...,54:56] *= Delta ** np.where(Delta != 0, b_res55_56 - 2.0, 1.0)\n",
    "  # Set phir_tt at rho == 1 to -inf gracefully\n",
    "  coeffs[...,54:56] = np.where(Delta != 0, coeffs[...,54:56], -np.inf)\n",
    "\n",
    "  # Allocate exponent cache\n",
    "  exponents = np.zeros_like(coeffs)\n",
    "  # Compute exponents for 1-indices 8 to 51 as -d**c_i\n",
    "  exponents[...,7:51] = -d ** c_res1_51[7:51]\n",
    "  # Compute exponents for 1-indices from 52 to 54\n",
    "  exponents[...,51:54] = -alpha_res52_54 * (d - eps_res52_54) ** 2 \\\n",
    "    -beta_res52_54*(t - gamma_res52_54)**2\n",
    "  # Compute exponents for 1-indices from 55 to 56\n",
    "  exponents[...,54:56] = -C_res55_56 * d_quad \\\n",
    "    -D_res55_56*(t - 1.0)**2\n",
    "\n",
    "  # Reduce\n",
    "  return np.expand_dims(np.einsum(\"...i, ...i -> ...\",\n",
    "    coeffs, np.exp(exponents)), axis=-1)"
   ]
  },
  {
   "cell_type": "code",
   "execution_count": null,
   "metadata": {},
   "outputs": [],
   "source": [
    "b_res55_56[0] * (2.0 * Delta +\n",
    "  4.0 * theta ** 2 * (b_res55_56[0] - 1.0))"
   ]
  },
  {
   "cell_type": "code",
   "execution_count": null,
   "metadata": {},
   "outputs": [],
   "source": [
    "2.0 * b_res55_56[0] * Delta, \\\n",
    "  4.0 * theta ** 2 * b_res55_56[0] * (b_res55_56[0] - 1.0), \\\n",
    "  8.0 * theta * b_res55_56[0] * Delta * D_res55_56[0] * (t - 1.0), \\\n",
    "  Delta ** 2 * 2.0 * D_res55_56[0] * (2.0*D_res55_56[0] * (t - 1.0)**2 - 1.0), \\\n",
    "  n_res[54] * d * Delta ** (b_res55_56[0] - 2.0) * np.exp(-C_res55_56[0] * d_quad \\\n",
    "    -D_res55_56[0]*(t - 1.0)**2)\n"
   ]
  },
  {
   "cell_type": "code",
   "execution_count": null,
   "metadata": {},
   "outputs": [],
   "source": [
    "d, t = 1.0-1e-10, 1.05\n",
    "d_quad = (d-1.0)**2\n",
    "theta = (1.0 - t) + A_res55_56[0] * d_quad ** _exp1_55_56[0]\n",
    "Delta = theta**2 + B_res55_56[0] * d_quad ** a_res55_56[0]\n",
    "n_res[54] * d * (\n",
    "    2.0 * b_res55_56[0] * Delta\n",
    "    + 4.0 * theta ** 2 * b_res55_56[0] * (b_res55_56[0] - 1.0)\n",
    "    + 8.0 * theta * b_res55_56[0] * Delta * D_res55_56[0] * (t - 1.0)\n",
    "    + Delta ** 2 * 2.0 * D_res55_56[0] * (2.0*D_res55_56[0] * (t - 1.0)**2 - 1.0)\n",
    "  ) * Delta ** (b_res55_56[0] - 2.0) * np.exp(-C_res55_56[0] * d_quad \\\n",
    "    -D_res55_56[0]*(t - 1.0)**2)\n",
    "    \n",
    "    \n",
    "    \n",
    "    # , Delta ** (b_res55_56[0] - 2.0), np.exp(-C_res55_56[0] * d_quad \\\n",
    "    # -D_res55_56[0]*(t - 1.0)**2)"
   ]
  },
  {
   "cell_type": "code",
   "execution_count": null,
   "metadata": {},
   "outputs": [],
   "source": [
    "rhoc"
   ]
  },
  {
   "cell_type": "code",
   "execution_count": null,
   "metadata": {},
   "outputs": [],
   "source": [
    "-R*phir_tt(321.999/rhoc, 1)[0]"
   ]
  },
  {
   "cell_type": "code",
   "execution_count": null,
   "metadata": {},
   "outputs": [],
   "source": [
    "# Limit testing\n",
    "eps_like = 1e-5\n",
    "print(phir_dd(1-eps_like, 1)[0], phir_dt(1-eps_like, 1)[0], phir_tt(1-eps_like, 1.)[0])\n",
    "print(phir_dd(1, 1)[0], phir_dt(1, 1)[0], phir_tt(1, 1.)[0])\n",
    "print(phir_dd(1+eps_like, 1)[0], phir_dt(1+eps_like, 1)[0], phir_tt(1+eps_like, 1.)[0])"
   ]
  },
  {
   "cell_type": "code",
   "execution_count": null,
   "metadata": {},
   "outputs": [],
   "source": [
    "phir_dd(d, t)[0], 0.475_730_696, phir_tt(d, t)[0], -0.996_029_507e1, phir_dt(d, t)[0], -0.133_214_720e1, "
   ]
  },
  {
   "cell_type": "markdown",
   "metadata": {},
   "source": [
    "###  Free evaluation"
   ]
  },
  {
   "cell_type": "code",
   "execution_count": null,
   "metadata": {},
   "outputs": [],
   "source": [
    "''' Helmholtz evaluation ''' \n",
    "\n",
    "''' Ideal-gas part of Helmholtz function f '''\n",
    "phi0 = np.log(d) + n_ideal[0] + n_ideal[1] * t + n_ideal[2] * np.log(t)\n",
    "phi0 += np.dot(n_ideal[3:8], np.log(1.0 - np.exp(-g_ideal[3:8] * t)))\n",
    "\n",
    "''' Residual part of Helmholtz function f\n",
    "Evaluated using two registers that combine as\n",
    "  np.dot( coeffs, np.exp(exponents) ).\n",
    "'''\n",
    "\n",
    "# Scalar precomputation\n",
    "d_quad = (d-1)**2\n",
    "\n",
    "# Allocate exponent cache\n",
    "exponents = np.zeros_like(n_res)\n",
    "# Allocate and evaluate coeffs\n",
    "coeffs = n_res * (d ** d_res) * (t ** t_res)\n",
    "\n",
    "# Compute distance term for 1-indices 55 to 56\n",
    "theta = (1 - t) + A_res55_56 * d_quad ** _exp1_55_56\n",
    "Delta = theta**2 + B_res55_56 * d_quad ** a_res55_56\n",
    "\n",
    "# Factor in Delta**b_i term for 1-indices from 55 to 56\n",
    "coeffs[54:56] *= Delta ** b_res55_56\n",
    "\n",
    "# Compute exponents for 1-indices 8 to 51 as -d**c_i\n",
    "exponents[7:51] = -d ** c_res1_51[7:51]\n",
    "# Compute exponents for 1-indices from 52 to 54\n",
    "exponents[51:54] = -alpha_res52_54 * (d - eps_res52_54) ** 2 \\\n",
    "  -beta_res52_54*(t - gamma_res52_54)**2\n",
    "# Compute exponents for 1-indices from 55 to 56\n",
    "exponents[54:56] = -C_res55_56 * d_quad \\\n",
    "  -D_res55_56*(t - 1)**2\n",
    "\n",
    "# Add residual part\n",
    "phir = np.dot(coeffs, np.exp(exponents))"
   ]
  },
  {
   "cell_type": "code",
   "execution_count": null,
   "metadata": {},
   "outputs": [],
   "source": [
    "''' Compressibility factor evaluation\n",
    "The compressibility factor Z is given by\n",
    "  Z == p * v / (R * T) = 1 + delta * d(phi_R)/d(delta).\n",
    "''' \n",
    "\n",
    "''' Partial derivative of residual part of Helmholtz function.\n",
    "Evaluated using two registers that combine as\n",
    "  np.dot( coeffs, np.exp(exponents) ).\n",
    "'''\n",
    "\n",
    "# Scalar precomputation\n",
    "d_quad = (d-1)**2\n",
    "\n",
    "# Allocate exponent cache\n",
    "exponents = np.zeros_like(n_res)\n",
    "# Allocate and partially evaluate coeffs\n",
    "coeffs = n_res * (d ** (d_res-1)) * (t ** t_res)\n",
    "\n",
    "# Compute distance term for 1-indices 55 to 56\n",
    "theta = (1 - t) + A_res55_56 * d_quad ** _exp1_55_56\n",
    "Delta = theta**2 + B_res55_56 * d_quad ** a_res55_56\n",
    "\n",
    "# Factor in d_i - c_i * d**c_i term\n",
    "coeffs[0:51] *= (d_res[0:51] - c_res1_51 * d ** c_res1_51)\n",
    "coeffs[51:54] *= d_res[51:54] - 2.0 * alpha_res52_54 * d * (d - eps_res52_54)\n",
    "# Factor in other terms for 1-indices from 55 to 56 in two steps\n",
    "coeffs[54:56] *= (\n",
    "  Delta * (1.0 - 2.0 * C_res55_56 * (d-1.0) * d)\n",
    "  + b_res55_56 * d * (d-1.0) * (\n",
    "    A_res55_56 * theta * 2 / beta_res55_56 * d_quad**(_exp1_55_56 - 1.0)\n",
    "    + 2 * B_res55_56 * a_res55_56 * d_quad**(a_res55_56 - 1.0)\n",
    "  )\n",
    ")\n",
    "coeffs[54:56] *= Delta ** np.where(Delta != 0, b_res55_56-1, 1.0)\n",
    "\n",
    "# Compute exponents for 1-indices 8 to 51 as -d**c_i\n",
    "exponents[7:51] = -d ** c_res1_51[7:51]\n",
    "# Compute exponents for 1-indices from 52 to 54\n",
    "exponents[51:54] = -alpha_res52_54 * (d - eps_res52_54) ** 2 \\\n",
    "  -beta_res52_54*(t - gamma_res52_54)**2\n",
    "# Compute exponents for 1-indices from 55 to 56\n",
    "exponents[54:56] = -C_res55_56 * d_quad \\\n",
    "  -D_res55_56*(t - 1)**2\n",
    "\n",
    "# Reduce\n",
    "phir_d = np.dot(coeffs, np.exp(exponents))\n",
    "Z = 1 + d * phir_d"
   ]
  }
 ],
 "metadata": {
  "kernelspec": {
   "display_name": "Python 3.8.3 64-bit",
   "language": "python",
   "name": "python3"
  },
  "language_info": {
   "codemirror_mode": {
    "name": "ipython",
    "version": 3
   },
   "file_extension": ".py",
   "mimetype": "text/x-python",
   "name": "python",
   "nbconvert_exporter": "python",
   "pygments_lexer": "ipython3",
   "version": "3.8.3"
  },
  "orig_nbformat": 4,
  "vscode": {
   "interpreter": {
    "hash": "d3b55c328c36168f3a6229c37fd25db278b1a41b93c10c98692f80b48f757e96"
   }
  }
 },
 "nbformat": 4,
 "nbformat_minor": 2
}
